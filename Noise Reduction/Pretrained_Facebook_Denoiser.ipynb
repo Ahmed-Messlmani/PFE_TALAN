{
  "nbformat": 4,
  "nbformat_minor": 5,
  "metadata": {
    "kernelspec": {
      "display_name": "Python 3",
      "language": "python",
      "name": "python3"
    },
    "language_info": {
      "codemirror_mode": {
        "name": "ipython",
        "version": 3
      },
      "file_extension": ".py",
      "mimetype": "text/x-python",
      "name": "python",
      "nbconvert_exporter": "python",
      "pygments_lexer": "ipython3",
      "version": "3.7.9"
    },
    "colab": {
      "name": "Pretrained_Facebook_Denoiser.ipynb",
      "provenance": [],
      "collapsed_sections": []
    }
  },
  "cells": [
    {
      "cell_type": "code",
      "metadata": {
        "colab": {
          "base_uri": "https://localhost:8080/"
        },
        "id": "wdi_mwKtgWBG",
        "outputId": "ede3727b-5bf7-4d7f-cf5f-ab08f6518a8b"
      },
      "source": [
        "!pip install torchaudio "
      ],
      "id": "wdi_mwKtgWBG",
      "execution_count": null,
      "outputs": [
        {
          "output_type": "stream",
          "text": [
            "Collecting torchaudio\n",
            "\u001b[?25l  Downloading https://files.pythonhosted.org/packages/aa/55/01ad9244bcd595e39cea5ce30726a7fe02fd963d07daeb136bfe7e23f0a5/torchaudio-0.8.1-cp37-cp37m-manylinux1_x86_64.whl (1.9MB)\n",
            "\u001b[K     |████████████████████████████████| 1.9MB 7.9MB/s \n",
            "\u001b[?25hRequirement already satisfied: torch==1.8.1 in /usr/local/lib/python3.7/dist-packages (from torchaudio) (1.8.1+cu101)\n",
            "Requirement already satisfied: typing-extensions in /usr/local/lib/python3.7/dist-packages (from torch==1.8.1->torchaudio) (3.7.4.3)\n",
            "Requirement already satisfied: numpy in /usr/local/lib/python3.7/dist-packages (from torch==1.8.1->torchaudio) (1.19.5)\n",
            "Installing collected packages: torchaudio\n",
            "Successfully installed torchaudio-0.8.1\n"
          ],
          "name": "stdout"
        }
      ]
    },
    {
      "cell_type": "code",
      "metadata": {
        "id": "cdd11e63"
      },
      "source": [
        "# Copyright (c) Facebook, Inc. and its affiliates.\n",
        "# All rights reserved.\n",
        "#\n",
        "# This source code is licensed under the license found in the\n",
        "# LICENSE file in the root directory of this source tree.\n",
        "# author: adiyoss\n",
        "\n",
        "import argparse\n",
        "from concurrent.futures import ProcessPoolExecutor\n",
        "from collections import namedtuple\n",
        "from pathlib import Path\n",
        "from torch.nn import functional as F\n",
        "import json\n",
        "import logging\n",
        "import os\n",
        "import sys\n",
        "import math\n",
        "import torch\n",
        "import torchaudio\n",
        "from torch import nn\n",
        "from torch.utils.data.distributed import DistributedSampler\n",
        "from torch.utils.data import DataLoader, Subset\n",
        "from torch.nn.parallel.distributed import DistributedDataParallel\n",
        "\n",
        "import logging\n",
        "\n",
        "import torch.hub\n",
        "\n",
        "\n",
        "\n",
        "logger = logging.getLogger(__name__)\n"
      ],
      "id": "cdd11e63",
      "execution_count": null,
      "outputs": []
    },
    {
      "cell_type": "code",
      "metadata": {
        "colab": {
          "base_uri": "https://localhost:8080/"
        },
        "id": "K-sCTZYodaqE",
        "outputId": "6187f8fa-6571-4dd8-e735-d5b126e8a3ee"
      },
      "source": [
        "from google.colab import drive\n",
        "drive.mount('/content/drive')"
      ],
      "id": "K-sCTZYodaqE",
      "execution_count": null,
      "outputs": [
        {
          "output_type": "stream",
          "text": [
            "Mounted at /content/drive\n"
          ],
          "name": "stdout"
        }
      ]
    },
    {
      "cell_type": "markdown",
      "metadata": {
        "id": "a6v67bxW7ZSO"
      },
      "source": [
        "# Testing"
      ],
      "id": "a6v67bxW7ZSO"
    },
    {
      "cell_type": "code",
      "metadata": {
        "id": "pS35XlYd3eV6"
      },
      "source": [
        "import math\n",
        "\n",
        "import torch as th\n",
        "from torch.nn import functional as F\n",
        "\n",
        "\n",
        "def sinc(t):\n",
        "    \"\"\"sinc.\n",
        "    :param t: the input tensor\n",
        "    \"\"\"\n",
        "    return th.where(t == 0, th.tensor(1., device=t.device, dtype=t.dtype), th.sin(t) / t)\n",
        "\n",
        "\n",
        "def kernel_upsample2(zeros=56):\n",
        "    \"\"\"kernel_upsample2.\n",
        "    \"\"\"\n",
        "    win = th.hann_window(4 * zeros + 1, periodic=False)\n",
        "    winodd = win[1::2]\n",
        "    t = th.linspace(-zeros + 0.5, zeros - 0.5, 2 * zeros)\n",
        "    t *= math.pi\n",
        "    kernel = (sinc(t) * winodd).view(1, 1, -1)\n",
        "    return kernel\n",
        "\n",
        "\n",
        "def upsample2(x, zeros=56):\n",
        "    \"\"\"\n",
        "    Upsampling the input by 2 using sinc interpolation.\n",
        "    Smith, Julius, and Phil Gossett. \"A flexible sampling-rate conversion method.\"\n",
        "    ICASSP'84. IEEE International Conference on Acoustics, Speech, and Signal Processing.\n",
        "    Vol. 9. IEEE, 1984.\n",
        "    \"\"\"\n",
        "    *other, time = x.shape\n",
        "    kernel = kernel_upsample2(zeros).to(x)\n",
        "    out = F.conv1d(x.view(-1, 1, time), kernel, padding=zeros)[..., 1:].view(*other, time)\n",
        "    y = th.stack([x, out], dim=-1)\n",
        "    return y.view(*other, -1)\n",
        "\n",
        "\n",
        "def kernel_downsample2(zeros=56):\n",
        "    \"\"\"kernel_downsample2.\n",
        "    \"\"\"\n",
        "    win = th.hann_window(4 * zeros + 1, periodic=False)\n",
        "    winodd = win[1::2]\n",
        "    t = th.linspace(-zeros + 0.5, zeros - 0.5, 2 * zeros)\n",
        "    t.mul_(math.pi)\n",
        "    kernel = (sinc(t) * winodd).view(1, 1, -1)\n",
        "    return kernel\n",
        "\n",
        "\n",
        "def downsample2(x, zeros=56):\n",
        "    \"\"\"\n",
        "    Downsampling the input by 2 using sinc interpolation.\n",
        "    Smith, Julius, and Phil Gossett. \"A flexible sampling-rate conversion method.\"\n",
        "    ICASSP'84. IEEE International Conference on Acoustics, Speech, and Signal Processing.\n",
        "    Vol. 9. IEEE, 1984.\n",
        "    \"\"\"\n",
        "    if x.shape[-1] % 2 != 0:\n",
        "        x = F.pad(x, (0, 1))\n",
        "    xeven = x[..., ::2]\n",
        "    xodd = x[..., 1::2]\n",
        "    *other, time = xodd.shape\n",
        "    kernel = kernel_downsample2(zeros).to(x)\n",
        "    out = xeven + F.conv1d(xodd.view(-1, 1, time), kernel, padding=zeros)[..., :-1].view(\n",
        "        *other, time)\n",
        "    return out.view(*other, -1).mul(0.5)"
      ],
      "id": "pS35XlYd3eV6",
      "execution_count": null,
      "outputs": []
    },
    {
      "cell_type": "code",
      "metadata": {
        "id": "IJaEdYhufrB8"
      },
      "source": [
        "class BLSTM(nn.Module):\n",
        "    def __init__(self, dim, layers=2, bi=True):\n",
        "        super().__init__()\n",
        "        klass = nn.LSTM\n",
        "        self.lstm = klass(bidirectional=bi, num_layers=layers, hidden_size=dim, input_size=dim)\n",
        "        self.linear = None\n",
        "        if bi:\n",
        "            self.linear = nn.Linear(2 * dim, dim)\n",
        "\n",
        "    def forward(self, x, hidden=None):\n",
        "        x, hidden = self.lstm(x, hidden)\n",
        "        if self.linear:\n",
        "            x = self.linear(x)\n",
        "        return x, hidden\n",
        "\n",
        "\n",
        "def rescale_conv(conv, reference):\n",
        "    std = conv.weight.std().detach()\n",
        "    scale = (std / reference)**0.5\n",
        "    conv.weight.data /= scale\n",
        "    if conv.bias is not None:\n",
        "        conv.bias.data /= scale\n",
        "\n",
        "\n",
        "def rescale_module(module, reference):\n",
        "    for sub in module.modules():\n",
        "        if isinstance(sub, (nn.Conv1d, nn.ConvTranspose1d)):\n",
        "            rescale_conv(sub, reference)\n",
        "class Demucs(nn.Module):\n",
        "    \"\"\"\n",
        "    Demucs speech enhancement model.\n",
        "    Args:\n",
        "        - chin (int): number of input channels.\n",
        "        - chout (int): number of output channels.\n",
        "        - hidden (int): number of initial hidden channels.\n",
        "        - depth (int): number of layers.\n",
        "        - kernel_size (int): kernel size for each layer.\n",
        "        - stride (int): stride for each layer.\n",
        "        - causal (bool): if false, uses BiLSTM instead of LSTM.\n",
        "        - resample (int): amount of resampling to apply to the input/output.\n",
        "            Can be one of 1, 2 or 4.\n",
        "        - growth (float): number of channels is multiplied by this for every layer.\n",
        "        - max_hidden (int): maximum number of channels. Can be useful to\n",
        "            control the size/speed of the model.\n",
        "        - normalize (bool): if true, normalize the input.\n",
        "        - glu (bool): if true uses GLU instead of ReLU in 1x1 convolutions.\n",
        "        - rescale (float): controls custom weight initialization.\n",
        "            See https://arxiv.org/abs/1911.13254.\n",
        "        - floor (float): stability flooring when normalizing.\n",
        "    \"\"\"\n",
        "    def __init__(self,\n",
        "                 chin=1,\n",
        "                 chout=1,\n",
        "                 hidden=64,\n",
        "                 depth=5,\n",
        "                 kernel_size=8,\n",
        "                 stride=4,\n",
        "                 causal=True,\n",
        "                 resample=4,\n",
        "                 growth=2,\n",
        "                 max_hidden=10_000,\n",
        "                 normalize=True,\n",
        "                 glu=True,\n",
        "                 rescale=0.1,\n",
        "                 floor=1e-3):\n",
        "\n",
        "        super().__init__()\n",
        "        if resample not in [1, 2, 4]:\n",
        "            raise ValueError(\"Resample should be 1, 2 or 4.\")\n",
        "\n",
        "        self.chin = chin\n",
        "        self.chout = chout\n",
        "        self.hidden = hidden\n",
        "        self.depth = depth\n",
        "        self.kernel_size = kernel_size\n",
        "        self.stride = stride\n",
        "        self.causal = causal\n",
        "        self.floor = floor\n",
        "        self.resample = resample\n",
        "        self.normalize = normalize\n",
        "\n",
        "        self.encoder = nn.ModuleList()\n",
        "        self.decoder = nn.ModuleList()\n",
        "        activation = nn.GLU(1) if glu else nn.ReLU()\n",
        "        ch_scale = 2 if glu else 1\n",
        "\n",
        "        for index in range(depth):\n",
        "            encode = []\n",
        "            encode += [\n",
        "                nn.Conv1d(chin, hidden, kernel_size, stride),\n",
        "                nn.ReLU(),\n",
        "                nn.Conv1d(hidden, hidden * ch_scale, 1), activation,\n",
        "            ]\n",
        "            self.encoder.append(nn.Sequential(*encode))\n",
        "\n",
        "            decode = []\n",
        "            decode += [\n",
        "                nn.Conv1d(hidden, ch_scale * hidden, 1), activation,\n",
        "                nn.ConvTranspose1d(hidden, chout, kernel_size, stride),\n",
        "            ]\n",
        "            if index > 0:\n",
        "                decode.append(nn.ReLU())\n",
        "            self.decoder.insert(0, nn.Sequential(*decode))\n",
        "            chout = hidden\n",
        "            chin = hidden\n",
        "            hidden = min(int(growth * hidden), max_hidden)\n",
        "\n",
        "        self.lstm = BLSTM(chin, bi=not causal)\n",
        "        if rescale:\n",
        "            rescale_module(self, reference=rescale)\n",
        "\n",
        "    def valid_length(self, length):\n",
        "        \"\"\"\n",
        "        Return the nearest valid length to use with the model so that\n",
        "        there is no time steps left over in a convolutions, e.g. for all\n",
        "        layers, size of the input - kernel_size % stride = 0.\n",
        "        If the mixture has a valid length, the estimated sources\n",
        "        will have exactly the same length.\n",
        "        \"\"\"\n",
        "        length = math.ceil(length * self.resample)\n",
        "        for idx in range(self.depth):\n",
        "            length = math.ceil((length - self.kernel_size) / self.stride) + 1\n",
        "            length = max(length, 1)\n",
        "        for idx in range(self.depth):\n",
        "            length = (length - 1) * self.stride + self.kernel_size\n",
        "        length = int(math.ceil(length / self.resample))\n",
        "        return int(length)\n",
        "\n",
        "    \n",
        "    def total_stride(self):\n",
        "        return self.stride ** self.depth // self.resample\n",
        "\n",
        "    def forward(self, mix):\n",
        "        if mix.dim() == 2:\n",
        "            mix = mix.unsqueeze(1)\n",
        "\n",
        "        if self.normalize:\n",
        "            mono = mix.mean(dim=1, keepdim=True)\n",
        "            std = mono.std(dim=-1, keepdim=True)\n",
        "            mix = mix / (self.floor + std)\n",
        "        else:\n",
        "            std = 1\n",
        "        length = mix.shape[-1]\n",
        "        x = mix\n",
        "        x = F.pad(x, (0, self.valid_length(length) - length))\n",
        "        if self.resample == 2:\n",
        "            x = upsample2(x)\n",
        "        elif self.resample == 4:\n",
        "            x = upsample2(x)\n",
        "            x = upsample2(x)\n",
        "        skips = []\n",
        "        for encode in self.encoder:\n",
        "            x = encode(x)\n",
        "            skips.append(x)\n",
        "        x = x.permute(2, 0, 1)\n",
        "        x, _ = self.lstm(x)\n",
        "        x = x.permute(1, 2, 0)\n",
        "        for decode in self.decoder:\n",
        "            skip = skips.pop(-1)\n",
        "            x = x + skip[..., :x.shape[-1]]\n",
        "            x = decode(x)\n",
        "        if self.resample == 2:\n",
        "            x = downsample2(x)\n",
        "        elif self.resample == 4:\n",
        "            x = downsample2(x)\n",
        "            x = downsample2(x)\n",
        "\n",
        "        x = x[..., :length]\n",
        "        return std * x\n"
      ],
      "id": "IJaEdYhufrB8",
      "execution_count": null,
      "outputs": []
    },
    {
      "cell_type": "code",
      "metadata": {
        "id": "T__LMRtCdvVm"
      },
      "source": [
        "def get_model():\n",
        "  DNS_64_URL= \"https://dl.fbaipublicfiles.com/adiyoss/denoiser/dns64-a7761ff99a7d5bb6.th\"\n",
        "  model = Demucs()\n",
        "  state_dict = torch.hub.load_state_dict_from_url(DNS_64_URL, map_location='cpu')\n",
        "  model.load_state_dict(state_dict)\n",
        "  #model = _demucs(DNS_64_URL, hidden=64)\n",
        "  return model\n"
      ],
      "id": "T__LMRtCdvVm",
      "execution_count": null,
      "outputs": []
    },
    {
      "cell_type": "code",
      "metadata": {
        "id": "Kzk9dQo-hNJZ"
      },
      "source": [
        "model=get_model()\n"
      ],
      "id": "Kzk9dQo-hNJZ",
      "execution_count": null,
      "outputs": []
    },
    {
      "cell_type": "code",
      "metadata": {
        "id": "eFMo_q9g_PJz"
      },
      "source": [
        "inp, sr = torchaudio.load(\"/content/drive/MyDrive/Projet Fin D'etude/CNN Noise Reduction Test/fourth noisy.wav\", frame_offset=0, num_frames=-1)"
      ],
      "id": "eFMo_q9g_PJz",
      "execution_count": null,
      "outputs": []
    },
    {
      "cell_type": "code",
      "metadata": {
        "id": "NfvB5-ruDylw"
      },
      "source": [
        "output=model(inp)"
      ],
      "id": "NfvB5-ruDylw",
      "execution_count": null,
      "outputs": []
    },
    {
      "cell_type": "code",
      "metadata": {
        "id": "V53DTpDlAAHj"
      },
      "source": [
        "inp=torch.squeeze(inp)"
      ],
      "id": "V53DTpDlAAHj",
      "execution_count": null,
      "outputs": []
    },
    {
      "cell_type": "code",
      "metadata": {
        "id": "tZCts1CSFWCG"
      },
      "source": [
        "output=torch.squeeze(output)"
      ],
      "id": "tZCts1CSFWCG",
      "execution_count": null,
      "outputs": []
    },
    {
      "cell_type": "code",
      "metadata": {
        "colab": {
          "base_uri": "https://localhost:8080/",
          "height": 133
        },
        "id": "B-OYQxu3AgT2",
        "outputId": "d62782c5-b8cd-4acc-b545-0e3a2369bb24"
      },
      "source": [
        "import IPython.display as ipd\n",
        "ipd.display(ipd.Audio(data=inp, rate=sr))\n",
        "ipd.display(ipd.Audio(data=output.detach().numpy(), rate=sr))"
      ],
      "id": "B-OYQxu3AgT2",
      "execution_count": null,
      "outputs": [
        {
          "output_type": "display_data",
          "data": {
            "text/html": [
              "\n",
              "                <audio controls=\"controls\" >\n",
              "                    <source src=\"data:audio/wav;base64,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\" type=\"audio/wav\" />\n",
              "                    Your browser does not support the audio element.\n",
              "                </audio>\n",
              "              "
            ],
            "text/plain": [
              "<IPython.lib.display.Audio object>"
            ]
          },
          "metadata": {
            "tags": []
          }
        },
        {
          "output_type": "display_data",
          "data": {
            "text/html": [
              "\n",
              "                <audio controls=\"controls\" >\n",
              "                    <source src=\"data:audio/wav;base64,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\" type=\"audio/wav\" />\n",
              "                    Your browser does not support the audio element.\n",
              "                </audio>\n",
              "              "
            ],
            "text/plain": [
              "<IPython.lib.display.Audio object>"
            ]
          },
          "metadata": {
            "tags": []
          }
        }
      ]
    }
  ]
}