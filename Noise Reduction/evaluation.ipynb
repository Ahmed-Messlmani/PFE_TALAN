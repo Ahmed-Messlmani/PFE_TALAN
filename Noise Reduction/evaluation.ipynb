{
 "cells": [
  {
   "cell_type": "code",
   "execution_count": 247,
   "id": "df12dcc8",
   "metadata": {},
   "outputs": [],
   "source": [
    "import warnings\n",
    "warnings.filterwarnings(\"ignore\")"
   ]
  },
  {
   "cell_type": "code",
   "execution_count": 248,
   "id": "6d3ddfc4",
   "metadata": {},
   "outputs": [],
   "source": [
    "import tensorflow as tf\n",
    "tf.compat.v1.enable_eager_execution()"
   ]
  },
  {
   "cell_type": "code",
   "execution_count": 10,
   "id": "f23aadd7",
   "metadata": {},
   "outputs": [
    {
     "ename": "NameError",
     "evalue": "name 'tf' is not defined",
     "output_type": "error",
     "traceback": [
      "\u001b[1;31m---------------------------------------------------------------------------\u001b[0m",
      "\u001b[1;31mNameError\u001b[0m                                 Traceback (most recent call last)",
      "\u001b[1;32m<ipython-input-10-4fd15d6b04b7>\u001b[0m in \u001b[0;36m<module>\u001b[1;34m\u001b[0m\n\u001b[0;32m      5\u001b[0m \u001b[1;32mimport\u001b[0m \u001b[0mlibrosa\u001b[0m\u001b[1;33m\u001b[0m\u001b[1;33m\u001b[0m\u001b[0m\n\u001b[0;32m      6\u001b[0m \u001b[1;31m#tf.compat.v1.enable_eager_execution()\u001b[0m\u001b[1;33m\u001b[0m\u001b[1;33m\u001b[0m\u001b[1;33m\u001b[0m\u001b[0m\n\u001b[1;32m----> 7\u001b[1;33m \u001b[0mprint\u001b[0m\u001b[1;33m(\u001b[0m\u001b[0mtf\u001b[0m\u001b[1;33m.\u001b[0m\u001b[0m__version__\u001b[0m\u001b[1;33m)\u001b[0m\u001b[1;33m\u001b[0m\u001b[1;33m\u001b[0m\u001b[0m\n\u001b[0m\u001b[0;32m      8\u001b[0m \u001b[0mprint\u001b[0m\u001b[1;33m(\u001b[0m\u001b[0mtf\u001b[0m\u001b[1;33m.\u001b[0m\u001b[0mexecuting_eagerly\u001b[0m\u001b[1;33m(\u001b[0m\u001b[1;33m)\u001b[0m\u001b[1;33m)\u001b[0m\u001b[1;33m\u001b[0m\u001b[1;33m\u001b[0m\u001b[0m\n\u001b[0;32m      9\u001b[0m \u001b[1;32mimport\u001b[0m \u001b[0mtensorflow\u001b[0m \u001b[1;32mas\u001b[0m \u001b[0mtf\u001b[0m\u001b[1;33m\u001b[0m\u001b[1;33m\u001b[0m\u001b[0m\n",
      "\u001b[1;31mNameError\u001b[0m: name 'tf' is not defined"
     ]
    }
   ],
   "source": [
    "import scipy\n",
    "from scipy import signal\n",
    "import IPython.display as ipd\n",
    "import numpy as np\n",
    "import librosa\n",
    "#tf.compat.v1.enable_eager_execution()\n",
    "print(tf.__version__)\n",
    "print(tf.executing_eagerly())\n",
    "import tensorflow as tf\n",
    "from tensorflow.python.keras import backend as K\n",
    "\n",
    "# adjust values to your needs\n",
    "config = tf.compat.v1.ConfigProto( device_count = {'GPU': 1 , 'CPU': 8} )\n",
    "sess = tf.compat.v1.Session(config=config) \n",
    "K.set_session(sess)"
   ]
  },
  {
   "cell_type": "code",
   "execution_count": 287,
   "id": "7cdb78bb",
   "metadata": {},
   "outputs": [
    {
     "ename": "RuntimeError",
     "evalue": "Device placement logging must be set at program startup",
     "output_type": "error",
     "traceback": [
      "\u001b[1;31m---------------------------------------------------------------------------\u001b[0m",
      "\u001b[1;31mRuntimeError\u001b[0m                              Traceback (most recent call last)",
      "\u001b[1;32m<ipython-input-287-2ae89efbba03>\u001b[0m in \u001b[0;36m<module>\u001b[1;34m\u001b[0m\n\u001b[1;32m----> 1\u001b[1;33m \u001b[0mtf\u001b[0m\u001b[1;33m.\u001b[0m\u001b[0mdebugging\u001b[0m\u001b[1;33m.\u001b[0m\u001b[0mset_log_device_placement\u001b[0m\u001b[1;33m(\u001b[0m\u001b[1;32mFalse\u001b[0m\u001b[1;33m)\u001b[0m\u001b[1;33m\u001b[0m\u001b[1;33m\u001b[0m\u001b[0m\n\u001b[0m\u001b[0;32m      2\u001b[0m \u001b[1;33m\u001b[0m\u001b[0m\n\u001b[0;32m      3\u001b[0m \u001b[1;31m# Create some tensors\u001b[0m\u001b[1;33m\u001b[0m\u001b[1;33m\u001b[0m\u001b[1;33m\u001b[0m\u001b[0m\n\u001b[0;32m      4\u001b[0m \u001b[0ma\u001b[0m \u001b[1;33m=\u001b[0m \u001b[0mtf\u001b[0m\u001b[1;33m.\u001b[0m\u001b[0mconstant\u001b[0m\u001b[1;33m(\u001b[0m\u001b[1;33m[\u001b[0m\u001b[1;33m[\u001b[0m\u001b[1;36m1.0\u001b[0m\u001b[1;33m,\u001b[0m \u001b[1;36m2.0\u001b[0m\u001b[1;33m,\u001b[0m \u001b[1;36m3.0\u001b[0m\u001b[1;33m]\u001b[0m\u001b[1;33m,\u001b[0m \u001b[1;33m[\u001b[0m\u001b[1;36m4.0\u001b[0m\u001b[1;33m,\u001b[0m \u001b[1;36m5.0\u001b[0m\u001b[1;33m,\u001b[0m \u001b[1;36m6.0\u001b[0m\u001b[1;33m]\u001b[0m\u001b[1;33m]\u001b[0m\u001b[1;33m)\u001b[0m\u001b[1;33m\u001b[0m\u001b[1;33m\u001b[0m\u001b[0m\n\u001b[0;32m      5\u001b[0m \u001b[0mb\u001b[0m \u001b[1;33m=\u001b[0m \u001b[0mtf\u001b[0m\u001b[1;33m.\u001b[0m\u001b[0mconstant\u001b[0m\u001b[1;33m(\u001b[0m\u001b[1;33m[\u001b[0m\u001b[1;33m[\u001b[0m\u001b[1;36m1.0\u001b[0m\u001b[1;33m,\u001b[0m \u001b[1;36m2.0\u001b[0m\u001b[1;33m]\u001b[0m\u001b[1;33m,\u001b[0m \u001b[1;33m[\u001b[0m\u001b[1;36m3.0\u001b[0m\u001b[1;33m,\u001b[0m \u001b[1;36m4.0\u001b[0m\u001b[1;33m]\u001b[0m\u001b[1;33m,\u001b[0m \u001b[1;33m[\u001b[0m\u001b[1;36m5.0\u001b[0m\u001b[1;33m,\u001b[0m \u001b[1;36m6.0\u001b[0m\u001b[1;33m]\u001b[0m\u001b[1;33m]\u001b[0m\u001b[1;33m)\u001b[0m\u001b[1;33m\u001b[0m\u001b[1;33m\u001b[0m\u001b[0m\n",
      "\u001b[1;32mF:\\anaconda3\\envs\\waveunet\\lib\\site-packages\\tensorflow\\python\\eager\\context.py\u001b[0m in \u001b[0;36mset_log_device_placement\u001b[1;34m(enabled)\u001b[0m\n\u001b[0;32m   1536\u001b[0m     \u001b[0menabled\u001b[0m\u001b[1;33m:\u001b[0m \u001b[0mWhether\u001b[0m \u001b[0mto\u001b[0m \u001b[0menabled\u001b[0m \u001b[0mdevice\u001b[0m \u001b[0mplacement\u001b[0m \u001b[0mlogging\u001b[0m\u001b[1;33m.\u001b[0m\u001b[1;33m\u001b[0m\u001b[1;33m\u001b[0m\u001b[0m\n\u001b[0;32m   1537\u001b[0m   \"\"\"\n\u001b[1;32m-> 1538\u001b[1;33m   \u001b[0mcontext\u001b[0m\u001b[1;33m(\u001b[0m\u001b[1;33m)\u001b[0m\u001b[1;33m.\u001b[0m\u001b[0mlog_device_placement\u001b[0m \u001b[1;33m=\u001b[0m \u001b[0menabled\u001b[0m\u001b[1;33m\u001b[0m\u001b[1;33m\u001b[0m\u001b[0m\n\u001b[0m\u001b[0;32m   1539\u001b[0m \u001b[1;33m\u001b[0m\u001b[0m\n\u001b[0;32m   1540\u001b[0m \u001b[1;33m\u001b[0m\u001b[0m\n",
      "\u001b[1;32mF:\\anaconda3\\envs\\waveunet\\lib\\site-packages\\tensorflow\\python\\eager\\context.py\u001b[0m in \u001b[0;36mlog_device_placement\u001b[1;34m(self, enabled)\u001b[0m\n\u001b[0;32m   1235\u001b[0m     \u001b[1;32mif\u001b[0m \u001b[0mself\u001b[0m\u001b[1;33m.\u001b[0m\u001b[0m_context_handle\u001b[0m \u001b[1;32mis\u001b[0m \u001b[1;32mnot\u001b[0m \u001b[1;32mNone\u001b[0m\u001b[1;33m:\u001b[0m\u001b[1;33m\u001b[0m\u001b[1;33m\u001b[0m\u001b[0m\n\u001b[0;32m   1236\u001b[0m       raise RuntimeError(\n\u001b[1;32m-> 1237\u001b[1;33m           \"Device placement logging must be set at program startup\")\n\u001b[0m\u001b[0;32m   1238\u001b[0m \u001b[1;33m\u001b[0m\u001b[0m\n\u001b[0;32m   1239\u001b[0m     \u001b[0mself\u001b[0m\u001b[1;33m.\u001b[0m\u001b[0m_log_device_placement\u001b[0m \u001b[1;33m=\u001b[0m \u001b[0menabled\u001b[0m\u001b[1;33m\u001b[0m\u001b[1;33m\u001b[0m\u001b[0m\n",
      "\u001b[1;31mRuntimeError\u001b[0m: Device placement logging must be set at program startup"
     ]
    }
   ],
   "source": [
    "#tf.debugging.set_log_device_placement(False)\n",
    "\n",
    "# Create some tensors\n",
    "a = tf.constant([[1.0, 2.0, 3.0], [4.0, 5.0, 6.0]])\n",
    "b = tf.constant([[1.0, 2.0], [3.0, 4.0], [5.0, 6.0]])\n",
    "c = tf.matmul(a, b)\n",
    "\n",
    "print(c)"
   ]
  },
  {
   "cell_type": "code",
   "execution_count": 251,
   "id": "8336c060",
   "metadata": {},
   "outputs": [],
   "source": [
    "\n",
    "windowLength = 256  #Window size is the amount of sample we apply windowing to\n",
    "overlap      = round(0.25 * windowLength) # tell us how much we are shiffting to the right  during stft\n",
    "ffTLength    = windowLength # the number of sample we consider it in each chunk of the signal when we segment the signal and when we pass it to stft( used for calculation )\n",
    "fs           = 8000\n",
    "numFeatures  = ffTLength//2 + 1\n",
    "numSegments  = 8\n",
    "window = scipy.signal.hamming(windowLength, sym=False)"
   ]
  },
  {
   "cell_type": "code",
   "execution_count": 252,
   "id": "9bdeb183",
   "metadata": {},
   "outputs": [],
   "source": [
    "def play(audio, sample_rate):\n",
    "    ipd.display(ipd.Audio(data=audio, rate=sample_rate))  # load a local WAV file"
   ]
  },
  {
   "cell_type": "code",
   "execution_count": 12,
   "id": "19644279",
   "metadata": {},
   "outputs": [],
   "source": [
    "def read_audio(filepath, sample_rate, normalize=True):\n",
    "    audio, sr = librosa.load(filepath, sr=sample_rate)\n",
    "    if normalize is True:\n",
    "        div_fac = 1 / np.max(np.abs(audio)) / 3.0\n",
    "        audio = audio * div_fac\n",
    "        # audio = librosa.util.normalize(audio)\n",
    "    return audio, sr"
   ]
  },
  {
   "cell_type": "code",
   "execution_count": 254,
   "id": "34b683c2",
   "metadata": {},
   "outputs": [],
   "source": [
    "\n",
    "class FeatureExtractor:\n",
    "    def __init__(self, audio, *, windowLength, overlap, sample_rate):\n",
    "        self.audio = audio\n",
    "        self.ffT_length = windowLength\n",
    "        self.window_length = windowLength\n",
    "        self.overlap = overlap\n",
    "        self.sample_rate = sample_rate\n",
    "        self.window = scipy.signal.hamming(self.window_length, sym=False)\n",
    "\n",
    "    def get_stft_spectrogram(self):\n",
    "        return librosa.stft(self.audio, n_fft=self.ffT_length, win_length=self.window_length, hop_length=self.overlap,\n",
    "                            window=self.window, center=True)\n",
    "\n",
    "    def get_audio_from_stft_spectrogram(self, stft_features):\n",
    "        return librosa.istft(stft_features, win_length=self.window_length, hop_length=self.overlap,\n",
    "                             window=self.window, center=True)"
   ]
  },
  {
   "cell_type": "code",
   "execution_count": 255,
   "id": "ae99de90",
   "metadata": {},
   "outputs": [],
   "source": [
    "def l2_norm(vector):\n",
    "    return np.square(vector)\n",
    "\n",
    "def SDR(denoised, cleaned, eps=1e-7): # Signal to Distortion Ratio\n",
    "    a = l2_norm(denoised)\n",
    "    b = l2_norm(denoised - cleaned)\n",
    "    a_b = a / b\n",
    "    return np.mean(10 * np.log10(a_b + eps))"
   ]
  },
  {
   "cell_type": "code",
   "execution_count": 293,
   "id": "e95671b4",
   "metadata": {
    "scrolled": true
   },
   "outputs": [],
   "source": [
    "#620 gb\n",
    "#model=tf.keras.models.load_model('F:\\\\ahmed\\\\Desktop\\\\noise reduction\\\\CNN\\\\Models\\\\audio620gb\\\\weights.03-0.14.h5')\n",
    "#220gb\n",
    "model=tf.keras.models.load_model('F:\\\\ahmed\\\\Desktop\\\\noise reduction\\\\CNN\\\\Models\\\\2\\\\Model 1st_epoch.h5')"
   ]
  },
  {
   "cell_type": "code",
   "execution_count": 257,
   "id": "8c47e2e0",
   "metadata": {},
   "outputs": [],
   "source": [
    "noisyAudio,_=read_audio(\"F:\\\\ahmed\\\\Desktop\\\\noise reduction\\\\evaluation\\\\noisy3.wav\",sample_rate=fs)"
   ]
  },
  {
   "cell_type": "code",
   "execution_count": 258,
   "id": "9998dbd2",
   "metadata": {},
   "outputs": [
    {
     "name": "stdout",
     "output_type": "stream",
     "text": [
      "(129, 410)\n"
     ]
    }
   ],
   "source": [
    "noiseAudioFeatureExtractor = FeatureExtractor(noisyAudio, windowLength=windowLength, overlap=overlap, sample_rate=fs)\n",
    "noise_stft_features = noiseAudioFeatureExtractor.get_stft_spectrogram()\n",
    "noisyPhase = np.angle(noise_stft_features)\n",
    "print(noisyPhase.shape)\n",
    "noise_stft_features = np.abs(noise_stft_features)\n",
    "mean = np.mean(noise_stft_features)\n",
    "std = np.std(noise_stft_features)\n",
    "noise_stft_features = (noise_stft_features - mean) / std"
   ]
  },
  {
   "cell_type": "code",
   "execution_count": 294,
   "id": "3b85ead0",
   "metadata": {},
   "outputs": [],
   "source": [
    "def prepare_input_features(stft_features):\n",
    "    # Phase Aware Scaling: To avoid extreme differences (more than\n",
    "    # 45 degree) between the noisy and clean phase, the clean spectral magnitude was encoded as similar to [21]:\n",
    "    noisySTFT = np.concatenate([stft_features[:,0:numSegments-1], stft_features], axis=1)\n",
    "    stftSegments = np.zeros((numFeatures, numSegments , noisySTFT.shape[1] - numSegments + 1))\n",
    "\n",
    "    for index in range(noisySTFT.shape[1] - numSegments + 1):\n",
    "        stftSegments[:,:,index] = noisySTFT[:,index:index + numSegments]\n",
    "    return stftSegments"
   ]
  },
  {
   "cell_type": "code",
   "execution_count": 295,
   "id": "432dd486",
   "metadata": {},
   "outputs": [],
   "source": [
    "def revert_features_to_audio(features, phase, cleanMean=None, cleanStd=None):\n",
    "    # scale the outpus back to the original range\n",
    "    if cleanMean and cleanStd:\n",
    "        features = cleanStd * features + cleanMean\n",
    "\n",
    "    phase = np.transpose(phase, (1, 0))\n",
    "    features = np.squeeze(features)\n",
    "\n",
    "    # features = librosa.db_to_power(features)\n",
    "    features = features * np.exp(1j * phase)  # that fixes the abs() ope previously done\n",
    "\n",
    "    features = np.transpose(features, (1, 0))\n",
    "    return noiseAudioFeatureExtractor.get_audio_from_stft_spectrogram(features)"
   ]
  },
  {
   "cell_type": "code",
   "execution_count": 296,
   "id": "1f345a95",
   "metadata": {},
   "outputs": [],
   "source": [
    "predictors = prepare_input_features(noise_stft_features)"
   ]
  },
  {
   "cell_type": "code",
   "execution_count": 297,
   "id": "e2bb7ecb",
   "metadata": {},
   "outputs": [
    {
     "name": "stdout",
     "output_type": "stream",
     "text": [
      "predictors.shape: (261, 129, 8, 1)\n"
     ]
    }
   ],
   "source": [
    "predictors = np.reshape(predictors, (predictors.shape[0], predictors.shape[1], 1, predictors.shape[2]))\n",
    "predictors = np.transpose(predictors, (3, 0, 1, 2)).astype(np.float32)\n",
    "print('predictors.shape:', predictors.shape)"
   ]
  },
  {
   "cell_type": "code",
   "execution_count": 298,
   "id": "1bd9bf43",
   "metadata": {},
   "outputs": [
    {
     "name": "stdout",
     "output_type": "stream",
     "text": [
      "Executing op __inference_keras_scratch_graph_46154 in device <unspecified>\n",
      "Executing op __inference_keras_scratch_graph_46154 in device <unspecified>\n",
      "(261, 129, 1, 1)\n"
     ]
    }
   ],
   "source": [
    "STFTFullyConvolutional = model.predict(predictors)\n",
    "print(STFTFullyConvolutional.shape)"
   ]
  },
  {
   "cell_type": "code",
   "execution_count": 299,
   "id": "4424e45b",
   "metadata": {},
   "outputs": [
    {
     "data": {
      "text/html": [
       "\n",
       "                <audio  controls=\"controls\" >\n",
       "                    <source src=\"data:audio/wav;base64,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\" type=\"audio/wav\" />\n",
       "                    Your browser does not support the audio element.\n",
       "                </audio>\n",
       "              "
      ],
      "text/plain": [
       "<IPython.lib.display.Audio object>"
      ]
     },
     "metadata": {},
     "output_type": "display_data"
    }
   ],
   "source": [
    "play(noisyAudio,fs)"
   ]
  },
  {
   "cell_type": "code",
   "execution_count": 300,
   "id": "e546fe0f",
   "metadata": {},
   "outputs": [
    {
     "data": {
      "text/html": [
       "\n",
       "                <audio  controls=\"controls\" >\n",
       "                    <source src=\"data:audio/wav;base64,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\" type=\"audio/wav\" />\n",
       "                    Your browser does not support the audio element.\n",
       "                </audio>\n",
       "              "
      ],
      "text/plain": [
       "<IPython.lib.display.Audio object>"
      ]
     },
     "execution_count": 300,
     "metadata": {},
     "output_type": "execute_result"
    }
   ],
   "source": [
    "denoisedAudioFullyConvolutional = revert_features_to_audio(STFTFullyConvolutional, noisyPhase, mean, std)\n",
    "ipd.Audio(data=denoisedAudioFullyConvolutional, rate=fs) # load a local WAV file"
   ]
  },
  {
   "cell_type": "code",
   "execution_count": 266,
   "id": "fc298378",
   "metadata": {},
   "outputs": [],
   "source": [
    "cleanaudio,_=read_audio(\"F:\\\\ahmed\\\\Desktop\\\\noise reduction\\\\evaluation\\\\clean3.wav\",sample_rate=fs)"
   ]
  },
  {
   "cell_type": "code",
   "execution_count": 23,
   "id": "a29141b4",
   "metadata": {},
   "outputs": [
    {
     "name": "stdout",
     "output_type": "stream",
     "text": [
      "Collecting pesq\n",
      "  Downloading pesq-0.0.2.tar.gz (34 kB)\n",
      "Building wheels for collected packages: pesq\n",
      "  Building wheel for pesq (setup.py): started\n",
      "  Building wheel for pesq (setup.py): finished with status 'done'\n",
      "  Created wheel for pesq: filename=pesq-0.0.2-cp37-cp37m-win_amd64.whl size=119882 sha256=b647980d8a6cd7b31197373019917d245c7287585e0d50d863c561cdd596c929\n",
      "  Stored in directory: c:\\users\\ahmed\\appdata\\local\\pip\\cache\\wheels\\c3\\34\\04\\86b0c6c0d3bf5d547542ce1171dfe9e801d65a81c2eb02fe8c\n",
      "Successfully built pesq\n",
      "Installing collected packages: pesq\n",
      "Successfully installed pesq-0.0.2\n"
     ]
    }
   ],
   "source": [
    "!pip install pesq"
   ]
  },
  {
   "cell_type": "code",
   "execution_count": 267,
   "id": "e86ae8f6",
   "metadata": {},
   "outputs": [
    {
     "name": "stdout",
     "output_type": "stream",
     "text": [
      "2.3409738540649414\n",
      "2.810666799545288\n"
     ]
    }
   ],
   "source": [
    "from scipy.io import wavfile\n",
    "from pesq import pesq\n",
    "\n",
    "#rate, ref = wavfile.read(\"./audio/speech.wav\")\n",
    "#rate, deg = wavfile.read(\"./audio/speech_bab_0dB.wav\")\n",
    "\n",
    "print(pesq(16000, cleanaudio,denoisedAudioFullyConvolutional, 'wb')) #wide band for sample rate =16000\n",
    "print(pesq(fs,cleanaudio,denoisedAudioFullyConvolutional, 'nb')) # narrow band for sample rate =8000"
   ]
  },
  {
   "cell_type": "code",
   "execution_count": 301,
   "id": "a9497876",
   "metadata": {},
   "outputs": [
    {
     "name": "stdout",
     "output_type": "stream",
     "text": [
      "Executing op __inference_keras_scratch_graph_46154 in device <unspecified>\n",
      "Executing op __inference_keras_scratch_graph_46154 in device <unspecified>\n",
      "Executing op __inference_keras_scratch_graph_46154 in device <unspecified>\n",
      "Executing op __inference_keras_scratch_graph_46154 in device <unspecified>\n",
      "Executing op __inference_keras_scratch_graph_46154 in device <unspecified>\n",
      "Executing op __inference_keras_scratch_graph_46154 in device <unspecified>\n",
      "Executing op __inference_keras_scratch_graph_46154 in device <unspecified>\n",
      "Executing op __inference_keras_scratch_graph_46154 in device <unspecified>\n",
      "Executing op __inference_keras_scratch_graph_46154 in device <unspecified>\n",
      "Executing op __inference_keras_scratch_graph_46154 in device <unspecified>\n",
      "Executing op __inference_keras_scratch_graph_46154 in device <unspecified>\n",
      "Executing op __inference_keras_scratch_graph_46154 in device <unspecified>\n",
      "Executing op __inference_keras_scratch_graph_46154 in device <unspecified>\n",
      "Executing op __inference_keras_scratch_graph_46154 in device <unspecified>\n",
      "Executing op __inference_keras_scratch_graph_46154 in device <unspecified>\n",
      "Executing op __inference_keras_scratch_graph_46154 in device <unspecified>\n",
      "Executing op __inference_keras_scratch_graph_46154 in device <unspecified>\n",
      "Executing op __inference_keras_scratch_graph_46154 in device <unspecified>\n",
      "Executing op __inference_keras_scratch_graph_46154 in device <unspecified>\n",
      "Executing op __inference_keras_scratch_graph_46154 in device <unspecified>\n",
      "Executing op __inference_keras_scratch_graph_46154 in device <unspecified>\n",
      "Executing op __inference_keras_scratch_graph_46154 in device <unspecified>\n"
     ]
    }
   ],
   "source": [
    "evaluation=\"F:\\\\ahmed\\\\Desktop\\\\noise reduction\\\\evaluation\\\\\"\n",
    "PESQ=[]\n",
    "for i in range(1,52):\n",
    "    noisyAudio,_ = read_audio(evaluation+\"noisy\"+str(i)+\".wav\",sample_rate=fs)\n",
    "    cleanaudio,_=read_audio(evaluation+\"clean\"+str(i)+\".wav\",sample_rate=fs)\n",
    "    noiseAudioFeatureExtractor = FeatureExtractor(noisyAudio, windowLength=windowLength, overlap=overlap, sample_rate=fs)\n",
    "    noise_stft_features = noiseAudioFeatureExtractor.get_stft_spectrogram()\n",
    "    noisyPhase = np.angle(noise_stft_features)\n",
    "    noise_stft_features = np.abs(noise_stft_features)\n",
    "    mean = np.mean(noise_stft_features)\n",
    "    std = np.std(noise_stft_features)\n",
    "    noise_stft_features = (noise_stft_features - mean) / std\n",
    "    predictors = prepare_input_features(noise_stft_features)\n",
    "    predictors = np.reshape(predictors, (predictors.shape[0], predictors.shape[1], 1, predictors.shape[2]))\n",
    "    predictors = np.transpose(predictors, (3, 0, 1, 2)).astype(np.float32)\n",
    "    STFTFullyConvolutional = model.predict(predictors)\n",
    "    output = revert_features_to_audio(STFTFullyConvolutional, noisyPhase, mean, std)\n",
    "    PESQ.append(pesq(fs,cleanaudio,output, 'nb'))"
   ]
  },
  {
   "cell_type": "code",
   "execution_count": 302,
   "id": "f0e05cc3",
   "metadata": {},
   "outputs": [
    {
     "data": {
      "text/plain": [
       "2.341785846971998"
      ]
     },
     "execution_count": 302,
     "metadata": {},
     "output_type": "execute_result"
    }
   ],
   "source": [
    "sum(PESQ)/len(PESQ)"
   ]
  },
  {
   "cell_type": "code",
   "execution_count": 292,
   "id": "8488b15c",
   "metadata": {},
   "outputs": [
    {
     "data": {
      "text/plain": [
       "[1.7055991888046265,\n",
       " 2.255990743637085,\n",
       " 2.810666799545288,\n",
       " 2.7943615913391113,\n",
       " 2.658108711242676,\n",
       " 2.4904325008392334,\n",
       " 2.508310556411743,\n",
       " 2.526463031768799,\n",
       " 1.9424712657928467,\n",
       " 2.337850332260132,\n",
       " 2.3707706928253174,\n",
       " 2.794086217880249,\n",
       " 2.386599063873291,\n",
       " 1.6719448566436768,\n",
       " 1.9064826965332031,\n",
       " 2.246946096420288,\n",
       " 2.276733160018921,\n",
       " 2.59165620803833,\n",
       " 2.6731014251708984,\n",
       " 2.336765766143799,\n",
       " 2.4903697967529297,\n",
       " 2.3503828048706055,\n",
       " 2.885896682739258,\n",
       " 2.417714834213257,\n",
       " 2.4401047229766846,\n",
       " 2.0771892070770264,\n",
       " 2.3023390769958496,\n",
       " 2.044689416885376,\n",
       " 2.311967611312866,\n",
       " 2.4761786460876465,\n",
       " 2.391352891921997,\n",
       " 2.3099818229675293,\n",
       " 2.5244979858398438,\n",
       " 2.239647150039673,\n",
       " 2.612506866455078,\n",
       " 2.5475337505340576,\n",
       " 1.9968359470367432,\n",
       " 2.8257691860198975,\n",
       " 2.0805509090423584,\n",
       " 1.6570351123809814,\n",
       " 2.439767837524414,\n",
       " 2.569565773010254,\n",
       " 2.130460023880005,\n",
       " 1.6968902349472046,\n",
       " 2.463757038116455,\n",
       " 2.3208072185516357,\n",
       " 2.1194074153900146,\n",
       " 2.500234842300415,\n",
       " 2.150691270828247,\n",
       " 2.2697532176971436,\n",
       " 2.5517795085906982]"
      ]
     },
     "execution_count": 292,
     "metadata": {},
     "output_type": "execute_result"
    }
   ],
   "source": [
    "PESQ"
   ]
  },
  {
   "cell_type": "markdown",
   "id": "4080ac13",
   "metadata": {},
   "source": [
    "# Facebook Research "
   ]
  },
  {
   "cell_type": "code",
   "execution_count": 1,
   "id": "0debd4ca",
   "metadata": {},
   "outputs": [
    {
     "name": "stderr",
     "output_type": "stream",
     "text": [
      "F:\\anaconda3\\envs\\waveunet\\lib\\site-packages\\torchaudio\\extension\\extension.py:13: UserWarning: torchaudio C++ extension is not available.\n",
      "  warnings.warn('torchaudio C++ extension is not available.')\n"
     ]
    }
   ],
   "source": [
    "# Copyright (c) Facebook, Inc. and its affiliates.\n",
    "# All rights reserved.\n",
    "#\n",
    "# This source code is licensed under the license found in the\n",
    "# LICENSE file in the root directory of this source tree.\n",
    "# author: adiyoss\n",
    "\n",
    "import argparse\n",
    "from concurrent.futures import ProcessPoolExecutor\n",
    "from collections import namedtuple\n",
    "from pathlib import Path\n",
    "from torch.nn import functional as F\n",
    "import json\n",
    "import logging\n",
    "import os\n",
    "import sys\n",
    "import math\n",
    "import torch\n",
    "import torchaudio\n",
    "from torch import nn\n",
    "from torch.utils.data.distributed import DistributedSampler\n",
    "from torch.utils.data import DataLoader, Subset\n",
    "from torch.nn.parallel.distributed import DistributedDataParallel\n",
    "\n",
    "import logging\n",
    "\n",
    "import torch.hub\n",
    "\n",
    "\n",
    "\n",
    "logger = logging.getLogger(__name__)\n"
   ]
  },
  {
   "cell_type": "code",
   "execution_count": 2,
   "id": "afa02a5b",
   "metadata": {},
   "outputs": [],
   "source": [
    "import math\n",
    "\n",
    "import torch as th\n",
    "from torch.nn import functional as F\n",
    "\n",
    "\n",
    "def sinc(t):\n",
    "    \"\"\"sinc.\n",
    "    :param t: the input tensor\n",
    "    \"\"\"\n",
    "    return th.where(t == 0, th.tensor(1., device=t.device, dtype=t.dtype), th.sin(t) / t)\n",
    "\n",
    "\n",
    "def kernel_upsample2(zeros=56):\n",
    "    \"\"\"kernel_upsample2.\n",
    "    \"\"\"\n",
    "    win = th.hann_window(4 * zeros + 1, periodic=False)\n",
    "    winodd = win[1::2]\n",
    "    t = th.linspace(-zeros + 0.5, zeros - 0.5, 2 * zeros)\n",
    "    t *= math.pi\n",
    "    kernel = (sinc(t) * winodd).view(1, 1, -1)\n",
    "    return kernel\n",
    "\n",
    "\n",
    "def upsample2(x, zeros=56):\n",
    "    \"\"\"\n",
    "    Upsampling the input by 2 using sinc interpolation.\n",
    "    Smith, Julius, and Phil Gossett. \"A flexible sampling-rate conversion method.\"\n",
    "    ICASSP'84. IEEE International Conference on Acoustics, Speech, and Signal Processing.\n",
    "    Vol. 9. IEEE, 1984.\n",
    "    \"\"\"\n",
    "    *other, time = x.shape\n",
    "    kernel = kernel_upsample2(zeros).to(x)\n",
    "    out = F.conv1d(x.view(-1, 1, time), kernel, padding=zeros)[..., 1:].view(*other, time)\n",
    "    y = th.stack([x, out], dim=-1)\n",
    "    return y.view(*other, -1)\n",
    "\n",
    "\n",
    "def kernel_downsample2(zeros=56):\n",
    "    \"\"\"kernel_downsample2.\n",
    "    \"\"\"\n",
    "    win = th.hann_window(4 * zeros + 1, periodic=False)\n",
    "    winodd = win[1::2]\n",
    "    t = th.linspace(-zeros + 0.5, zeros - 0.5, 2 * zeros)\n",
    "    t.mul_(math.pi)\n",
    "    kernel = (sinc(t) * winodd).view(1, 1, -1)\n",
    "    return kernel\n",
    "\n",
    "\n",
    "def downsample2(x, zeros=56):\n",
    "    \"\"\"\n",
    "    Downsampling the input by 2 using sinc interpolation.\n",
    "    Smith, Julius, and Phil Gossett. \"A flexible sampling-rate conversion method.\"\n",
    "    ICASSP'84. IEEE International Conference on Acoustics, Speech, and Signal Processing.\n",
    "    Vol. 9. IEEE, 1984.\n",
    "    \"\"\"\n",
    "    if x.shape[-1] % 2 != 0:\n",
    "        x = F.pad(x, (0, 1))\n",
    "    xeven = x[..., ::2]\n",
    "    xodd = x[..., 1::2]\n",
    "    *other, time = xodd.shape\n",
    "    kernel = kernel_downsample2(zeros).to(x)\n",
    "    out = xeven + F.conv1d(xodd.view(-1, 1, time), kernel, padding=zeros)[..., :-1].view(\n",
    "        *other, time)\n",
    "    return out.view(*other, -1).mul(0.5)"
   ]
  },
  {
   "cell_type": "code",
   "execution_count": 3,
   "id": "c8730c65",
   "metadata": {},
   "outputs": [],
   "source": [
    "class BLSTM(nn.Module):\n",
    "    def __init__(self, dim, layers=2, bi=True):\n",
    "        super().__init__()\n",
    "        klass = nn.LSTM\n",
    "        self.lstm = klass(bidirectional=bi, num_layers=layers, hidden_size=dim, input_size=dim)\n",
    "        self.linear = None\n",
    "        if bi:\n",
    "            self.linear = nn.Linear(2 * dim, dim)\n",
    "\n",
    "    def forward(self, x, hidden=None):\n",
    "        x, hidden = self.lstm(x, hidden)\n",
    "        if self.linear:\n",
    "            x = self.linear(x)\n",
    "        return x, hidden\n",
    "\n",
    "\n",
    "def rescale_conv(conv, reference):\n",
    "    std = conv.weight.std().detach()\n",
    "    scale = (std / reference)**0.5\n",
    "    conv.weight.data /= scale\n",
    "    if conv.bias is not None:\n",
    "        conv.bias.data /= scale\n",
    "\n",
    "\n",
    "def rescale_module(module, reference):\n",
    "    for sub in module.modules():\n",
    "        if isinstance(sub, (nn.Conv1d, nn.ConvTranspose1d)):\n",
    "            rescale_conv(sub, reference)\n",
    "class Demucs(nn.Module):\n",
    "    \"\"\"\n",
    "    Demucs speech enhancement model.\n",
    "    Args:\n",
    "        - chin (int): number of input channels.\n",
    "        - chout (int): number of output channels.\n",
    "        - hidden (int): number of initial hidden channels.\n",
    "        - depth (int): number of layers.\n",
    "        - kernel_size (int): kernel size for each layer.\n",
    "        - stride (int): stride for each layer.\n",
    "        - causal (bool): if false, uses BiLSTM instead of LSTM.\n",
    "        - resample (int): amount of resampling to apply to the input/output.\n",
    "            Can be one of 1, 2 or 4.\n",
    "        - growth (float): number of channels is multiplied by this for every layer.\n",
    "        - max_hidden (int): maximum number of channels. Can be useful to\n",
    "            control the size/speed of the model.\n",
    "        - normalize (bool): if true, normalize the input.\n",
    "        - glu (bool): if true uses GLU instead of ReLU in 1x1 convolutions.\n",
    "        - rescale (float): controls custom weight initialization.\n",
    "            See https://arxiv.org/abs/1911.13254.\n",
    "        - floor (float): stability flooring when normalizing.\n",
    "    \"\"\"\n",
    "    def __init__(self,\n",
    "                 chin=1,\n",
    "                 chout=1,\n",
    "                 hidden=64,\n",
    "                 depth=5,\n",
    "                 kernel_size=8,\n",
    "                 stride=4,\n",
    "                 causal=True,\n",
    "                 resample=4,\n",
    "                 growth=2,\n",
    "                 max_hidden=10_000,\n",
    "                 normalize=True,\n",
    "                 glu=True,\n",
    "                 rescale=0.1,\n",
    "                 floor=1e-3):\n",
    "\n",
    "        super().__init__()\n",
    "        if resample not in [1, 2, 4]:\n",
    "            raise ValueError(\"Resample should be 1, 2 or 4.\")\n",
    "\n",
    "        self.chin = chin\n",
    "        self.chout = chout\n",
    "        self.hidden = hidden\n",
    "        self.depth = depth\n",
    "        self.kernel_size = kernel_size\n",
    "        self.stride = stride\n",
    "        self.causal = causal\n",
    "        self.floor = floor\n",
    "        self.resample = resample\n",
    "        self.normalize = normalize\n",
    "\n",
    "        self.encoder = nn.ModuleList()\n",
    "        self.decoder = nn.ModuleList()\n",
    "        activation = nn.GLU(1) if glu else nn.ReLU()\n",
    "        ch_scale = 2 if glu else 1\n",
    "\n",
    "        for index in range(depth):\n",
    "            encode = []\n",
    "            encode += [\n",
    "                nn.Conv1d(chin, hidden, kernel_size, stride),\n",
    "                nn.ReLU(),\n",
    "                nn.Conv1d(hidden, hidden * ch_scale, 1), activation,\n",
    "            ]\n",
    "            self.encoder.append(nn.Sequential(*encode))\n",
    "\n",
    "            decode = []\n",
    "            decode += [\n",
    "                nn.Conv1d(hidden, ch_scale * hidden, 1), activation,\n",
    "                nn.ConvTranspose1d(hidden, chout, kernel_size, stride),\n",
    "            ]\n",
    "            if index > 0:\n",
    "                decode.append(nn.ReLU())\n",
    "            self.decoder.insert(0, nn.Sequential(*decode))\n",
    "            chout = hidden\n",
    "            chin = hidden\n",
    "            hidden = min(int(growth * hidden), max_hidden)\n",
    "\n",
    "        self.lstm = BLSTM(chin, bi=not causal)\n",
    "        if rescale:\n",
    "            rescale_module(self, reference=rescale)\n",
    "\n",
    "    def valid_length(self, length):\n",
    "        \"\"\"\n",
    "        Return the nearest valid length to use with the model so that\n",
    "        there is no time steps left over in a convolutions, e.g. for all\n",
    "        layers, size of the input - kernel_size % stride = 0.\n",
    "        If the mixture has a valid length, the estimated sources\n",
    "        will have exactly the same length.\n",
    "        \"\"\"\n",
    "        length = math.ceil(length * self.resample)\n",
    "        for idx in range(self.depth):\n",
    "            length = math.ceil((length - self.kernel_size) / self.stride) + 1\n",
    "            length = max(length, 1)\n",
    "        for idx in range(self.depth):\n",
    "            length = (length - 1) * self.stride + self.kernel_size\n",
    "        length = int(math.ceil(length / self.resample))\n",
    "        return int(length)\n",
    "\n",
    "    \n",
    "    def total_stride(self):\n",
    "        return self.stride ** self.depth // self.resample\n",
    "\n",
    "    def forward(self, mix):\n",
    "        if mix.dim() == 2:\n",
    "            mix = mix.unsqueeze(1)\n",
    "\n",
    "        if self.normalize:\n",
    "            mono = mix.mean(dim=1, keepdim=True)\n",
    "            std = mono.std(dim=-1, keepdim=True)\n",
    "            mix = mix / (self.floor + std)\n",
    "        else:\n",
    "            std = 1\n",
    "        length = mix.shape[-1]\n",
    "        x = mix\n",
    "        x = F.pad(x, (0, self.valid_length(length) - length))\n",
    "        if self.resample == 2:\n",
    "            x = upsample2(x)\n",
    "        elif self.resample == 4:\n",
    "            x = upsample2(x)\n",
    "            x = upsample2(x)\n",
    "        skips = []\n",
    "        for encode in self.encoder:\n",
    "            x = encode(x)\n",
    "            skips.append(x)\n",
    "        x = x.permute(2, 0, 1)\n",
    "        x, _ = self.lstm(x)\n",
    "        x = x.permute(1, 2, 0)\n",
    "        for decode in self.decoder:\n",
    "            skip = skips.pop(-1)\n",
    "            x = x + skip[..., :x.shape[-1]]\n",
    "            x = decode(x)\n",
    "        if self.resample == 2:\n",
    "            x = downsample2(x)\n",
    "        elif self.resample == 4:\n",
    "            x = downsample2(x)\n",
    "            x = downsample2(x)\n",
    "\n",
    "        x = x[..., :length]\n",
    "        return std * x\n"
   ]
  },
  {
   "cell_type": "code",
   "execution_count": 4,
   "id": "48c9dc4f",
   "metadata": {},
   "outputs": [],
   "source": [
    "def get_model():\n",
    "  DNS_64_URL= \"https://dl.fbaipublicfiles.com/adiyoss/denoiser/dns64-a7761ff99a7d5bb6.th\"\n",
    "  model = Demucs()\n",
    "  state_dict = torch.hub.load_state_dict_from_url(DNS_64_URL, map_location='cpu')\n",
    "  model.load_state_dict(state_dict)\n",
    "  #model = _demucs(DNS_64_URL, hidden=64)\n",
    "  return model\n"
   ]
  },
  {
   "cell_type": "code",
   "execution_count": 5,
   "id": "1d735288",
   "metadata": {},
   "outputs": [],
   "source": [
    "model=get_model()\n"
   ]
  },
  {
   "cell_type": "code",
   "execution_count": 6,
   "id": "9f10dbc8",
   "metadata": {},
   "outputs": [
    {
     "data": {
      "text/plain": [
       "Demucs(\n",
       "  (encoder): ModuleList(\n",
       "    (0): Sequential(\n",
       "      (0): Conv1d(1, 64, kernel_size=(8,), stride=(4,))\n",
       "      (1): ReLU()\n",
       "      (2): Conv1d(64, 128, kernel_size=(1,), stride=(1,))\n",
       "      (3): GLU(dim=1)\n",
       "    )\n",
       "    (1): Sequential(\n",
       "      (0): Conv1d(64, 128, kernel_size=(8,), stride=(4,))\n",
       "      (1): ReLU()\n",
       "      (2): Conv1d(128, 256, kernel_size=(1,), stride=(1,))\n",
       "      (3): GLU(dim=1)\n",
       "    )\n",
       "    (2): Sequential(\n",
       "      (0): Conv1d(128, 256, kernel_size=(8,), stride=(4,))\n",
       "      (1): ReLU()\n",
       "      (2): Conv1d(256, 512, kernel_size=(1,), stride=(1,))\n",
       "      (3): GLU(dim=1)\n",
       "    )\n",
       "    (3): Sequential(\n",
       "      (0): Conv1d(256, 512, kernel_size=(8,), stride=(4,))\n",
       "      (1): ReLU()\n",
       "      (2): Conv1d(512, 1024, kernel_size=(1,), stride=(1,))\n",
       "      (3): GLU(dim=1)\n",
       "    )\n",
       "    (4): Sequential(\n",
       "      (0): Conv1d(512, 1024, kernel_size=(8,), stride=(4,))\n",
       "      (1): ReLU()\n",
       "      (2): Conv1d(1024, 2048, kernel_size=(1,), stride=(1,))\n",
       "      (3): GLU(dim=1)\n",
       "    )\n",
       "  )\n",
       "  (decoder): ModuleList(\n",
       "    (0): Sequential(\n",
       "      (0): Conv1d(1024, 2048, kernel_size=(1,), stride=(1,))\n",
       "      (1): GLU(dim=1)\n",
       "      (2): ConvTranspose1d(1024, 512, kernel_size=(8,), stride=(4,))\n",
       "      (3): ReLU()\n",
       "    )\n",
       "    (1): Sequential(\n",
       "      (0): Conv1d(512, 1024, kernel_size=(1,), stride=(1,))\n",
       "      (1): GLU(dim=1)\n",
       "      (2): ConvTranspose1d(512, 256, kernel_size=(8,), stride=(4,))\n",
       "      (3): ReLU()\n",
       "    )\n",
       "    (2): Sequential(\n",
       "      (0): Conv1d(256, 512, kernel_size=(1,), stride=(1,))\n",
       "      (1): GLU(dim=1)\n",
       "      (2): ConvTranspose1d(256, 128, kernel_size=(8,), stride=(4,))\n",
       "      (3): ReLU()\n",
       "    )\n",
       "    (3): Sequential(\n",
       "      (0): Conv1d(128, 256, kernel_size=(1,), stride=(1,))\n",
       "      (1): GLU(dim=1)\n",
       "      (2): ConvTranspose1d(128, 64, kernel_size=(8,), stride=(4,))\n",
       "      (3): ReLU()\n",
       "    )\n",
       "    (4): Sequential(\n",
       "      (0): Conv1d(64, 128, kernel_size=(1,), stride=(1,))\n",
       "      (1): GLU(dim=1)\n",
       "      (2): ConvTranspose1d(64, 1, kernel_size=(8,), stride=(4,))\n",
       "    )\n",
       "  )\n",
       "  (lstm): BLSTM(\n",
       "    (lstm): LSTM(1024, 1024, num_layers=2)\n",
       "  )\n",
       ")"
      ]
     },
     "execution_count": 6,
     "metadata": {},
     "output_type": "execute_result"
    }
   ],
   "source": [
    "model.eval()"
   ]
  },
  {
   "cell_type": "code",
   "execution_count": 7,
   "id": "e1c32e5c",
   "metadata": {},
   "outputs": [],
   "source": [
    "torch.save(model,\"F:\\\\ahmed\\\\Desktop\\\\noise reduction\\\\facebookresearch\\\\denoiserfb.pt\" )"
   ]
  },
  {
   "cell_type": "code",
   "execution_count": 8,
   "id": "061570ea",
   "metadata": {},
   "outputs": [],
   "source": [
    "model=torch.load(\"F:\\\\ahmed\\\\Desktop\\\\noise reduction\\\\facebookresearch\\\\denoiserfb.pt\")"
   ]
  },
  {
   "cell_type": "code",
   "execution_count": 280,
   "id": "1eef1736",
   "metadata": {},
   "outputs": [],
   "source": [
    "evaluation=\"F:\\\\ahmed\\\\Desktop\\\\noise reduction\\\\evaluation\\\\\"\n",
    "PESQ=[]\n",
    "for i in range(1,52):\n",
    "    inp,_ = read_audio(evaluation+\"noisy\"+str(i)+\".wav\",sample_rate=fs)\n",
    "    cleanaudio,_=read_audio(evaluation+\"clean\"+str(i)+\".wav\",sample_rate=fs)\n",
    "    inp=np.expand_dims(inp, axis=0)\n",
    "    inp=torch.from_numpy(inp)\n",
    "    output=model(inp)\n",
    "    output=torch.squeeze(output)\n",
    "    PESQ.append(pesq(fs,cleanaudio,output.detach().numpy(), 'nb'))\n",
    "    \n",
    "    "
   ]
  },
  {
   "cell_type": "code",
   "execution_count": 196,
   "id": "90dc5bee",
   "metadata": {},
   "outputs": [
    {
     "data": {
      "text/plain": [
       "15"
      ]
     },
     "execution_count": 196,
     "metadata": {},
     "output_type": "execute_result"
    }
   ],
   "source": [
    "len(PESQ)"
   ]
  },
  {
   "cell_type": "code",
   "execution_count": 281,
   "id": "ee2c3112",
   "metadata": {},
   "outputs": [
    {
     "data": {
      "text/plain": [
       "[1.977802038192749,\n",
       " 2.6957833766937256,\n",
       " 3.6690473556518555,\n",
       " 3.426020622253418,\n",
       " 3.5820789337158203,\n",
       " 3.309804677963257,\n",
       " 2.9783217906951904,\n",
       " 2.661221504211426,\n",
       " 2.2237188816070557,\n",
       " 2.6353814601898193,\n",
       " 2.3941991329193115,\n",
       " 2.950261116027832,\n",
       " 1.227853775024414,\n",
       " 1.3753548860549927,\n",
       " 1.4199007749557495,\n",
       " 2.604166269302368,\n",
       " 3.5847315788269043,\n",
       " 2.9951906204223633,\n",
       " 2.4529197216033936,\n",
       " 1.3366495370864868,\n",
       " 4.039168357849121,\n",
       " 3.1174697875976562,\n",
       " 3.817420721054077,\n",
       " 3.265660524368286,\n",
       " 2.7284443378448486,\n",
       " 1.8177093267440796,\n",
       " 3.081399917602539,\n",
       " 1.7708287239074707,\n",
       " 3.9313390254974365,\n",
       " 3.2045841217041016,\n",
       " 3.2984983921051025,\n",
       " 2.303117513656616,\n",
       " 3.7530391216278076,\n",
       " 3.6932146549224854,\n",
       " 2.988583564758301,\n",
       " 3.007599115371704,\n",
       " 3.6478846073150635,\n",
       " 1.4845507144927979,\n",
       " 1.4995486736297607,\n",
       " 1.2054463624954224,\n",
       " 3.974266767501831,\n",
       " 1.5783846378326416,\n",
       " 2.3847496509552,\n",
       " 1.7080116271972656,\n",
       " 3.715980052947998,\n",
       " 2.8953442573547363,\n",
       " 2.0927398204803467,\n",
       " 2.3871026039123535,\n",
       " 2.4580323696136475,\n",
       " 3.331744909286499,\n",
       " 3.508427858352661]"
      ]
     },
     "execution_count": 281,
     "metadata": {},
     "output_type": "execute_result"
    }
   ],
   "source": [
    "PESQ"
   ]
  },
  {
   "cell_type": "code",
   "execution_count": 282,
   "id": "faac1df2",
   "metadata": {},
   "outputs": [
    {
     "name": "stdout",
     "output_type": "stream",
     "text": [
      "2.729229415164274\n"
     ]
    }
   ],
   "source": [
    "print(sum(PESQ)/len(PESQ))"
   ]
  },
  {
   "cell_type": "code",
   "execution_count": 339,
   "id": "8cd7fe14",
   "metadata": {},
   "outputs": [],
   "source": [
    "inp,_ = read_audio(\"F:\\\\ahmed\\\\Desktop\\\\noise reduction\\\\facebookresearch\\\\noisy_test\\\\seventh noisy.wav\",sample_rate=16000)"
   ]
  },
  {
   "cell_type": "code",
   "execution_count": 14,
   "id": "8b604675",
   "metadata": {},
   "outputs": [],
   "source": [
    "#inp, sr = torchaudio.load(\"F:\\\\ahmed\\\\Desktop\\\\noise reduction\\\\facebookresearch\\\\noisy_test\\\\fourth noisy.wav\", frame_offset=0, num_frames=-1)\n",
    "inp,_ = read_audio(\"F:\\\\ahmed\\\\Desktop\\\\noise reduction\\\\facebookresearch\\\\noisy_test\\\\fourth noisy.wav\",sample_rate=16000)"
   ]
  },
  {
   "cell_type": "code",
   "execution_count": 15,
   "id": "427a89b0",
   "metadata": {},
   "outputs": [],
   "source": [
    "inp=np.expand_dims(inp, axis=0)"
   ]
  },
  {
   "cell_type": "code",
   "execution_count": 16,
   "id": "817b7481",
   "metadata": {},
   "outputs": [
    {
     "data": {
      "text/plain": [
       "array([[ 0.00675651,  0.01141677,  0.01387637, ...,  0.00292408,\n",
       "        -0.00013619, -0.00095892]], dtype=float32)"
      ]
     },
     "execution_count": 16,
     "metadata": {},
     "output_type": "execute_result"
    }
   ],
   "source": [
    "inp"
   ]
  },
  {
   "cell_type": "code",
   "execution_count": 17,
   "id": "55ba84a5",
   "metadata": {},
   "outputs": [],
   "source": [
    "inp=torch.from_numpy(inp)"
   ]
  },
  {
   "cell_type": "code",
   "execution_count": 18,
   "id": "ecb49a28",
   "metadata": {},
   "outputs": [
    {
     "data": {
      "text/plain": [
       "torch.Size([1, 26094])"
      ]
     },
     "execution_count": 18,
     "metadata": {},
     "output_type": "execute_result"
    }
   ],
   "source": [
    "inp.shape"
   ]
  },
  {
   "cell_type": "code",
   "execution_count": 19,
   "id": "45e567ed",
   "metadata": {},
   "outputs": [],
   "source": [
    "output=model(inp)"
   ]
  },
  {
   "cell_type": "code",
   "execution_count": 345,
   "id": "904a293b",
   "metadata": {},
   "outputs": [],
   "source": [
    "#inp=torch.squeeze(inp)"
   ]
  },
  {
   "cell_type": "code",
   "execution_count": 20,
   "id": "78166b3f",
   "metadata": {},
   "outputs": [],
   "source": [
    "output=torch.squeeze(output)"
   ]
  },
  {
   "cell_type": "code",
   "execution_count": 21,
   "id": "47e8efc9",
   "metadata": {
    "scrolled": true
   },
   "outputs": [
    {
     "data": {
      "text/html": [
       "\n",
       "                <audio  controls=\"controls\" >\n",
       "                    <source src=\"data:audio/wav;base64,UklGRgDMAABXQVZFZm10IBAAAAABAAEAgD4AAAB9AAACABAAZGF0YdzLAACYAmIEVAUbBT4EfgMkA/cCzAK+AuICAAPTAnwCeQINA/EDsAQtBaAFKQapBg8HhwcuCNAIMQl7CQ0K2ApNCyELywrtCmkLgAvmCkUKVQrfCvkKRwp5CWgJAwp+CmcKLQp0CioLoAtxCwULAwtmC5ELNQvQCgQLoAvLCy0LcQpmCvIKRwv5ClsKzQk5CYAI6Ae4B6oHSgfCBq8GLAeaB44HcgfWB4II2gjlCEIJIQrsCjILQguRC/IL+wvYCxwM2wyLDc0NxA2dDUkN8wwbDcIN/A34DCsLzQkzCYAIEweLBdAEugRTBDsDGgKYAYIBRQHWAMcAcwFrAuICngJZAuQCDQSzBDkEcwOUA4oEJwX3BOUEpAVmBhEGFQXSBGcFeAVmBGcDnwM+BMoDiQIjAvsCkgPeAucBAgKnAlwCMgHOAOoBMAM0A10CAAJRAlcCrQESAR8BYAE4AeYA/gBbAUwBugBaAKcAMQFYATMBVwHxAZACzQK3Ao8CcAJdAm4ClwKLAhwCogGoASoCewIeAm0BGwFCAU8B4wBbADoAYQA5AJv/If9h/xwAlgCSAJQAEQG6AfsB7wFPAkkDEgTvA2IDkQOfBE8FpgRUA8ECGQMbA/kBhAD4/yUA0f+T/of9q/1k/mb+m/1R/U/+qP/8/17/GP+o////MP8U/j/+jv8GAIX+fvws/Jr9xv6Q/gf+QP5h/gn93frv+aX6/vqQ+a33XvdG+FH4Dvdn9pv3R/mG+df4SPlA+9n8oPyB+0L7G/zV/Mr8jfyx/Of8rfws/PH7JfyK/Pf8Zf2n/Xv9B/3U/CP9kP2W/VP9YP3r/Vj+B/4+/eX8WP3m/cz9PP0H/Wj9rv1J/YH87fub+0b7Bfsk+3T7YPvm+sX6X/vz+6X73Prj+h/8eP3K/V/9X/0l/uH+9P79/gcA7QEvA7QCPQGlAK8BKwOVAwkD5QKvA0kEowNcAuoBhALyAnMCvQGiAaEBwABa/9/+xP+mAB8Anv69/Sb+7v4Y/9P+2P4t/0X/Iv+F/6oAiQH6AGb/iv5P/4wAfwAW//P9Kf7f/rz+2v1y/ez9WP4D/o390P1t/mv+0f2v/W/+K/8S/6f+9f7w/4YALACC/1f/pv/n/9z/ov8z/3T+lf38/MD8mfxi/EX8UvxV/Dv8Q/x9/Gz8t/vq+v36Cvwq/a792f0X/h/+pP1M/fL9JP9k/1z+l/1c/qb/df/H/cH8vf15/wIAaP9W/4sA9AFdAvQBoQGsAa8BYgHhAGAADgAUAFIASAC1/xX/Bf9L/zT/2/4x/3gAkwFsAX8AMgDkAKsB6wEzAhID3AODAzwCZQGzAUUCAgI0ARABxQH3AZYAmv4B/jP/aAAgADX/g/8BAaIBaAAN/5j/YQEOAgkBNQDjAMQBGwGU/1T/wgD1AY8BkwCXAGgBpAEJAc0ArgHaAjYD3QLDAlIDAAQ2BAQE3QP+A0sEjQSjBIYEUwRDBH4E5QQpBSwFPAWjBSgGTQYnBnIGgQeBCIcIBwhPCIQJNAp4CXsIxwjbCd4JnggOCDsJbwqiCaYHEwdvCFgJBAjVBUUFbgYhBy4G7AQhBYUGUAe6BuwFTAaXB0UIogfOBjIHgggMCSgIRQfbBywJWwlWCBEIdgm7CgEKSQgMCHAJ/QlsCJ4GsQbBB2wHngWfBGEF9wWjBKICUgKRA/cDbALAAPQAfQJLA9ICkgK1A2IF+wUzBUAENwTlBGYFXQU6BXkF5wXkBTYFXgQJBE0EsATbBPAEDwX+BIgE+QPZAzYEowTyBGsFGQZyBhQGhQWPBREGKgadBUEFwAWEBooG1QVKBUEFDwUwBBkDcQIfAqgBGQHrACIBPgEAAasAcAA0AB4ApgC1AUICiQFKAAMAAAH7AdMB6wBpAKIA5ACGAKn/3P57/ov+2v4y/4X/3v8hAAkAmf9g/9n/nQDYAIQAdgDyAA4BHAD4/uj+kf9o/yj+fP17/sP/W/+k/dv8wP1+/nj9vPt1+8P8q/0B/eH7z/uB/Hz8WPtF+mT6avst/BX8hPsh+yr7cPu++wn8Xfy0/Of80/yR/Fr8Ofzi+wX7yPnR+LL4Q/m8+XT5jvjR99P3X/jA+I/4DPi096P3j/c798T2cPZm9q32OffV9wr4iPey9oP2kfcz+Rz60Pkv+UT5+PlU+vH5bPlY+W35Mvnx+Ef5Bfpc+h36B/p4+rn6MPqa+R/6dPsC/BL70fmg+UL6fPr9+aH57vlT+jD65fkv+vD6RPul+p75Kvmq+ZL6+PqG+t/59PnY+pz7g/sB+wT7fft2+6T6C/qQ+qT7H/zx+wz8qfza/Bf8VfvC+w798P0I/j/+EP+a/+f+c/2V/Lb88vx8/Kn7Qvto+5r7iftd+1H7afuV+9r7Q/zW/JP9Vf6//oz+/f2j/bf91v2d/SH9p/wk/Hn74/rK+g77HvvJ+oX6tPoY+2P72PvJ/NH9Of4p/pb+1f/uAOQAEgCd/8v/1f9C/6T+nv7o/s7+Of6o/U/9/Py+/Ar99v3c/h3/4P65/sr+w/6J/mP+dP57/kv+Kv5W/nj+Cv4v/cT8VP1a/tj+i/4i/kf+wv7z/s/+8v6X/wgAl//C/sb+8/8gAT8B2gBKAaoCkQMWAy8CXwKSA0wE2AM8A50DkQTOBAIEKAMGAz8DJgPaAukCSgNeA/gCsgIFA4EDZAO+AmwC3gJnAxoDIQKgASgC4AKOAkIBVgCzALMBLAILAjYCBgOyA4YDBAMiA94DVwQsBPADIwReBBQEfQMxAxsDqwLjAXQBmgGqATkB9ACpAd4CYgMXAysDSgR4BXUFlQRFBA4FBAZFBiAGPQZnBuQFtwSyA1QDOgPkAm0COQI4AgsCrgGHAc0BPgKLAssCSwMHBJUEnQRIBBgESgSVBIgEIATMA9QD+wPsA8cD5AMrBA8EYQO/AtUCbAO2A1YDxgKYAtICMgOhAxgESATsA1oDRwPfA3kEcQQBBN0DIQQiBGcDYgLpASYCcAI7AsYBrgELAlkCMALDAX4BdgF2AYUB9wHkAssDBAR8A8gCcwJ3AnkCZQKGAvECLwO4ArsBEgE6AaEBYAF8APH/VQAOATUB7gARAbcB8AE8AXgAtACVAb8BxgDF/8f/dwDVAMAA+gDjAekCaAN8A64DPAQIBekFtgYjB/oGaQbWBWEF2wQyBKMDYANOAyoDzgIkAhgB5f8o/1X/DwBvABYAqf/5/+MAdgErAZoAowA8AZEBQAHvAFoBPQKoAl0CLAK6AogDnAPqAmQCpgI1A1MDAwPOAs4CoAIsAusBIQJlAjkC2QHpAYUCGQMmA9ACeAI2AucBmwGNAcYBCwIrAiYCCwLqAewBPAK2AvEC0QLHAkID9AMbBIkD7gLwAl0DjQNMA+YCfgLwAWMBWAHYARICVwElAJP/1P8EAI7/9v7q/ib/9f54/nz+Fv9d/7/+6/3U/Uv+Xf7S/Xb91f1o/mr+4v1r/UT9Lf0W/Uf92P1z/sX+5v4H/wz/s/4N/oD9ZP25/T7+oP6l/lX+8v2k/UL9ofwJ/AX8o/xA/VL9Ev0S/WX9j/1T/RT9PP2n/e79/f0O/jH+MP7//eT9Gv6D/uP+M/+J/8j/t/9f/yH/T//U/18AwAADATcBSwEpAd8AmwB8AHYAcgBsAGcAVAAWALL/Zf9o/7j/MADHAHcB9AHTAR0BfQB3ALIAZQCA/9T+5v4E/yv+dPwN+6r6tvpK+nr5C/k3+V/5F/nD+Or4Wvl3+Sj5BPmB+Wn6Nvu5+x/8l/wc/Zv9Df53/uH+Uv/G/x8AWQCUAO8AQQEmAWgAQv8o/n/9Zv21/RL+Jv7n/Zf9YP0h/br8b/yo/GD9Fv5l/mr+eP6e/qf+e/49/hf+Hv5Y/rT+/P4I//7+HP9d/4X/o/8ZAP0AygELAg0CbQIwA8ID6wMgBK0EIQUHBcUEGAXhBTcGwgVLBacFkgYmBx8HBAc6B4AHiweUB/MHgwjECIAI9QdqB+4GdwYDBocF9ARpBC4EWQSpBMkEqwR1BEwEVAS6BHkFMAZyBlYGWwapBtAGbgbUBagFAAZXBlwGZAbOBmUHuwfzB6UI7wkkC6ILrAsLDPUM0w0fDisOnQ5mD60P3w6IDccMBA2ODYQN2AwoDNALjgsSC3UK6glNCVwITwewBpgGcQa4Ba0E9QO+A6oDfwN9A9YDOQQ4BOoDzQMbBIMEpgSZBLkEMAXIBS8GQQYRBtMFvgXuBVcG3AZrBwEIlggXCXoJvwn2CToKpgooC3ALOwuyClYKawqeCncK/wmyCb4JtwkkCSUIPwexBlEGAwb3BUgGrQbTBtMG9wYmB+sGLQaBBYEFBgZUBgcGcAX5BJcECQRwAzgDdgOyA3wD8QJ9AkcCHQLhAb0B0wEJAjgCdALbAkYDYgMQA58CfQLTAmkD5AMGBNkDrQPXA1IEvQTCBHwETARiBIcEZQTeAx4DfAJNAqcCLgNKA74C8wF/AXABVQHoAHsAdQDAAOQAowA5AAEAFQBaAK4A7ADnAJcANAD//+z/uv9a/w3/EP9G/2T/Xf9z/9b/XAC3AMoAwQDBALUAfwA+AD8AkgDdALIAFAB//1P/ZP8s/2n+ZP2W/Cn87/u0+3v7ZPuK+/j7nPw6/Xz9QP3P/KX8+fyV/Sf+k/7n/iz/Vf9b/0P/CP+y/nn+j/7D/pL+yP3o/KP8B/19/Z39o/3p/Uv+Zf5G/ln+tv7y/sz+l/6u/sr+Yv5+/cT8mPyt/I78MPy4+w77B/rp+D34NviP+A/5xvmd+h377fpj+i36hvoZ+577NvwC/cD9D/7v/bX9lf11/Tn9Cv0i/X/92v3o/Zr9E/16/OT7aPsu+2L79fuR/OD81vyq/IH8WPwy/D38lfwE/SP90vxj/Ej8ivyw/Eb8c/vb+t/6Hfvn+jP6sPnb+VX6dfo6+jv6rvoZ+xH70vrT+hr7b/vn+7D8fP20/VD98fwA/Sj9D/3//Gf9+/0H/oD9Gf04/XP9W/1C/bD9d/7d/pD+9f1+/Tb9CP0M/VL9ov3E/cT9xf22/YH9ZP2q/Sr+av5G/iL+Qf5Z/gj+h/1r/dL9Lv77/WH94/yz/In8G/x0+8/6T/r6+dP51fng+cv5jPlP+U75qPk8+rn62vq1+rr6QfsU/J78ovyH/ND8X/2S/RX9Uvzs+w/8cfzd/Gn9Nf4a/8j/AADB/0v/AP8Y/2L/f/9Q/xL/6/6o/hb+aP0A/fD8DP1R/db9Vf5C/or92/zL/CD9VP2E/TP+Pf+8/z//fP5P/pb+jv4k/hf+v/5t/0//iv7v/eb9H/5B/m7+6P6a/ywAXwAvAL3/R/8c/1j/s//H/4//b/+z/zEAeABAAJL/n/6x/R79Gf1k/Wz94vwX/Jv7kvuo+6n7zPtJ/OL8Kv0f/ST9cP3b/VT+If9SAFABagHHAFAAlQApAV4BKgEDAQEBygBPAAgARwCnAJEAIAD//24A7wDqAHUAHAAkAFsAigC9AAIBLgESAdEAswC9AKEAHgBQ/4P+6v2J/V/9aP2T/b39zv3A/Yn9MP3r/Aj9gv3j/bf9G/2j/Jz8rfxi/M37ePus+yD8a/yE/Kr88Pwd/QL9w/zC/Ez9WP6L/2oAtACEADQADwApAHwA8wBjAaYBzQETAnwCpQI+AokBIgE4AVkBKgHrABABewGaAUMB7QD/ACwB5gA9ANf/EgCVANUAzwDkACUBLwG9ACUA7P8fAFYAUQBTALQATAGgAYcBWQFbAWQBMwH4ACIBpgHiAV0BYwCd/zr/2v4v/mj95vzD/OH8Kv2V/fX9Ev7n/a/9kf2P/bj9Nv7s/kX/uf6M/aH8dvyT/D/8ffv/+hr7Svvs+hX6Wfn/+N34+/jE+Vr7FP0d/ln+Wv6E/rD+vf77/sT/4QCsAa4B8AC+/23+Y/37/Er9HP4u/0UACgERAUkALv9l/jT+ff4W/93/fgCiAEgA1v+E/xj/X/6w/aL9SP76/gz/Zf5m/Wn8lfsJ++T6FPtP+0r77vpQ+o35v/gM+Jz3gPeo9wD4dvjk+A75yPg++OL3Efi1+G/5BPqB+vP6Jvvn+mr6JfpD+nL6cPp8+v764fuY/N/8D/12/bf9Ov0u/I77/vv5/Hz9Rv3+/C39k/2r/WX9Ff3Y/Ir8Q/xl/Pv8ff1z/SD9Jf2d/fj9zP1g/Tz9av1u/fj8TPzq+wb8ZPy1/OP8Ev1T/Xb9Qf3U/Lj8Zv24/hAA/wCGAbkBYwFUAOX+2f2l/RX+qf4N/w3/Vv6y/H36kvif97D3Y/hZ+T36svp7+sj5GPnG+Nz4VPk9+nj7j/wL/e78ofx6/Hz8jvyy/Oj8HP1Y/dz9wf6j/+//m/9B/3H/HADTAGcBCAK8Ai0DEAOHAtwBEAHy/73+Mf6z/pH/oP+N/kj9zfzx/Nj8XfxU/DP9RP6a/m/+wP61/1cAFACl/+T/YwACALf+uf3I/TT+F/62/en9j/6q/u/9Vf2j/UH+EP4Q/Wn85vwR/vj+SP9W/2b/Vf/7/m/+2P00/Wz8mfv/+sT6xvrF+qz6o/rD+ur68foQ+8f7QP3z/iMAtQA5ATACfAO4BM4F/gZWCIYJMAotCoIJTwjpBroF5wQ2BIsDLwM+AwgDnQEq/yb9w/yX/V7+u/5s/8UA+AE5AvkBHQKSAooCGgJvAgkEuAUhBpoFkQVTBp0GnwVNBCEEKAUtBnUGagaDBmwGqQWCBLcDjQOmA58DcwMzA8QCEgJPAeMAGAHfAcECIQO/Av8BawH2ABEAqP6N/Yf9Nf6E/h3+z/1Y/lL/2//J/67/3/8uAKkA0gGxA0UFlQUJBfQEvAVTBsoFwQSCBCkFfwXCBLMDfwMrBL0EsgSHBL8EAgWIBCQDcgEsAJD/av9x/3//pv8fAAcBIwIIA34DowOxA7sDyAP4A2UE9gR0BboFsAUkBdEDxAGL/+H9KP0p/WH9Zf0S/Xf8uvsH+5P6jvoH++X79fzu/Xr+X/7F/TX9H/1q/a795v2O/uT/VgERAgUC/gGPAlgDnQNMAwoDSgO5A88DlAOKA+IDIAS2A8oCGwIiApcC8AIkA4MD5AOWA10CIAHsAHMBRgG4/8n90fy3/Gf8p/uC+5P84/0g/nH9Jf3V/bf+9f7M/tz++/6C/nv9tfyN/GT8kPtj+rn50vkn+kz6d/oR+xb8Kf3+/XP+gv5S/kb+ov4z/47/of+4/+z/6v94/+f+tv7w/jn/Yv+O/8H/uf9a//b+3f7v/uD+zf4S/6P/9f+t/yP/4P7j/qn+8P0b/dD8Sv0u/vP+XP+T/9L/AADD/wf/QP7y/Q7+DP6q/Tv9Df3l/Gv86PsW/Cn9d/5h/wsA6QDBAdsBJgGiADkBlAKFA4QDNANeA+IDCASVA/wCkwIxAswB9gElA60EKgUpBMcCTQKUAmkCYQFrAGMAxwCAAHv/p/6J/pr+Yf5o/mn/8wDTAaQBSAGJARACJALnAQ0CkwKVAoQB+P/V/jn+mv28/Pz7vfv3+3X8G/3V/ZT+bP+LANUB1QJRA60DYwRCBZ0FPQW1BI4EhAT6A/sCRQJPAqoCigK/AcMABABt/9D+Xv5j/qz+of4G/mL9Uf25/QP+Ff6A/pb/ywBgAWMBgAHxASoCxwEzAQMBBAF/AEz/CP5I/QX9Cf1o/SX+uf6K/sv9aP3n/cv+S/9b/6P/kADJAaUC5gLSAq4CawLZAQsBZQA7AIAAzQC9ADQAZP+Z/h7+IP6e/l3/+/8eAKT/s/6m/dr8bvxS/Hj87PyY/Rr+Bf5e/Zj8EPzC+6H76vvY/Cf+Nv+8/wEAYwDWACIBQgE/AeUA/v/K/t39cf01/eX8uPzx/Ff9bv0i/bz8U/yy++D6Vvph+rX64/r/+ln7yPu++y77v/rl+jP7BPty+in6aPq3+rb6ofrc+ln7y/si/G38dPz5+z374PoS+137Zvtn+7/7RvyP/In8cvxa/B381PvV+xf8FfyF+8j6YfpE+iX6K/rE+uT78vyF/cf96/3N/Vn9/vxG/Sv+Nf8PAK8ABAH1AL4AzgA3AZUBrAG9Af0BJgLqAYgBgQHdATwCggIAA9YDpQQXBUEFPAW6BIcDEgIIAWwAsP+y/hH+M/5v/rj96Pvg+YL47/fh90L4CPnb+VT6jvoe+0/8uf3A/kj/nP/c/9T/fP8u/yn/HP+i/uz9lP21/bb9Iv1P/Nj7svtE+2n6svmj+Qf6VPpY+kH6KPoL+hX6gPo0+9X7N/x3/Iz8Lvxp++b6M/sH/JP8kPx6/Mv8YP3q/X3+Yf94AEcBjQGWAdIBUwLSAhEDGQMQA/YCpQILAk4BlgC5/1r+ivzn+uz5QflE+Cb33vak9zb4Uvec9R31tvYH+UL6Xvqk+pz7g/zO/A/94v3V/jX/XP8nAGAByAH/AD4ArAC6AQoCiAFwAWECdgOpAzsDDQMrA9wC0wGNAH3/kP6+/Ub9DP1b/Nb6Qvmx+Bv5e/lD+f74UfkF+oH6v/of+5/75PsP/M/8Yv72/3gAxv+h/sH9QP3y/M/83vz5/Pf83/zC/IT8Afxm+xn7L/s7+9D6DPp1+UL5GfmP+LL37PZ59jH25PWy9dr1ZPYM94b3vPfF98n36Pcg+EX4O/g/+M34IvrQ+xf9n/3N/Ub+O/82AKAAUwCt/xf/nf7y/ef8vPvX+kf6pPmN+C/3Hva79cr1y/WF9Sf14fSr9Hz0nvRy9eL2Pfjo+BP5ePli+jz7UvvK+n365fqW++T7zfvc+0f8m/xk/NL7gvvL+4b8cP14/pj/lwAvAUYBAQGfAFYASQBxAJEAbgD//1//if5v/U78sPvg+3T8uPxn/Mf7G/tu+un5BPro+gb8pPy7/Mr88vzO/E38HPy9/Kj98v2V/Wf9yf0Z/sb9R/2A/Y/+vP9vAKwAlQAlAI7/T/+h/xAAEACz/2//WP8U/4P+C/4I/lj+qP7k/iP/Vf9Q/x///f4F/yD/O/9s/8H/MACqAB8BdAGnAfoBvwLVA6EEwASEBHkEnAR8BP8DqgPVAxoE1AP/AjkC6QHSAZMBRwFjARMC9wJ8A2YD4gJCAqkBBAFRAL7/cP9K/xH/1f7x/pT/cQAkAawBQwLZAiMDPAO0A8EEwQX4BZQFbwXeBUsGOgYXBpAGdQfgB2YHlQYQBrsFIQVSBOUDKwTDBCEFIAX4BNwE0QS/BJcEaARuBOMEpAUpBgoGbwXQBFwE5wNeA/4C7QLxArUCMgKDAZkAa/9b/hL+vv7Z/8YAbAH+AXAChQJNAjACdALyAmEDnwOZAyEDLQIRAUYA9v/y/wEA/f+t//P+Ff6g/cn9Lf5V/kv+df7z/nj/yP/3/x8AHwDM/0T/4f7U/gr/VP+C/3D/HP/I/sP+Df9d/4P/sP8kANEAZwG5AeABEAJcArQC/QIgAxoD/ALKAlsCfwFIAAX/7v38/Bz8YPvj+pb6T/oP+vP5B/o1+nP6v/oL+1L7z/vh/Hv+AgDcABABEwEmAUABegESAtMC9AIGArsASgAHAQwCZQIjAvkBIwIrAqgBywAZAOb/MwDSAFoBTgGZAMr/jP/e/xgAvP/w/in+pf1v/Zj9C/5Y/iL+tf3X/dj+MAAvAbAB+AEtAlQCpgJtA4YEcAXfBe4FsQUABe4DCQPRAhgDVQNZA1kDXAMdA4YC2wFMAcgAYABhAMkABAGVAMz/Vv9S/1L/L/8//6b/BgAjAEUApADUAGIAsv+g/1sAJwFaAR8B/gAvAZgBKgLTAlkDnwPfA1AEygQNBTYFfAWZBQ4FGASzA1IEEgXVBL4D9gIGAy0DjgJ6Af4AeAEzAl8C+gGQAXABawE+AesAoQB4AG4AjADjAF0BtQG2AXUBLQEEAfcA+QAKASgBVAGwAWICQgPWA9oDpAO9AzIEiwSDBGgEqAQ4BbcF4AWsBRMFHwQ0A88C6QLhAkMCcAEuAbgBigIeA2YDiQN1AwoDjAKEAjYDWARnBRYGWgY+BuMFogXkBb4GxAdlCHMILwjnB54HOgfXBsoGMwfFBxEIAAjBB10HmQZuBV8ECARPBGIEmwM3AvMALwDO/8T/RgBJATACdgJbAocCEwNyA2EDWwPkA8gEewXpBWoG7gbkBhAG/AROBAYEzAOeA8ADFwQhBKID6AJPAtoBewFdAZIBxQGeAUcBMgFwAacBrQHKATACqQLlAtQCbQKEASsA+f5w/jz+m/19/LH7u/sZ/Bf82/v3+0f8CPwp+736pvto/dz+tf+lABYCdAMGBNoDhANcA2sD3gPfBAcGhAYHBigFngRwBDAEwANjAxwDlwK8AfYAmgBgAMX/wv7e/Yf9uf0v/qf+7/7x/uD+E/+T/wkAOwBlAOUArwFfAscCJgPCA5UEYAXaBc4FQgWYBDsEFASpA/QCmwL3AjgDPwI5AJz+XP7Q/sr+L/7M/fT9J/4Q/hX+nv5w/y0A6QDOAYYCnAJGAjYCogIFA/MCmgJHAt8BNAGDADAAKwAcAPr/DgBgAJcAkACqADQB3gEVArQBIAHCALwAEQHGAboCigPVA4gD7gJ2AmMCjwKMAhICTwGlADkA4/+X/4L/oP+M//v+NP66/aD9hv0v/c38lfxo/Az8jvsn+/X6+/pC+7r7Gvwn/BT8Uvz9/Ln9PP6n/iv/m/+p/3n/kf8kAM4AEwEFARIBWwGBASsBigAmAEgAtwAMARIB2gCKADoA7/+q/3b/cv+3/ycAWgAKAIb/bP/c/0UAMwAGAFcA4ACpAHL/Ov76/VP+Of6T/Ur9zP1h/l3+Gv4q/jb+hf1p/Az8zvzI/TT+gf5a/00AaQDI/4j/LQAFAVsBhAEYAuACTQOEAxwE6wQXBXgECwSNBFEFKQX/A8YCCgJsAZYA4/+X/zH/A/4//L/69fmI+Rv5xPis+J/4Y/gl+EH4v/hm+Sf6EPvz+338wfw2/Qv+wv7Z/nv+Mv4Q/q/9BP2i/ND84/z0+yL6gPjE94v3MPfc9jL3Ofgz+aP57vmg+pj7SPyh/CP9BP7T/iP/Kf9U/5n/i/8O/4P+Nv70/Vv9WPw0+1b6/fkX+jj68/li+RL5SPmg+ar5n/kB+r/6O/tP+5j7ffx1/cf9kv2J/dr9A/7X/d79cv4D/9D+8/0t/dP8hvwA/Jj7uftD/LX80fyo/ET8kvuw+gP61fkF+jH6Hvro+dj5DfpV+lj6/fmm+df5m/pj+6H7ZftE+6L7RPyq/KX8cvxS/EP8Ovxd/M38VP2H/WL9XP21/ez9V/0r/Gj7j/v7+9H7P/sj+5/70Pse+zP6Evqq+gD7qvpc+tH6wftd/Fv8Dfyy+0b7CvuD+7r85P1A/vL9qP2X/WT9+vzQ/Cb9ef07/bH8kPze/NT8C/ws+xD7n/sO/Ab86fsN/Dn8Pfxj/Pz8yP1J/of++P6s/yMAHAD8/xoAKwDG/z3/Sf/N/8n/t/5g/db8+PzD/PH7cPvs+678gvxo+5T61Pq4+4n8V/2K/tv/igCNALMAawEUAvYBdAGLAWUCGAPtAjkCsgFxARIBigBEAHQAugCeABoAkP9a/4T/xf/E/3z/U/+b/wYA9/9Z/9f+8/5a/4D/e//C/y8AFgBZ/8P+8P5m/1X/1P6y/i//m/9W/6T+L/4x/nL+zP5J/8r/CQD1/8X/t//i/0oA6QCTAQ0CTAJrAnMCVQIvAkgCrgIXA1YDpwM7BLgEowQwBB8EvQRiBU8FpwQpBBgE9ANIA1sC1gHmARoCAQKiATwB1QBLALf/ff/S/1sAkQBdACMAFQDn/1n/xf63/hP/Hv+C/sD9ev2Y/Yz9Nv3+/B/9UP1S/WL9yv1b/qv+t/7l/mj//f9QAGwAggCfALEAxgD0AC0BXQGfASYC3AJOAycDlgIlAi4CowI3A6sD3gO9A0cDnQLzAWoB9QB2AOb/bf89/07/Tv/e/vj9A/2F/LL8Rv3S/Rr+L/47/kb+T/5q/rb+KP+G/6//w//4/0wAiwCQAG8ATwBKAGEAjgCyAKwAfwBGAPX/Tf9E/kH9rfxm/AX8nvu8+3P8+fzC/HD8Bv1b/jX/Jv9G/4MABwJHAlYB4wDGAcACRwKzAJj/fv9y/8b+Gf4x/r3+5f6M/jj+GP7t/cn9C/6T/r7+b/5O/qb+wf4U/lj9k/1h/lr+N/1k/Or84/3R/dX8VfzT/Er93PwV/OL7N/xn/FD8TvxZ/AP8Zvs1+6L78/uS+/n6Bfu6+0r8PPzx+wD8evwD/Ub9NP3y/Mf81vz7/AX9Hv2d/Wv++v4O/yb/tv9vAMMA1gA7AdMBvgGvAJ3/hf8WAEMA0f+E/8j/DgDW/5b/DAAHAZcBXwEMAVsBJwK6AsECkwKiAuYC6wJTAjsBHgBj/w//+v4l/6r/WQCtAEEARP9R/un9H/6g/vH+zP5q/lb+uP4F/6j+6f2e/fb9Kv6c/df80PyF/Qv+7v3N/VL+KP9z/xT/x/4Q/4b/c//P/kX+YP7u/kz/Jv/B/pv+vv60/iL+Vv0L/az94/7t/z0A5P9r/2j/9f+PAMEA1ACaATgDrATiBCAEwQN5BHoFngXcBBoE3gPMA3UD+wKkAkkCmQGuAPz/uP+2/83/EgCQAAwBVAGIAd0BRQJ9An8CeQJsAhoChAE1AagBiwL6AowC2AGqAQQCRgIqAh0CgwIaA20DlQMTBO0EbQX9BPADGwPRApQC1gG8AOb/pP+1/6j/VP/W/lX++f38/Xr+Lf+w////hABlARkCAQJYAf8ATwGqAXoBFwE3AbkB0AFKAfgAegFQAosCDwKGAVYBUQFdAb0BfwI2A5gD7wOGBB4FdwX+BVAHFwlBCmoKZwr/CswL3QsgC1IKtgm0CPkGTAW9BEkF7wX6BbYFuAX1BeYFaAX+BC0F1wV1Bs8GNQf4B+YIiAm4CbEJlgkyCVwIYQe2BnAGUAY+BlkGjQaFBjQGAgYkBiEGfQWQBCkEUQQwBF8DrQIGAwIEUQR1A1IC2QHgAcoBpQH8AcQCSgMzA/cCAgMDA3sCpwFCAXIBnAFnAVAB6QHoAoIDkAPFA6kE1QWPBtIGMwfeBzoIzgcGB6oGxQamBvwFZgWcBW0GAgf6BrAGfQY4BqYF+AR2BAcEfQMkA3QDOASPBAQELgPkAjEDegNtA0YDOAMrAx4DXQP+A40ErgS6BEwFRgbXBpMGCwYLBoEGpAYGBicFzQQXBXEFWAXsBKQEowSNBAwEVgPkAtYCzgKKAj4CKAL9ATIB2//I/pj+6f7X/h/+bf2A/UX+AP8c/6v+If7N/Zf9NP2V/Br8PfwB/df9O/5W/sH+nP9WAH8AdADhAKABwQHPAKP/XP/0/0sAv//y/tf+Uf9t/8X+A/7e/SD+Af5I/YX8Tvyn/Dv91P1u/gP/hv/6/1wAfgA+AOz/FwDoAMgBEwL2AT0CRQN3BBIFHwUuBVkFJAVyBPYDTAQCBRsFUgRGA2sCfgFHADD/lv4V/g79tPvU+qD6f/og+gP6jvou+xH7S/qd+U35CvnO+Br5Cfrh+gT7zfrx+mf7mPts+2f7tPu3+/H60Pku+T75fvmQ+bn5YPpK+7r7N/sn+nX5o/k9+lr6nfmN+O738/cy+EL4HvgH+CP4Tfgd+FX3YPY09kr34fix+Xv5XPlY+h78l/1K/oj+hv4V/kX9qPyJ/IT8MvzT+8f7yftc+8n69foL/Br9Rf3p/BT9Iv5t/0QAqwAFAW4BoQFmAdYALQCG/8r+/f1u/XT97P0q/q/9xfwh/Pf7yfs2+4j6OfpD+kz6Tvqu+pv7zPzc/bH+VP+v/6v/T/+c/or9VPx7+zn7Kfva+pn6GPtS/Fn9g/04/SD9Cv1N/Av7TPqW+jL7OPvQ+sj6Svul+2P74PqD+g76I/n99x33dfaN9W/0yvP984X00PQa9Qb2mPc/+bv6Tfz5/UD/9f+vAOYBEwNhA/kCzwImAyYDNALvAFgAjgD0AEcBrwEDAs0BIAGuALcAlQC+/6P+Cf77/f398P0N/h7+pP3U/Iz8Ev19/eb8p/ve+hT76vvb/Kf9N/6s/nv/1QAaAmYC5wHCAYYCeAPLA84DMgTZBDYFcQUuBjQHdgeWBm4FsgT5A6QCAgGn/2f+5/zF+wP8T/0V/on9pvyn/GX99P0X/i3+J/6r/RP9Qf0y/rX+8/2a/OP79/sA/Hr7zfqS+t36a/sR/Mn8gv0V/l7+Uv4n/lX+Lf93AK4BmwJ4A2kEPQXMBTkGnAazBkgGmgX/BF8ElwMkA7QD9gSYBdsEqQN2A2UENwUABSsEmgNPA50CTwEoAAoA+AAoAucCQAOoA1EE6wQmBSAFJAUlBdMERQQSBKIElAU4BmAGawaWBrkGuAa4BtIG4gblBiYHygdeCFsI2gdwB0kH9wYlBgYF9gMLA1ECAwIdAg8CcAHGAOwAoQGLAQsAZv5Y/tT/+QByAAf/ZP4J/wwApgAJAZMB5wFuAVsAmP+q/zoArQDWANwA1QDjAGEBfAKqAwYEawPQAikDKgSjBBAEYAPEAyMFKAbuBRUF6QSuBVIGxAUrBH4CUgF+AM3/Yf9V/2D/WP+P/0gA/ADNAMf/B/9h/1oA8QD8ACEBnwHjAX8B/QAmAb0BkgHh/1H9Yvv1+qH7avzh/Fv9GP6k/mP+i/3//BD9Af0m/AL7sPpk+0P8sfz//If92/1o/Wn8lfsS+4X67vm/+fT57/lw+Rb5dflA+tz6SPu9++f7Sftm+nP6s/v+/Fj9PP2b/Tv+EP74/B78XPwT/Rf9M/wj+2367/mD+XL5Efox+zn8sPyW/D/8BfwI/DL8afyd/LX8mfxw/KX8Sv2y/Qf9X/vG+f/4vPhe+Av4dvjE+Ur7ZfwQ/Yj98P2N/sX/YgFfAgAC3QAxAEMASgDe/5v/AQBgALb/Lv7t/Hn8Lvxo+436afoG+6b7w/ui++X72Pwy/lb/wf9v/+X+uf4l/+3/ogDOABcArf5Z/cD8kPzm+6L6zPlG+on7Rfz7+2D7Qvu8+5381P0R/7H/kP+V/7AAdgJsA9cCjAHOAO4AcwH6AXQCwAK/AqsCzgLiAksCDQEAAL3/0P9s/5j+If6E/n//ogDOAd8CUQO1AlMB/v9P/zX/Pf/9/kX+Mf0i/Hv7PvsK+676iPoQ+xb8vvxs/KD7f/t4/KD9tv2r/Mv7PvzA/Sf/7v+XAJEBXwJiAt8BswEOAkgC8QGCAYYBrAEzAQ8AEv/s/on/UQCzAEwAGv/P/YH9gv7H//b/5v6m/Rr9FP0D/eH8D/2l/Wj+Of8CAFgA0f/m/tf+KwDQAT4CcAHoALcBGgOhAzQDNQOWBHUGGwcGBnUE9QPGBN8FLQaJBX0EiQPGAhgCdAHdAEAAjv/t/s3+gf/ZADwCJwOEA3oDDgM5AkgBuQCgAIAA7P8o/8f+yP6m/j7+L/7n/tH/6/8b/1D+Rf68/h3/Zv8KACYBTgIgA44DpwN2AzcDMQM+A9UCzgHRAJEA5gAXAQEBVAGPAjYEXAWzBbcF9gWdBo4HiwgrCQcJKwgpB40GTgb2BSsF5wNMAooADf9i/qz+Rf9H/4z+9P11/vD/NgFjAdIAkAADAZIBqQGHAb4BXgIZA/4DUAWtBhoHTwZTBS0FgQU1BUAEwAMeBD8EMgPaAdMBKgNJBFEEPAQpBXwGyAYSBvwFggeMCUEKNAmUB5EGNAbRBfsEygNrAtkAFf9s/WP8LPxP/Bn8a/vg+vj6bPu5+w38EP3B/kUAGAHHAQsDmgSaBfIFQgaWBgsGKgTbAWYAAwAXAGEAEgHiAQoCaAHRAOEAFgHBAEQAlgDCAb4C3AKVArACMwOUA4AD7QLDAQsAU/5P/Qn91vxG/JP7DfuO+uH5Zvmw+ar6f/t/+9X6R/qD+rT7bf3j/nT/Ov/q/gf/Yf+N/5j/6P+NAB4BQQECAYwA9/+S/9P/kgDIAJ//sv2O/OD81v19/vn+3f/rAGoBeQEBAigDwwPmAksBVQAVAD3/Gf28+sT5ffq6+yv8d/s3+lL5U/kN+s/6N/u0++D8j/75/9YAtgEIA1wE9QTHBDwEaQMYAqIAAACRAHkBjgGtALn/Zv+m/xEAZgBsANv/wf7P/cT9nv6l/z4AiQDlADsB9QDi/7/+pP69/+UAxwBb/+r9oP1L/tH+g/6s/eb8Zfz8+4j7Cvt/+v/52flO+i774/sA/KT7T/tp+wb86vyq/fH9v/12/ZT9U/52/14AbwCK/1L+qv3R/Sf++v1f/eL8kfzV+4L6efnK+VH7w/wa/Zz8NvxE/Fv8J/z9+1/8Ov3w/Rf+7v38/Vf+l/50/jz+dv4g/4r/LP9p/j/+If9SAKIAuf92/gX+pP6b/y0AXQCUAOoADAHlAOQAagE1ArECwgLIAuoC0AJNAuYBSAJSAyAE/QP8AqABWwCG/1v/qf/P/2r/4v7t/pL/LQBvAL8AbQH/AcgB9wBxAKsALAFPAREB2wDLAKAALACm/2P/m/9HACEBsQGmAS0BzgDcACUBRQEUAbQATADv/7j/1P9TABMBxwEiAvwBZwGtABMArP9n/0r/ZP+V/5z/gf+n/1cASAHYAbYBGQFTAIX/xP5Q/l7+zP5J/53/w//K/+r/kQACAs4DDgVYBTUFZgXuBTkGGgYTBoMGAAfeBiMGgQVqBZwFmAVMBQIF9gQ2BdQFygbCBzYI8wdNB78GaAYKBm0FogTkA1oD8QJsAqABuABCALAAywHDAvcCpQKiAmYDfgQWBecEeARpBLMEvAQXBBEDYgKBAkEDFASDBIMEggQWBXYGGAgJCdcIDQiMB4cHbAfQBgoGmQVgBd8EGgSpA9oDMQQdBM0DzQMVBP4DPANuAmECFQPOA/ADcwOSAmwBFwDO/s79Kf3E/IX8dPzA/J79BP90AFcBmwHLAVECyAJ9An8BwQD5AMcBQwIYArMBggGVAewBkAI1AzMDXwKEAZUBkQKpA2QEFwUGBscG1gZeBucFgQXYBBgE6gNyBNwEbAScA38DTQQzBZEFvQUvBogGCQbPBMkDfwNgA7cCuwE7AXABvAGfAWkBpQE9ApwCqQIPA3gErgbKCBUKhQp7CkoKBQqTCckIngdPBjsFcASBA/MB6v8u/oD96f3V/qz/LgBqAIAAmwDeADgBYwE1AdwArQCjAE8AZP8x/l39Jf0c/b78Ifzh+3z83f1+/9EAigGjAWIBHwH3ALwARgDL/6H/z//3/9v/sP/N/ykAXwApAKP/HP/O/tn+Sf/6/38AeQAAAK3/CAD1ALIBhwF1ADv/of7H/iz/Y/+e/18AyAFYA3oEEQVpBcEFDAYsBikGHAYEBswFeQUwBf4EtgQgBEgDggIZAggCHQJIAqECJgOeA+QDFARRBH8EaAQQBKEDCgMIAqsAff/m/qv+Vv7v/eT9PP52/kb+Bf4U/i3+1f0y/ev8Mv2L/a39Dv4m/5EAfwHBAfABcwLlAroC/AE0AcsA0wA8Ad8BXQJfAgoC1QHoAd8BZgG/AHgAtAATATgBLQE2AX4BCgLAAlwDgAMMA1EC0gHNARkCagJ6AgUC3wA4/6H9mvwR/Ib7o/qQ+bf4VPho+Oz44/ks+3f8cv0O/of+Hv/K/zoAJwCk/wn/k/4r/qT9Fv3D/Kj8cPzv+4H7nfsx/LP84/wj/dz9zP5b/2X/Xv+U/6//OP9X/rz91f1b/rb+mv42/vP9Fv6M/vr+Hv8j/2b/3P/1/17/rf7L/sT/kQBPAFj/wf4Q/83/UQCNALwA1wDNAPcA1wFLA3MEpQQvBMcDjAP2AtABsQBGAHMAigArAJ7/Q/8q/03/0f/FANgBkALiAiQDggPLA8UDewMCA00CYAGJAAYArv8p/47+Tf6D/rv+gP7s/XH9Vf2k/V/+XP8TAP//Mf9H/rb9aP0h/c/8WPx0+yX6APmb+Nz4Mflu+en5y/rM+7j8yP0Y/z8A3AAoAZEB+AHpAXUBNAFfAY4BewFtAYUBTwGLAOz/RAAwAWkBgABp/wj/Df+w/v/9of2s/Yv9Cf2i/Kj8wvyf/Jn8Kf0f/uf+av8SABEBGALnApADFAQ3BPUDxgMLBG4ESgSJA70CWQJEAkACZQL0At0DuAQgBQMFoARkBKUEQAWWBREFugMkAtYA9P9r/yn/Dv/y/u/+Y/9qAIgBIgJeAv0CNwQzBfoEtwOJAioCMgLeASQBmQB/AHAABABg/97+iP4r/tP90f09/sT+Hf9n/9H/IADe/wP/Hf6h/W39G/2r/GH8Mvy1+8b62vlm+UX5Cvm5+Ln4EPk3+d34cfiJ+Af5Zfmi+Vn6vvsY/Z79gv2w/aL+9v8WAd8BbQLBAtcC1ALPAqECLAKqAW4BWgEEAVUAu/+N/6r/vv+6/7f/q/+R/5v/7v85AAMAZP/9/hv/Tv8k/+P+Hf/J/0sAXQBPAG4AigBsAEUAUwBcAAQAff9b/9L/bwDFAOgABwEAAaIAJADl/9T/nP9P/23/AABGAJv/Yf6i/bb9/f3W/Wz9Nv0f/bP88vtn+2H7g/tQ+9T6b/pF+jv6YPrU+k/7OPt5+tH5/PnI+m/7qvvk+0/8YfyY+2P6yPlF+lz7QvyT/Ff8yPtH+0X74Pu//G79zv31/ej9uv29/Tr+9v5t/5j/9f+tAC4B/ACCAH4A5ADzAHUAHQBoAMYAbwCZ/yr/Wv9x//f+ef6t/lP/kP8s/8r+6P4//07/Gv8E/xn/Dv/T/sr+Rf8PAK4A7wD+ABABIAEXAQIBDwFMAZIBsAGgAZIBtgEOAoACAwOjA08EwgTHBHIE/gN2A60CpgGyABsAyv+A/0H/PP9n/3f/YP9z/+X/dQDRAA4BZAGcAU4BvgDkAEQCGQQaBdgEAQRjA0QDpwORBL0FfQZfBsYFaQVgBRwFSgRQA8QCsgKuAlwCswH2AI4AygB0Ac0BWAF9ABgAZQC/AIUA1f8s/77+bv41/iv+N/4t/if+cP76/lz/YP9b/8H/rQD6AXADpQQVBbwEbwT5BAwGjQYBBhEFfgQyBNIDogMmBBkFngWHBY8FIAaFBu4FzwRrBDAFMgZlBtIFRAVHBcYFaAbQBq4GBAZWBUUFxwUsBvkFiAVyBbsF3wWlBV4FTQU5BeMEkgS+BFQFvwW2BY0FoAXTBeYF/AVkBgIHWQdBBwUH0QZmBpIFogQHBL8DfgM0A/gCogLwARcBqwC8AJoA1/8V/1r/pwD3AZUC4AJ7A0sEvgS+BNkEZwX/BfEFAQWKAxgCEAGaAIMASwCE/03+UP0c/Z/9TP6x/tf+D/+O/0UA/gCOAeoBNgK3ApsDswR8BYUF4AQRBIoDUgMlA9UCcwIZArwBQwG5AE0AAgCM/5T+Qf1B/C384Pyg/QT+Zv4+/z0AjAD1/1z/rP+cABUBrgA8AJUAZAHEAaABwQFzAvICpAI+AvQCswQFBuIF8gR+BK8EkQShA4cCDQL7AYMBcwB4/yr/aP/B/wgAUgCYAMYACgGzAcMC4APCBHUFBAYoBpMFhASxA4MDnANYA6UCFAIQAkQCCgI/AXoAUwDEAEkBiAGQAZEBkwGXAcUBSAL5AnMDcgMIA2gCmgGYAIz/uf4u/qv99Pwd/Gv7Bvvu+hH7S/tO+9n6HfrB+UT6bPuJ/EH91f2X/m7/FACeAGABYwIvA0sDxwIXAo8BJwG2AD8A7f/e/wMAGQDZ/z3/nf5X/nf+tP7g/hn/hv8AADwALQAiAGQA5QBbAaMB2gEgAloCPgKwAQgBywAdAZoBzgHQAQkCiALXAp8CNgImAmQCYALaATgB3wCXAOP/x/7R/WX9Tf0a/aT8D/x/+wz73PoW+6z7Wfzi/DP9Tf1I/Xb9Of6L/80AWgE8ARIBNgFIAc8A8/9B/9b+Kf7j/Hz7vvrI+vj6z/qK+rb6Y/sT/GT8hfzg/IL9+/3m/Wf9D/1E/eX9kf4X/4P/1f8CAEAA7AARAiUDogOhA5QDjwNKA+AC3gJmA74DQQNcAgUCUQJhAs4BXQHfAewCdwNAA/wCEAP3AksCmAGRAd0BYgHX/0X+zP1A/pP+QP7S/fv9mv4E//D+1P45/xUA5QBGAUABBQGsADoAy/+E/3n/nf/Y/wMA+v/C/7D/JAAbASMCxQLfAo0C+AFZAe8AsgBGAHj/u/6l/gf/9f4A/ub8pPwp/Yr9Xv00/ZH9F/4w/hr+l/6r/2UAJQCW/+n/TwGvAuIC8QHhAIYA0QA9AZUBCAKgAv8C1wJkAi8CPwIDAhgB+/9//7j/vv/I/j39UPyx/OD91P4Y/x3/i/9+AHUB8gEFAjsC5wKjA6ADhwL/ACQAaQAkAUoBmgDa/+v/2QDnAVQC7gHyAMP/2/6j/vf+C/85/uD8F/xh/Ab9D/2C/Dz8q/xN/Yj9lf0f/kX/dQA4AboBaQJCA8oDqQMfA8sCAANpA1cDhQJsAc0A7wB2Ae0BOgJ4AqMCqAKpAucCcAMeBOcE3QXaBnAHbQc6B3EHFgiRCGYIxwdEBy4HWQd7B3sHaQdNBwkHfAafBZAEeQN8ArABJwHfALoAmQCHALIAJQGkAeYB5AHfAQgCRQJXAjMCKAKDAiMDcAPyAuEB7wBoAOT/8P7e/V/9fv19/d38Cfyq+677iPsp+xL7bPu8+7b7zftx/DL9SP2+/If8Lv0q/qz+sP7T/mH/DwCUABYB2gHcAuADwAR0Bd4FzAUvBTwESQOKAvgBcgHuAIIAPgAeAB8AXgD0AMIBjAI4A8sDIgT4A08DlQI0Ah8CGAIyAq8CdwMgBJkETQVZBh0HBweBBnoGGweLBzIHfAYgBg4GtQX6BFEE7gN6A7QC3QEuAWQAQv9G/kj+Vv91AKUA6P8h/xb/vf9iAEoARv/R/af8Hvzo+4f77PqO+uH60fvK/Eb9SP1c/QP+M/9oAEYB1wE7AkcCzgEqAfIAMAEvAXgAiP8u/23/hP8Q/5n+tP4W/+3+7/2m/LH7KPvF+lH6vvkT+Yb4hPhS+az64/t6/JT8r/wa/bj9U/7x/sj/0wCoAeMBrAGEAYcBIwHX/+39SPxb+8r6Gfpi+Q35FfkJ+bH4ZfiK+P34N/nx+HH4OPh7+PT4Hvmq+ML37faW9rX29PYW90b36vc++QP7n/yb/Rv+uP7A/7cA4AAwAHv/bP+y/3j/mv7h/fD9dv6q/lT+3f2I/RL9SfyT+3f74Psv/PX7T/uE+qb5yvhO+I74W/kT+lT6VfqG+gz7vPts/Av9dv2G/Uf9Bf0F/Tz9aP1Y/RL9xfyy/Pn8cP2//bn9m/21/e39yP3+/M77sPrb+UX59fj5+Cf5Kfnm+Jn4Xfjh9+r24vWD9eX1QPbx9Vj1cvWU9gX47PhG+br5svru+//8xP1a/tD+I/9m/6f/t/9R/5f+IP5i/in/1P/7/6H/4f7I/Y/8qPs8++v6VPq3+a35Rvr7+n77HvwT/e79Lf4Y/mj+LP+6/8v/9f+aACMB1wAXAPn/swBoAYUBlgFaAp4DlgTqBLkE5gNDAlcAI//H/j7+z/ws+336sPqr+gL6kPki+jz73Pve+wf8yPyw/TD+Yf65/lL/1f8WAFMA0QBsAboBlAFNAVsB0AFKAmACDAKeAWMBcwG8AQUC9QFTAXwAOQDqAN0B1wFiAGL+J/0j/Zf9lP39/Hn8mfwx/Zz9hv1G/Wn9+v1y/lP+v/1O/X/9Yv6x/xEBIgKXAmwCCAIJAssCEgQpBWYFtwSzAwsD8wIPA98CJwL/ALb/qf4L/rD9Sf36/F39rv4qAMoAkwCdAJkB4QJdA/MCcwJIAgACOwFcAPn/AgAOABMAWADRACcBbQEtAoYDwAQdBcwElQTIBPkEyQR/BJIE/QRJBSsFywR7BEwEAwRoA5wCHwJYAhQDogODA/sCvgIjA9YDSARJBBQE4AOTA+oC9QE2ATMB1gFdAhYCHQElALz/4P9NAM4AIwEHAYwALQA/AHwAeQBnAMIAZgGRAQQBewClABsB/wBFAKj/a/8U/3b+Rf4L/ykAgQDW/9n+Ff50/er8yfwy/cP9Pv4A/1wA2wHYApUD9wQdB/cIjwkvCcMIjggZCD0HhgZwBsYGBwcKB/0G9AbWBpwGVgYFBpcFGQWtBGQEPQQ/BG4EnASgBLgEdAX2BoIIIgmoCMoHSAc7B0kHQAcyBzUHLgfwBnIG+wUHBuQGMgj+CKcImQfcBtYG2wYqBgAFSwRfBIwEIwRtAy0DcwN8A8ICvAE7AWUBvQEDAn0COQOeAywDWgIoAs4CdwN+A2QDDAROBQ8GwQU7BZoFwgaJBzIHSAbVBSgGnwZ2BpAFdATDA7QDEQSeBG4FsAYlCBEJ5gjbB64G1QU8BcIEegReBAkEJwMOAnkBuAFlAgADbwO6A6cD8wLfAREB5AANARcB5gCiAGMANgBUAPAA2QGaAgoDYwOwA4UDpwK0AZgBWQL2ArcCJQJCAgwDcgPFAo4BrAAzAKH/6P6T/tD+Ff/z/sz+L//l/ywA2/+b//D/iQDZAO4AMwGgAboBXQH1AMQAcwDE/0b/0P9BAWoCWQJ3AQEBnwHqAiUEFwXtBZgGsAYEBgMFZARvBM0EGgVlBfgFzAaHB/sHZwj+CIQJmAlGCeUIfAiqB1EGBAVmBFcEFwQmA8UBfQCe/zb/Tf/I/0QAVwD8/4f/Q/8u/zT/Wv+q/wwAaAC9AAMBEAHEADoAtf9N/+b+ZP7D/RL9Z/zp+6j7hPtU+zz7kPtK/Nr8x/xG/Ov72/vH+5b7pfsV/HH8XPxh/Gr9ef91AYMCBwP0A20FngbrBqgGcAY2BnQFGwTfAmUChQKXAlYCGgIsAj4C0AHvADYABQASAOv/sf/u/7sAeAFyAaUAmP+0/hH+rf2K/Yb9Y/0i/ST9t/2q/n3/8v8lADgAEQCf/xj/5f45//H/vQBoAd8BKwJRAlcCTgJSAlUCFAJUAU0AkP9t/6T/0/8MAKsAoQFgApUCjAKkAqACEQIzAckAEAFXAQABYAA2AJMA4gD3AE0BCwJmAo4B3P97/gz+If4t/lH+4v6q/xUADwAaAJwAZAEQAoQCzALAAiYCJwFXADIApQAuAVEB3QDi/3T+qfzK+mP59vht+Rj6Zvp++t36bft2+6v6yfnV+eT6Ifz4/KL9df4n/0T/+f7Z/vf+wP7f/b787ftg+7z6IPog+tn6lPuG+6r6pPkB+dP4+PhW+dH5Nfph+m76efpp+gT6U/m5+J/4EvnF+WX62vov+137Q/vW+kz68vnt+SH6ZPqi+uP6R/sQ/IP9k/+gAdYC3QIgAkkBtQCDAPMAOALOA4UEhANGATb/TP5a/pn+kP5C/sv9PP3R/M78Df30/CH8/fpP+l36rPqv+mz6UfqH+rn6nPpd+mL6rPq9+in6IvlH+Pv3Nvja+Ov5Vfuv/Jn9Hv54/pn+Pf6O/SD9Lv01/bD82Psx+5H6UPlq99/1hfUR9q72Ife49134cvjY9273I/jP+WT7JPw+/Ez8lPz3/G79Ov6O/x8BSwKzAp4CkwKvAqwCgAKIAu4CKgOdAl0BAgDV/qH9U/wn+yn6Hfk1+Bn4vvjX+E33AvUl9In1mfdR+KT3P/dp+L/60fx4/Zv8OvvE+tv7nP2F/hr+R/0i/cz9wf6w/48ANgFyAWEBSAE0ATIBnwG7AtQDwgNbAuAAeQC6AF0AFv/2/QT+Cf8fAN4AgwFHAv8CewPZA1ME2QQQBcAEOgQZBJYELAU2BcoEqAQtBbUFdwWvBHQEVAWVBhEHiwbMBZ8F/AU6BtwF+wQKBEgDjwKfAZkA6P+5/8L/nP82/7f+Hf5m/eX8Cv3C/X3+AP+2/9wAzQG9AfQAnQBBASYCgwKdAjYDNgTDBIwEPwSEBCIFjgXDBQoGMAawBZEEiQMDA6AC7AEtAfIAGgHSAJn/1v1O/F378/r2+lf75Ptg/MP8L/2c/dH9yf3U/UL++/6u/zMApQANAUoBRAEZAQEBIAF1AdsBFQL1AZcBWAF7AdwBIAIVAr0BGAEUANb+zP1R/VL9e/2t/f/9X/6A/jv+4f3d/Tv+q/7y/hf/L/89/1H/kP/o//7/of8i//3+Lv8z/8T+MP7w/RT+ZP7N/l7/5P/4/4v/AP+l/kj+oP3g/Jf89/ye/Rf+U/56/o3+cf4z/gf+9/3M/WH9+vwQ/cP9jv6w/gD+L/0i/QH+Ev+O/2r/G//X/m/+7f3W/Zr++f8+AfkBJgLRAf8ACACh/xUAxACdAEv/i/1n/Dj8g/yk/Gf8Dvzr+wn8M/xF/FT8gfyq/HT8tPup+tL5lfkP+gP70/va+x37gPr0+k38Xf1l/QL9Vv2O/sf/QQAfAMD/E//5/dv8Sfw7/D/8VPzs/Ob9VP6t/bL8hvwo/Z39fv2N/W/+sf+EAPgApQFxAoMCjAFnAAAAMQAmAKj/R/9n/5P/Jf8n/kz9Nf3l/e3+0f9SAH4AhQCDAFUAwP+3/n39ivxC/Lj8mP1p/uz+Nv9U/xL/VP6R/Yj9Wf41/0b/rP4//mj+q/51/ur9i/1n/R79jvwB/JT7/Pop+r/5X/q1+7D8t/w1/OL7BPyI/GH9Y/4g/2r/uP+UALABEQJSARQAL//Q/rX+rP6D/vr9Sv08/Sn+Lv9D/9X+Of+FAC4BTwAk/z7/IQAGAKL+nv0c/iX/Qf95/tj9uf22/c39T/7W/mX+7Pyj+5P7bPxR/f/9kf64/jX+qv0O/kP/IQAzAHYA9wE3BKEFXgUXBAYD2QJ1A1QE2gS0BDIEEQSpBGUFUQUqBKoCvAGUAbgBzQH9AYUCFgMVA2kCxAHdAZACDwPSAiICoQGhAf4BWwJmAgMCcwEsAU4BWQG8AKL/5/4p/xsABAGWARMCqgIpA2oDoQMMBHQEbQQOBPsDjwRIBVYFrwQGBMcDhgOxAnYBaACV/3n++PzJ+6L7Xvw7/bb9xf2c/Zj9Mv6F/+IAewF2AcwB2wLLA8kDUAN1A0oExgRTBJIDTQNbAxMDXgLCAYkBdQFLAScBIQEOAdMAogC2APsAPQF7Ad8BdwIRA2gDWQPsAk8CtgFHARwBPQFtAQ4Bsv/X/cL8Mv12/kT/Of8Q/2f/DQCqAGcBdQJyA+8DTARMBe0GSwjwCHMJgwrJC1kM3wvhCvYJSgnKCFAIlAd+BogFVQW8Bb4F4AT1AxIECgWqBVEFigQIBM0DpwPcA6wEqwVCBqQGcQd0CLEI3Qf0BtEG2gbwBUwEWwO+A2kEKwRAA7sC6gIqAxYD+QIMAwUDwwLFAoMDqARtBYMFKgWiBPoDUAPYAn8C+wE8AX4A1P8Q/1H+D/50/gX/Vv+g/yYAZACb/xf+Lv3G/X//ZQHuAuMDJgTyA+4DVASGBBQEtANIBDgF9gRGA8YBrwErAr8BdgCF/0v/Dv+F/lH+tP7+/rL+QP75/U/98vvZ+v76wPvE+xn7D/vz+3P8zvsQ+0D7n/v++u75BvpM+xf8qftT+2z8Xf6r//7/HAB1ANAAMAHdAZQCpgINApQBqQG7ASoBNwCG/zL/3P4x/hT9mvtI+tf5RPqI+gj6qPmO+hf8ZvwK+9D5YPpE/A/+bf/IALQBRgHs/0P/5v+pAJ8AgwAxAeMBNwFp//j9ev0n/bf8Av01/rz+Mv2F+tr4wfja+Dn4yfe5+Hz6Svs/+nL41/do+Sr89P17/cn7NvuW/Bb+qf3l+0X7pvwA/jb97vpr+Vv5Uvlf+Jj3ZvhT+ov7JPv3+Ur5cPnc+fj5ovkv+Sn5wvl5+o/69/lZ+Qr5lvip9/L2Tvda+LP4zvet9nz2FveP9533sPfk99X3kvfZ9/z4MPqN+kX6SPry+rj7EPwH/O37BvyP/Jb9lP7P/l/+Nv7k/tz/YQBSAFb/WfyX94r0YPdi/+QF0gSr/ej3l/hq/aQA7f+5/Sr9of5YAOEAKgDY/jv9K/vQ+Gz3dvhY++784vob9/T1cvhi+sr3iPIh8JnySPYk95L1afSG9Lj0+PTC9gz6Y/w6/F/7ovzy/4QCdgLXAPL/sgBBAmEDqAOrA1IE1AVNB6wH+AYzBukFogUPBdMEawXsBQgFIAMVAsQC2QPBA9wCrwKJAzkEEwTmA4EEUAVYBfYEcgX3Bh4I5gcyB5QHGglOClEKAQqTCrcL+QvNCmUJJwncCQQK0QgsB38G3gb5BtsFKQQxAxUDkQLKALf+/f21/jj/Xf4B/aj8H/28/Nr6/PjJ+Nb5WPqk+dP4/fjM+Wn60vqL+3X86vz4/Hv9xP7p/wIApf9JAF0ClQR6BRMFkQSnBO0E1gSTBIkEXwRpA/kBXAEYAswCwgFb/8j9Kv71/hL+1vua+oH7Cv1I/Xj8Wvyt/ZD/PgEIAywF6AZ7B4MHTAj0CVYLxAvlC2oM2QxtDIYLOAuYC5oLxQrwCdUJwgnACGcHXQf/CL8KMAvDCsoKowu0DKINcw7ODmYORQ5AEHwUnhhgGiYa2hkdGkYarBqmHK8f4yD4HsscIR3WHF0VbwbK+V35lwKdB7X+ne3c4vnk/Os87FTkaN3F3lHl3ugu5+Pltunf78XyyvL59Yb+CAZABWj+UvsTAXIJ2woCBEX8uPnC+ir68fUD8Ibqd+bH5FXlyeT73kbVlc/y0yXePuMK3inVN9P52qDlkusU7PHrCO/M9AP6S/z/+6r7qv2wAaAEmQM8/0D7pfrF/Gz+R/32+R73tfYn+D35C/mY+Y79YARZCjsNMQ+PEyQaWSBUJkYvqTudRsdLWk3hUNhXkl/OZm5sp2c1S6UZNPGW9Hsh8kd7Nyf0wrS6qLLHO+EO1iO2gqUhsJrCssjsxOzFiM942TrhDPDxCUwgeyBxDp8FBRqfPlNScEQQJVgQoRCZGVEb/RFdA9f0uuit4Gvc/Nb1ynG7XbTCvVDQudql0xfEb74JzPbkLPkiAOz+UwArCUAVRx7OIlUlDCe0JjkkoyH9HpsYmQwPAED6e/pT9yLq/9euy8LIEsmexhfDjMNAyH/MeM2rzTrRNtmM45vtoPXF+qj9kADCBcoMFhIUEmQNnwl9DDcVrBtLGPMMwwMABG8KlA5ODbUKrQqHDDYPGRXJHxEr7zC9MQM0FTwYSEVUs1zUWDI+aBHv76H5hylKTyo9fvvEwqW+a+Cy9ankCsRNt53CeM2ByLS/CMSk0XHYitci4Mr5UREeDxD5SvCyCdgySEb+NTYYmgpAEv0cahtBEJYGsQEA/O7x8+Y/37XZZtM0zkfPvNbE3MHZ0s+nybXPE+DL8Jf4qPWa7vPtC/pODpodjR7PFR4RcRdGIdgijxohET8NyQwBC24HywLT+djpWNlE1OXcGOb/4VLTwsm4zX3WZNfu0OjOqdf24z7p5OaY5bPrR/aw/Qf+NPpm+K78xQX3DdIPBQupBG8CqQXzCt4NoQwsCYQHUgokEKAUaxVHFS8Z1CJDLxE6BkAEQBk9Qj+3S+pYCFF7Ksf8gfCbErM+ekGxEOXWvMNF2WLwtunMzdS6TL6uyrrOj8pdyeDOxNTM2C/jR/nWD3YUtAXH+cAGlScEQOs7ayTWEukT6h3rIOkYbQ0VBV7/BPkO8fLnl9370iLME81K1B/afNdUzb7E+sbZ1OvlbfBA8v/xVvfxAnEO8BOBFKcWsR51KUMv+itYI4Ec6RlyFwoR+ggbBVcGNAZZ/kXwTOMw3MfZltmY22vf4ODZ20jTMdC112/ke+zB7DLr0u0g84H15fOu8835tQQ8DqEReA5UByQAR/01AaQJcBATEaMMmAeyBMoDzQQxCV4RXhrvH9AgSSCBIy0t0To+RmZLL02BUV1W3U5JMm0OrQGkGlBB70qSJ2f07drL4+zyEO632izQptUi2/zSkMU7xMrQ8tzZ4ETmnvd0DMsR4wTi+lMIdieDPqQ9di5NJNskgCaCIRMagxdNGGQUvQjm+qHw3+jN39zWD9T42E3eMdu2z3fFbsUez7XaNuJz5mTrSPLe+E390AA1BroO4hi5IdUmpyd2JSIi5R5kHEkbkxsrG8wWxQ3HAzz9R/pf9+7yl++k74vw0e1W56Hh2t+D4FPhLuPH5zfti+9L7hjtFe4h73zuVu/e9cT/3gS8AKT4p/Va+ikBPwTEAzkDVAOEAfP8JPlE+ikAhwa+CUMKAAt3DXsQtxLhFSseNi2PPZNFb0FJOTY5JUF0QaIt7xBwBzMdMDrPOBERMeTC16Trnf1J9Lba1MyD0vrZT9S4ySbL+tje44rkGOZ882cEhAfe/L/5uw2PLKM7JjLHIYceHyeIK6QkvBuvGs0dUxq4Dc7/GfeX8crq5eOl4e7jN+Ri3XjSq8u1zbfVYN2V4WbkOulj8Pn2rPrb/FsBWArUFUIfZSOpIkcgRx8vIDkhriDHHtkc6xoQF94P4gaP/9H7f/pH+Qf3u/Mz71jpnuPV4J3icefU66Tt4e0R7wbyxfQ09Zb0H/cr/4sJKRBFELIMfgltByYFIwNmA04FpQRy/vD0EO0v6Sjocuh+6QPq0efN4iXe3dx83vDgkeRv68b0Bvz//Vz9AACgCHMUQx8TKA8xYDtKRI9HcUUPRUlNwFmdWg5FHSRxEjkefjZDO8QgWfwI687wt/cx7TnXDcnwyVPPC84ryBbGuchuylbLrtNs5mz4XfxZ9WP1IQe5Hy4s5ShcJLUqcDbDObMxvSiXJ4oqrChKIAIX3g99Bzb7I+846YPol+UK3CnQdMmByQjLaslvxkjHq83Q1RfbDN093xjl1e4H+iYEOQyjEiEYIR2+IeElKSkMK3MrLCv2KtYpRCUWHCARdQk1B90G0QJx+Yzuwuay4onfVNsv1x/VRNUf1rnWKtdH16jWrNbP2ubkc/Hl+YL7i/oR/e4DwQpGDvUPiBKFFU0WTxS5EVwQHhBtEMAQ7A6xByf7te7c55bl9uFu2i7TvtBH0TjPOMnfw3HDPsdlzDLSJdmn30DjD+W06Z7zxP/tCTYSoBtbJgUvEzSXOL0/KUiSTqpSBlVLURlBBCi4FowaDCvaLxccp/2W6/zp/+cT2dPFY76ew1TH38Ajt5ezo7T/s5K0lL8+1E/koOVl4OLkT/YMCNsPnhLmGsIo4TEpMFcpgyY7KX8sEy0VLCIqqyQhGtUN6ARCAAj8CPWO7NrleuHI3M3VHM5myevJs86G1CXYRdhx1hbW0dlP4R3qcPJl+l0CWwnoDScQzhFBFLEX+BvOILYkRSXCIcAcjhl1GP4WwhMNEDcNHQrMBJD9lvYO8WfseehT5vzl9+S64B/a9tQx1IjXotxR4VzklOUS5pzn2uqm7gDy9PUW/EwDEAi6CBAIAQq2Dr8SBRROFOoVyhf6FhsTMQ+qDbUNZw2aDMYLRgmgAtD41/Bv7prvSO+J6w7nruTd44Xig+CI32/gn+LB5STqBe9i8q/zZ/Vg+isC0AnDD0wVmht3IWslpCioLXc0UTrQPdhAqkTURWE/jTJJKGkoTDDjNIguwSDwFB8P2QrTAnH4Y/GS75ruruk34QDZ9tKLzk/Mks4m1Vbby9ww2yPc0OGg6BztGfGD+LMCagp9DLUL1wwXEVAWFhvSHyokCyZmJAQhSB5IHMAZAhfHFe0VbxTdDqIGcv8L+y/4efVi85DysvG/7vvpLOZ55Tbnaulo693txvDY8kTzF/Mi9PL2efp+/aj/OwFtAlEDJQRTBTMH2gn3DOMP7BHDEpgSzxG7EKsP4A5LDoUNGgzYCbQG2QIF/1b8LPtX+lz4efWG82LzhPP88VDvB+5N72nxDfIt8ZTwWvHp8mz09vXb98L5//pz+4j7s/tT/Jf97v4O/4X9+/ug/B3/ZgCF/mH7avr2+9P8sPoj9yj1HfXn9Grz5PGh8Tjy2PLO83n13vbx9rf2O/hj+7L94v3m/Q0AmwMBBrsGzAdlCloNeA95EUQU0RajF2UX0hdnGLsWuBIGEIgRJhVRFuYTFxFvEJYQDg8YDN0J5QiuB5wF/wOfAw8DxQCj/dL7tPuI+yj6ifjl97v3t/ba9HnzQvOF85Pzr/Mt9HL00fPi8vnyRfRp9UX1ZvQz9B/1XPYX91L3fffC9wn4QPhp+Jb4DvkW+mb7G/y1+/L6Hvt3/M/9CP54/WX9a/7W/5QAQgBB/y3+jP2g/UT+6v4S/77+X/5c/sb+df8VAC8Adv9A/n796P01/3cAGgFPAXYBgwFHAQ0BewG0Av8DiAQ/BMEDhQN7A10D7gLjAQIAoP2y++T6tPoA+nb47vYt9tP1CPXY8zzzyfP89An23PbT99z4bvlg+TX5b/nk+Q76u/kk+Yn4+PeN95r3avji+X37mvzz/Oz8VP2S/h0A9gDEADUABgD8/0j/0f2M/EL8ivxR/DX72vnv+Gv47Pdo9zb3gfcH+Fz4NfiZ9/f26fah95T47/h1+LD3Rvdv9wT4svj0+Fb4M/fN9gn4Qvru+3f8uvyX/b3+ef///woBgAJaA/sC1wGQAEn/Nf4M/in/nQAgAa0AbwD/ALoBDwKOAu0DowWGBogG2gYgCIUJ8AmECTsJbgmYCWsJVAmqCfgJkgmJCKEHSwcaB2YGLAUrBCEE7gSHBdgEywJeAJr+jv2A/Pv6Pfmo9yX2dfTS8sDxW/Ey8ejwpfC48CXxzPGv8sbztPQj9Uj1n/Uy9pX2vPZb9wv5bPt1/YX+uP6D/nH+HP+5AIsCZgMNA4sCvgIVA34CFAEKAND/aP8K/n38Ifz7/MH9m/3u/En8i/up+or6JPzs/g0BYQGIAOb/DwCxAG0BLAK4ArICNgL4AXkCXAPsAwMEAQT2A3kDiALwAVcCGgPZAi4BRP9Z/k/+IP50/e385/zT/B38Kfu7+tT61PqZ+rT6avs7/Lf8L/0O/gz/of/u/5EArAHXAgMElQVmB5EIvgj3CFgKXQxYDY0MDAtXCsMKYwsICy0JcAZkBCwECgUABWMD5wFIArsDFgQhA9oCOAR/BQAF7QOhBOcGKwg5B7wFVQVIBWsExQMwBQQIdglzCAoHNQcUCNEH2QYrB+YIvglNCCsGkwVFBkMG4gR+AyADDwNmAtMBlwJQBBgF+QM5AsUB6QJDBKAEMwTbA9UDoAPrAjMCLALhApMDkgP8AowC0QK6A+MEDQYjBwYIlgj3CIIJVgoeC4QLswsiDNwMQA2nDCoLfAkfCAUHAQZJBSQFSgX9BO8DuAIuAloCegLuAf0AbgCsAGMB7wHhATgBNwA1/3r+Rf7N/jEANQIQBLoElQMBAUj+0vwf/U/+2P70/Uf86foM+hT57/eD9yj4bPiS9k7ztfHF8733+vkn+XP3affs+Bj6VPru+qb87v22/Gj56fZ290X6zPyv/Zz9eP0K/ej70/oT+7v8jP67/7kA4gFhAm8B+f/D/xABWgKyAg8DYAR3BTgEkgDb/Aj7w/qg+jr6Pfr3+uP7fPzG/PP8Gv1K/Wn9E/0L/PT62frq+0L9OP5D/+UAbAKXAmIBMAASAKsAGAEgAfYAVACh/vb7Q/lQ9xf2LPVz9Bb0E/Qd9PDzevPN8vrxGPFg8Dbw+/Cb8mD0d/XI9Qn25fYu+DT5s/kQ+rz6pPtm/Lv8jPzo+xz7u/og+/P7hvy7/Cr9Nf5K/37/0f5E/of+Gf9C/3b/zQAGAxIEcgJr/8f9c/6E/wf/tf3P/ef/FwJkAuUAK/9y/tz+wv87AOH/c/9AADsCcQN3AqMAcQD/AQUDigJjAukDMAXDA9wA/f+gAXACewBD/nb+S/8x/eX46Pau+B/6m/dr81PynPQZ9rf0UPPn9BP4T/kN+OL2UPcF+K33VPe3+HT7V/0Y/b77KfsF/GT9B/66/XP9Ef4Z/yz/zv0g/GX7Wfvh+iD6lfrY/Ev/5f/O/g/+3f45AIoAq//L/rv+G/8q/8v+hf7N/of/IQAqAOr/SwDWAcADggSZAzwC2AFGAlQC7QGCAroE1gaQBkkE0ALUA+cFzwaXBv0GbQheCcoIuAeJB+8HrweIBiwFwAPWAb//fv4a/k79jfsr+nH6b/s1+8j5N/mT+l/81Px7/DP9Uf8zAbEBoQFiAuADCQW3Bd8G0whaCkYKHQlbCEcIuwc6BgEFMQXkBV0FrgOSApICFQIeAFP+uf6mAOIBMQJmA8kFFwcZBt8EiQWjBmwFpALeARUEDwZeBRIERAUhCEMJDAiIB68JfQzbDLMKowimCC4K8woDCaIErQAIACICWAPVAVoAOQIXBqMHDAYWBfYGqAjLBjgDXgKIBNEFjQSfA0kFMgcvBl4DWgKkAzsEiQKSAHsAkwEVAugB7AEUAhMCxQLkBAMH/gZVBccEQgZ7B44G3gSOBNUEXgOXAJv/agH1Ak4B6f1v/Jr9tP4r/t/9yf9+AhYDoAFQAe0DSwd1COIHcAjHChYMKQrWBo8FsgZ5B2QGMAV+BcoF+gN3AcoBPQXQB6wGEgTaA/gFRgfJBswGegiKCfAHbQX6BEYGcwbFBLsDHgV9B6AIkwiwCAYJkghGBxwGVgUvBGYCyAD3/6//of/d/yUA3/8W/6n+y/58/kv9jfyg/cn/UgExAqgDcAWDBWIDqQG9Ak8FFwZYBKIC9wIxBAgENQJFADH/f/6l/fT89PyL/Tf+rv7t/g//OP95/4//Df8R/nv9B/5W/y0A2f/a/jf+Qf5d/uD9v/xu+2D61Pnf+WL6GvsC/G39Wf/HAG4AYf50/G78Jv7w/54ASABP/8b9IPxr+wL8sPwR/JX6F/pk+x39av0j/Lf6TPqB+v75EPiZ9Vj0A/Vy9jP3fvec+Hj6Vvub+h/6dPs3/Sn9Afx9/L3+u/9H/l/9P//3AHX+Pvns9u74e/oS+Nf0WfVc+BP5x/Ze9YT2JvdT9Rb0lfaA+l77dvkf+cf7KP4q/lP+DAHYA84C7P4G/fD+ZgFvAVUAewAGAZz/4vwJ/OH9Vf/V/eb6sfmf+pD7pftV/Ff+wf+9/sj8Gv0mAKkC3AH8/lT94/2v/iT+JP0K/V79/Pxt/Dr9Bv9g/xv9OvpJ+fv5/fmD+BP3tPZE9rD0X/Oq9Gb4ofsh/OH6YPpX+yX8MPve+Oj2U/av9hf3SPdw92T3xfb89TD2rPf7+JL4EPeR9qD3UPgk94/1//VM+Oz5p/kM+av5vfrU+k76cfoA+7r6zPmr+XP6kvrD+R76xfxx/2v/q/1g/fv+qP8R/qP8ev2y/l39ffrh+Wv8zv6W/ob9LP6n/3H/8P0h/swAHgPEAhIBZAB9AJ3/DP7i/Wr/cQDS/2X/+QD1AkAC1v4Y/Gz8Xf4U/xj+P/25/cv+Yf+b/zEAPgFEAgoDswMVBJcD6QGS/2/95fvb+mL6t/px+137F/pA+d76U/5uAF//GP2F/G39cv1s/Nb8Rv/EAHf/NP5iAEMEXgWyA6oDXgYFB9UC0v71ALwGWghdBIgB+APxBvgEyAC4AHYE8QVZA5IBjANnBS8DjP9E/5YBBgL5/xj/sAAGAjICegReCp4P7Q9zDVwN2A97ENkNuAt/DEoNDwvmB48HNgnZCOoFKwSSBVYHoAbgBOQEAwZ3BWMD/gKNBTsIOAiqBpYGaAi/CR4JmgewBkwGxwWCBWQGYQiXCmwMrw0LDmcNmwyiDAsNdgzeCh0KRQvdDOkMuwseC24LjQuOC+IMOg/VD3MN6QpZC40NBQ7GDFoNwhBWE2gSnRC4EZgUMhX/EkARGhHWDygMGAlcCQYL4gquCUkKUAyoDAwLzgpHDYsPVQ/RDtYQBRTpFFQTJhJ/EocS9hDUDjQN8wt0C8AM4Q7YDvgLsAnCCvUMhAzuCckIxgkOCo4IsgfACFoJwAcTBqEGwAflBoIFqQYyCfcIrQWxAxIFegYpBX0DRgR1BfkDKQK5BH0KDA07CkwHuAjIC8sLdgmkCHoJ5witBtEF/wZGB1kFvgMOBCYEggK4ASIEEQeKBusDCwRcBxYJzwYqBM4E0wZRBpgDIwICAxoEQgSoBPgFLQfDB44IrQknCiYKKwvuDNAMAAp5B48H8QdYBV4BhQAjA60EugJOAGoAXAF0AB//KQAQAsoAzvxX+7r+sgKGAl7/gv0N/uD+PP9cAAACQAJYAfABRgSrBAsB+fwP/UMAwAE+AEr/uAB+AfX+o/tk+y/91Pzi+WT4Uvpn/Fz75Phq+Fn5ZPh89WH0w/ap+Uz6dfo9/acB3QP9AkkC/AP4BTQFQQJbAAYBkgKuAu4ApP5d/aH9bf4S/iT8JfqH+aj5J/ll+Mj4xPlN+bX3MPjr+1X/9f7I/C390f8hAOX8hfr9+//9i/zB+Xn6Mv7n/3H+Nf45ARsDKADu+/v7Cf8K//D6VPiH+m/9Mfyq+Df4lPtE/lD9k/od+Y/59/qh/Lr9Wf0r/E/8Of6D/2z+0fyF/QwAhwElAdIAgAG1AX0AHf96/k/94PpD+WH6V/wJ/Ff6Cvt0/l8Atv5S/RYAZATTBMAB4AAPBBcG8wKW/vn+tgIiA/n+rfxzAIYFOQXzALX/TgMRBvYDkQD3AOYDaAQZApoB5QTwB8cGRAPSAfECZQPGAUMAjwBDAZkAa/+T/9oAiQExAfoAYgGMAREB5gCyAX0C7gEdAFX+eP15/QP+4/7k/9QAowEcAs4BsQCQ/x//Hf/8/iT/QACYAXgByf+6/u7/NAJEA8UCGgLwAdAB3gHSAvUDWwMWAfr/ngGVA9sCwgArAWgEgAZTBe0DnAWMCKoICgZ1BAwFnAR8AQz/iwCaA44D0gBgANIDcgZMBHsA5ACdBfMIyAeoBeIGAQp8Cg8ISweJChIOZg3dCdII7gvIDhYNeAjFBU8GzAbIBBICegGGAp8COwErAP7/3/76+3n5gPnT+tD6rvkq+iD9OAC6ARAD2gWkCBIJ8QcZCJwJZQlwBjoE8QWfCd0K+ggsBzsHeAeZBjcGnAfZCJQH3gQ7A0YCy/+8/NP8QADmAV7+ZPmt+Lz7Yf08/GP85/8PA7wC6wGdBIUIRgiKBJwDZQf5Cd0GYAIiA+UHywnwBn4E3AXvB2sHiwZ/CBsLGgqMBpkFbwivCqQJCwirCJ4JOAgXBkIGbAfaBQECcADNAmEF8wTzAtAB2gDh/rr9Ov/fAD//avy2/QYDDQb2A00CXgZjDPMMgQiQBtwJUQwDCeQDNgO7BVgFLwHB/uAAhwOnAloA3wC4A90EEAPsAFkAoQAlAXACsgOAAsT+JvxJ/dT/AgBA/sv95f6I/in8jvsL/3gDyATvA4gEZAb3Be8CigHjAx4GTwTXALsAkgPnA6//a/ti+9j9/f46/2gBnwSxBBQBsf4DASoFaQbiBFIEvwV8Bj4FFQRSBOwDHQH//aX9W//M/xX+avzV+676Vfgq98T4rvrR+XL3dvdX+nb8+/vO+9P+EQNtBIcCqgCBADsAgv4Y/dv9dP9M/4H9fvwo/e39rP1H/Y79jP1T/P36OvuU/AL98/sJ+337TfzR+/j5Afit9uH1m/Uj9jj3D/hW+HP4pPil+Jf4Uvkq+xv9/P0j/s3+/f9EAPr+hP2i/SP/XgB7ABIAov/L/o/9HP1O/gMASgDv/rn98P3E/tL+Kf7K/cz9av2x/Lb8m/23/bL7q/gM93z3QfjE94H22fUb9pH29PaT9074fPgf+D74hPlS+8D86v1U/3QAGwBT/sX8rfxE/f781Psd+2H7gft2+uL4Cvjp91/3LvaD9Q72o/a49cjz8vIf9Kr1lfU29Kbz0PRY9rP2NvY89g/32PdT+EP54voO/Oz7gPt8/MT+ZwBMAJb/3P/8AMAB8gFxAjgD6QLqAMn+W/4s/xz/b/3Q++H7BP2N/VD9mf3S/rX/Uf+g/iL/hwAgAVwAsv9zANsBFwK9ADH/q/72/lL/sf9DAHAAPv/l/BD7DPtA/PD8W/xl+zv78Pva/Mf9Jf8CAZ8CUANRAzADyQKiAUAAHQCuATkDrAJrAAv/9/+BATcBOv/0/an+5P/h/xX/A/94/7X+gPwv+6T8bv+FAGj/wP6eAKsDJwWTBM8DCARoBCcENAS2BRUI6gkgC4gMxw29DRwNNA4AEc4RPQ7dCXUKxQ/eEigPpghZBrQI4wnoBrIDhgRlB2UHSQSLAh0EcwVQA1oA1AERCE0NgAwvBykDiwOaBbAEPgCt/Oz9KwKdA6z/XPru+Jr6v/lL9FHvJ/C49F/2QfNn8J3xgPPH8LDqlueo6dLrfel/5ePl6uqb7j7tH+od6q/sne0N7ALsMfCf9XT3TvVR82f0BPcn+KT33fdB+qD9AADLAMcArACsAPEA6gHRAysG8AdrCAcILAjhCYMMRg5gDlMOPhAPFE4XMxgfGPkZXh6tImEkUiSXJXop8i12MDkxRzL8M140vjJAMgY25zoxOH8pZxZzDDgQohe4FdoJCf+I/L38SfbP6eDgL+B/4dXdXdiM2aTh0eZU4lDaO9pJ5F3vZPPq8hz2ev9eCQIODg7cDcoOUA4nC3UIDgrVDh0ROg0WBsoBKQKJAq/9mfSZ7cvsXe9G733qreT94VXi4uK44prjauY86TLqqupc7cXx8PPE8azuB/CZ9o39VACe/3T/yAGaBFAFGgQPAwkDrwKtALX9m/vb+tP51faA8lfv7O4W8F/w2O7R7PXrfuyc7dTuP/DV8VrzEfWn9xn7Pf4HAAsBAwPNBkILWw5JDykPzA/9EfkUUhc8GCIYThgSGuYd6iJNJ7Mpdyo8KxstlS+RMc8ypjPHM4oygTAMLz4t5CZlGYsJUQGbBZAP+BJDC6H/WfnM+Kj2be7x437dANzq2xzcpt+p59DuDe4w5QbcSdoh4I/ntesi7X/v7/Q6/E8CpQTAApH+Xvur+5v/KwW9CWcLnAl3BVYBKv+l/oD9J/ri9a3z6PSz97j4PvZM8UvsFuk+6ILpdeyV8Pv0U/ij+Un54fjH+aT75vy9/DL86/wR/wUBLQGO/3f98vv++iX6avlc+XP6d/xn/gL/k/2G+h73d/TG8pnxpfAn8FPwnfDY7zftQ+mo5frje+Qd5q7n5+hP6lDsnu5r8AjxTvC97lftEe0R7p3v8vD18dHyEvPc8SXvQOyq6pTqFuug65zseu678GjyVfNS9Bb2P/i4+Qj6G/p/+8f+uwJnBQkG5AXcBnEJXQwcDo4O4Q4rEH0SHxVOF6kYQBmGGR4abhtKHR0fXCC9ICAghR4zHKYZCxcEFDMQCwyWCEwGbAT4Afj+NfzY+f32KfN877btD+7U7lfuyOy06x7sk+3t7nrvPO9q7hrtUetX6dLndOdI6G3p0OlO6dzobunw6o/sv+2W7lDvCPAV8RPzB/a/+Mv5NPm7+Oj5M/yh/Rz9l/uw+t76dvsC/LD8g/3z/dP95f3p/moAVQGAAdUB1gLcAzUEUAT8BAoGigZIBiIGwgbNB4wIwAhhCDkHagXhA2EDbAPjAq4B4QAWAYEBHAEAANX+k/2Y+934OvZr9IbzbvMA9If0/PNV8gPxT/G58sLzC/ST9Nz1+vYL98f2s/dM+s79dwEFBf4Hkwm6CZoJVArbC4gNTQ9vEXUTXxQzFEwUnRVAF5IXWBb9FK8ULhW9FYcWRRjCGosccxz8GsoZxhlIGhsaDRkOGPEXbRiPGMkXUBasFEkTVRJ9EdoPpwx7CDcFPQTgBDwFZwQmA3ECFQJPASEAVf9x/z0AMQG9AWUBKwAL/y3/YgAkAXgAMP+N/lj+bf3j+zb7+Pup/Mz7Mvrx+Vn7efzk+8D6RPve/dwAjALOApECngIqAw0E9QSvBYwGIAhPCgIMSgy7C+YLZw0KDzwP8Q2hDJUMqg3ODjgP2g4QDiANMQxmC/AK4grmCiwKAAilBHYBuf9Q/+n+df1F+2r5TvhP95n1G/OV8AfvEO9r8OTxEvKU8IruiO0M7kPvOvDh8KDxX/KC8t7xP/Gk8R7zxvTj9c/2evgP+3/9mv6D/oz+r/+KASoDZQTfBeIHvQmiCpUKKQqeCccIugfyBqwGhQYHBkoFygTmBNUFxQeNCkYNzA7sDpsO2g6kD0oQkBDhEIcRNxKJEmcSyhF1EGAOKwysChIK1gmMCVYJWQksCSYIDwZMA4kAYP4e/XD8cPuI+Uv34vWK9T/1GvR98kDxPPCf7pDsW+ue6xHsAOto6NjldeQE5Ark0eTJ5mvppOsH7QHu0e4b77vuh+6e7xTyqPQA9un1TPUg9ZX1XPZj9/L4/vrS/MD9Ef6v/tb/qwB1AMT/zf/PAOYBbQLRAoID1QPBAoQApv4s/or+lf7y/Rf9UPyW+x77RfvA+5T7VfrT+BD41fcH91L1yPN+8yT0efTw81Dzm/PA9KL1SfXa80jyR/Gu8PrvNu/w7lrv2e/M71/vG+/b7urtZeyx6wDtve8a8gXz/fLp8uvyo/IH8n7xUfGQ8VTysPNo9Qr3cvjb+Vz7qPxm/Zr9ov3v/cv+IwCKAZ4ChAOWBJIFrgXiBHQEewVDBw4IXgd0BlYGbAbLBecE3QSYBQEG7QV2BhoIoQnQCSEJ1wjzCGkIEAf5BaoFPAXcAycCEQErADT+GPtN+AL3xfZh9k713PN78m/x8/Ae8bDxTvLY8mLz/PO/9L71k/Zg9tz0//L+8bzxIPHr7yDvRe9E7wruPuw669Dqn+ml59vmkOh160vtqe3c7aLucu/479zwj/J79Pv1afdT+Vf7o/xd/XH+EABXAZ0BcQG7AXkC1gJGAgcBwP/+/vn+av+k/y3/OP5d/ez8zvz6/G39r/3x/Az7DvlN+Ab5Ofro+vr65vro+sj6Ofoy+ff3CPfx9uD3Zfm9+oD72vsT/A38ifvS+rX6mPvh/KX90P0v/jv/VwC3AIsAswBTAXkBgQA1/+X+t/91ACsAR//d/hj/9f5//QX76/hc+D35afrb+ob6F/oK+lX62PrC+079Tv9HAekCMQQ5BRsG+QbUB24IpAj4CDcKbQyNDpkPxQ8SENAQKRFNEIoO/QxbDG0MqQziDCkNQQ2ADI0KJAjABjYHvQi7CXkJqwhHCG0IvAgRCWQJRgloCH8HswftCK0JCgn9B9sHOwioBx4GWgVcBuQHTwj6B4oISAq3C9YLbAt+C6IL2gpsCZMIdgi/B5IF8QJjAekAPQDF/kn9j/wi/B37kflr+DD4dvi7+Bb50fnC+oj7Jvz7/A/+9/58//v/4gD9AZ4CcQLIASIBpwBLACYARgBaAN3/yf7h/e/96P4FAMQAcAGOAvsD8QTlBBYENgO1AowCcAIdAoAB1AB5AI0AuQCpAIQAugA/AYIBLwG+ANIAYwHaAe8BAAJrAhUDrQMqBK4ENQWcBeIFJQZcBmYGVQZqBsQGNgeNB8sHIgjZCDAKCwyuDSkOXQ1JDP0LZgyMDOALxwq9CZII2gbBBPQC3wFhATMBHgHPAPf/vv7K/W79RP3V/Fb8Mvwm/Hr7S/rQ+dH6P/wg/N/5IvcD9s723/eN99j1KfSx80r05/Tg9Kz0HfUk9rX2GPb59Jz0IfVQ9V30NvNb87v0uPVw9QX14vWJ9y34Zvf29mX40PoW/Kv7F/uT+3D8bPy7+6r7mPxn/Sn9a/xO/PH8g/2n/fr9+P4VAFEAgf+Y/qP+s//qAGsBJgG5AJUAhQANACr/RP6B/Y78SPtC+h/6rfoS++n6ifov+oT5YPhq91H3uve29yz34Pb/9pL29PQb83/yHPOU8z/zBfPD89L0B/Wh9Af1yvbM+Mj50/nd+Uf6wvpA+xz8Jv1c/Rb8B/p8+Mr3Ivf59ff0JfWD9hH4Hfn7+TX7ePzs/Hf8IPzk/H7+vv/s/2X/z/4x/i/95fsA++f6LPsd+5v6Mvph+if7LPwc/cj9L/6I/i3/MQA5AcIBpgEHAdL/tf20+pD3UfWA9O30F/aH98H4Yfl0+af5rvp+/Fb+p/+rAPwBjwODBAgEXAKQAHf/2P7x/XT85fr4+c756Pm7+TT5w/jt+NX5Ivtk/I796v56AMIBaQLPAocDVARFBAoDfgFvAGj/c/3f+kj5pPkT+yT8nfxa/bX+CgDfAKIB4QJCBOoEqAQ5BEoEngRvBF8D3wGJAGj/B/5V/BT7D/sG/Nz8+vwH/ez9pv+CASQDmQSzBTQGgwZMByQIrQemBbsDYAO1AwADjgFGAV8CnQKmAFr+Wv6WAPsCpARRBhkIGQmbCfAKLwzXCfkCl/yA/IoBjASZAcn8BvwS/+gAZP+Y/Wb+YQCzAJz/s//rAZUE+QUMBnsFqAQDBP4DEQQLA/kAsP9yAAQCNALYAMv/OABmAWsCpwO6BQQIUAl3CVcJXQkICfAHaQb1BKkDigLiAesBbgIJA3wDbANzAuEA8P+IAAcC+wISA0YDBQQ6BNMClgBX/6D/EABG/3b91PvP+sD5J/iu9pT2VfgP+039Vf6b/u/+g/8JAIIAMAG6AQ4Bv/4D/K76PPuE/FP9gv1p/RH9hfxf/Er9MP9iAVQDwgRkBTcF7gRaBU8G5AbZBt4GIgeoBtsE6gJcArwCMAJIAL3+1P6G/2L/G/+SAL8DWQbZBlIGiAZ5B/wH8gdeCGsJ5wkSCdEHUwdZB+IGEwZIBhcIQwo8CwML/QonDDwOehBnEqoTxxPaEjISYBNaFiQZvBkmGPwVRhSaEpYQOw/ID24RhRGkDrwKDQlICtELDgtxCFMGqQUaBVwDDgGL/9D+lP0S+9L3rvQY8nvwWvB+8azyB/Mu8zH02PUP9wD4Pfo4/tcBwgJtAYAAWQHRAqcDhARRBroHKwZUATL86fmV+rn7Gftr+OH0OfLe8c/zEPYs9r3z0/BU79Tut+236wDqEekU6NHm0eZY6fbsk+777C3q6+gB6mvsIe+h8WbzIfS49O/2YftcAGMDrwPGAsECegRKBwAK2AvADCsNpQ12DnAPFRAZENgPTxBVEs0V4BkCHkoilyYIKgAsYC29L0IzczYqOGU4azbQL7gjgRZhDxoRrhbHGP8UNw5NB4wADvrd9CDwFOhr2yrQL8+62Xnmx+oU5VrcXNdr19vaUuAy5gTqkesm7z75lwdaEeIP9AXi/Jn74QEMC54SExbrFCIRiA5FD7kQkA3nA2P4EfKO8wH5gvxN+5H23vAY7GHpE+kM6jvqFen/6L3sUfPr9xf37/LB8PLy+PaT+d760Pxk/6cALQCi/03/ofxM9u/v3u5h8/f3Avit9MvxNPDF7czpOOY95Kri0uCi4KPjV+dd5xjjzN6r3nniBecj6unrMO3U7urx3fYg/Fr/igC7AnsIjxBCF5oa9xuXHfAfLyJQJFEniisTME80BznvPrhEPEiXSfpK+ksPR0M33iC6EP8P9xn7IPAczhHzBzcCxf3j94Hv0eIh0WLAjrs9x+fZwuN13k/S+csa0KrZD+Ga4m7gHOFI6y7/0xN6HX4YrgwnBUkGUAx8ERUThBHaDuYNJhAJE8gQIwbW9sjq3OZz6YbtQ++T7VXprOTh4TDhG+B43BrYwtfl3dLnrfAI9oj4WPn++FT4rPg8+vj7zv2EAQ8I+Q52Eq8RJQ+vDEYJ6gOz/sX83v1R/qX7Lvc584DvPeqs40Tegttg2ovZW9lg2kjbGtpi10LW0diy3SziteUk6srwsfjy/4IFNQkVC+YLmw3DEYMXThz6Ht0gYCPRJecmTSfYKKMrPC7jMBY2hT69RilLiUziTPpIDDpiIDwIPP/MBR8P3A/0CGQCT/8f+8Dwd+Bpztq+fbWbtea/StCP39fnw+eG4rXdwN2N4vPnQ+sQ8Pb8mxL6J7YxlixSH9YSAwvrBlMFnAYWC1QRohZtGBkVawye/wjxmON42j3Y/9wr5W/ryexw6mjn7OQS4mbesdvl3ADkzPCJAIQOYRYwFwAUoxBhDpwM2QszDncUZhy9ItQlUCWpIPsXww2WBZQAsvw0+CL0BvKf8OXs5uXe3VXX6dJt0HPQXdPO12/bFd153RneM+BO5MXpD+9z8xr4Vf4BBUAJGQrDCaAKmQy0DrkRCheGHfIhxiKzIfUgAyGgIV4juSYwK6AwEjhaQWlJZU0gTgJNREa3M9sXawEt/jkLiBe6FtkMkQU4BBYBqPS04JjNM8JRwGHGt9Em30Hr5PIT9IDvX+ka57Xqc/GS+AsCzhEXJsE1YzirLrcgRxX5DPUF+gDhAFYG9A2IElMQmwaL99zm1dcazLzEycMmyw3Z5+aB7fnq1+M33pDcid3P37Hkh+5Q/YgNUhp8INofhRpqEzENogloCTEM5xCxFS0YbhY2EOwGHfyk8Lbl1N092yTdtd+Z38PcMdni1WPS+M6IzdjPztXe3UTmR+1l8YjyuPJp9AT43fuc/s4A1QMICD4MxQ6hDnIMcgrSCtIN2RGPFfIY6BstHfsbDxpuGkkekiRYLNg1tkAcSyRTHldNU5RCUCWIBnj1g/fzArUJUwfgAeX+svvI8ZPfecrUuSuytbSRwNTSWOYp9WX7cvmu83jvje8z8xj5aQKWEW4l+zbpPX03ZCjNF8AJsP7r9kn0wveY/koDjgH0+OnrGd09zvfAwbdltVq7ccjP2IvnFvHn9A/1VPTA9KL3+P34B1QUmSCcKkwxJzSIMhwsACIDF2IO5wnkCNwIbgfLA3j+1fek7y3mRt1L1xvVntVT163ZstwD4M3iYOSO5ODjDOR/50bvWPnEARkG/gaIBuwFdAWpBSgHiQmZC74MRg0pDbULDAncBsEGbAiFCtkMdRCLFZ0aPx7iIE4k5yn/MRM8Cke4UbNbomR2aYNjq00BLFIMB/y0/L8DkAXt/x75lfYz9rfwbOEWy1+2NqzpsKDC+to98sQCZAscD+gRJhVRF4gXnRhfH2EtFj7BSS9LhEJcM1Yhlw6W/EftE+Oo32ni0ee76knnct3S0OPFQr9yvZ3Ahslm2E/rh/6GDlkZZh4oHrwa8RdDGUEfaSeQLvEy4TOUMC4o2BplCu754uyI5WDjeuNE47biteIN4kPe8tcJ1LPWbN5R5nTsB/Mv+9sBpwO7AWQA3wH9BGgIUwxFEJcRBw6vBgj/jfl89ir1DvWg9Xf2svdu+d76MvuA+3/+pgWKD8gZvSMxLvU4aEKdSRdQj1j3YwZwJ3n9ff9/s36rcmhRtRoV4cW+Ub4b0NTahtVzzUbSeeH46CDcKMKer3a099Dr+F8exzneSnNUM1jNVfFMhD8PMlUqPiw6NgxA3T63LMgMX+gfyEGww6HknKmh766zwfLUoOKw5qXic91+3nToRvngDR4kTzlBSVxQEk6CRHQ2zCYJGYMQLQ50D4UP5AnN/GLqqdcyyXvA+rwsv8LIFtlF63r5gwH3BPYFCwa8BwYOthj6IpQniiVDHyoWvgnu+sDtRuYX5bznUeuY7c/scugn4q7c9Nkk29Th7e7W/68O3BZ2GI8WdBNxEPwPGBW3H7ArjzRWOW07VTtsONIzpjFPNrdCOFMDYh9riG4ybY9ibUMzCWbBN40biR6xUOFS9hztrN9748XwX+760tO0FbaC4xEoAmARdiZvxl0mTuo+OCrWEUgAzf79C6ccByRdGiz+DtR2pwSI1oCokDysPsn05Ib/WRSsGwEUoAadAIgImBuaMt1GV1OEVF1J2DPuF6j6AuKv08nRztjy4a/n6ufT4s7ZJtAly23Pu92Y8hgJRh06LHkzyjH8KMsdFBXCEIwPJQ/eDR0K1gE39ODjD9bXzpTOVNNt25zleu/g9Yb3U/Zj9U/2rvix+4L/LQVZDXUWIBzdGcQPGASw/lQCTgsRFPwZbB0rH1sfQx7dHKIcXx/FJj8zX0PAVNNkonDpdcF1VXP9awZTsh0p1x+hUZeSshDQQddq0UDXeO5CA7ECvvFc5u3v5wtxLdpI2Vc0WQVQWkE5MA4dmwkF+6/1Hfjn+yn7hvMf5cLR570TsEqtT7aNyC3gkvhmDLoXcBr6F6sUvRPXFoodAyWeKVYpEiS/GS4KkvdH5wPewNvv3BDfGOKv5eHn4ucL6CzrHvHw93//EglUE38ZJBj6EDcIhf/I9VHrauPW4JriieUG6LDqLO7W8eP0ePcP+qL8Fv/LAcYElAY1BZAAJ/tz9/30XvGA7GHqJu/K+YYE2Qq2DQERbxZjHLggmCITIkMg4R8yI74ojizcLZMwITcQPldBOUMfSDpNTkuHRA9GV1RzXEJFuQ9b2+/FgM4v3m7mTuzV+CUKqxe3HJkZJRB7BXQDbRAKJjU2BTpVNgIxWygwGd0H4fyI+gH81v0cAfQENgPe9+nnGNwn1ynWDtkE5HL2hQa9ChYF2v9vAMoCcAJnAjEISRKOGNEV4wxsA377bvRM7+7u3/PU+tf/hAHhAJf/DP8cAJ4CuwU+CZcNzRF+EpYMFQH99DPtM+t97czxL/Yp+Uv6ofqx+xH+WAEmBSsJYQxRDagLsQh2BTIB3foV9O3w4/O/+pMAswLHAuoD1Qa+CTsLDQy3DTUQ7xGxEUoQ4w/YET8VyBc6GMwXmBgEG4YdDR95IAMjLiZpKCspQSmPKcoqwC0LMvA0hDQgNHg5lULqQj0wXhGQ+afzW/ec9tfv1uzV8if8GwKBBaAJHQ2IDT4OwBRTH7MlBSQ2H0wc4RhlEL8ELvxV+E71i/H48Pj10Pvp+072JvHC8L7z6PaV+en8IQFcBbAILgrUCOkEtwBy/s/9zPyX+in4Jfak8/LvVuwO6/Ds3/BI9U35nvwU/6wAhAFzATcAQ/79/Jv9n/8OAYcAAv/+/qIB/gTLBRcDjf+z/j0BzwT3Bl0HuQb8BLUBz/14+w785P6GAkkG/AnWDOkNkQ1eDSEOwQ7ZDTQM0wzVEY8ZWh+/H9AbBRjFF4gaVR3wHfkbPxjPFPUUPxq9IFAhFBoaEicRXhVNFmYSvRIVHdcn9COSESkCGQNPDSYQwAcrACMDVgs1DU0GVv79+5X+VgKQBQcI6QjkB0MG9ATTArf+Efp79zP3Effp9Qz1L/ZF+fT85/9FATcBegHjAy8H+AbfAKv4pvT29WX3xfTX8GbxTvd+/aL/if74/CH7tPem89XxAPOt9Lv07PPw86v0DvVs9f/2nvnF++/8M/4OAEsB6QDz/zUA4wGTAycEoANjAswAhf83/9D/qAChATYDagVmB28ImAgvCD0H4wV6BAgDSAGo/zT///+oAI0AMgHwAzEHNQgfB5gGKgcHBvMBqP5fALcFVwkrCWEIiAk4CrkGw//n+VH4ZfoE/sEB0gTuBvsIDwwrD5QPdAysCJEH2wh1CdsH9gVbBvgI9wpTCWgDovux9Wfze/Mh9DL2zPuFA6YHHQTz+1X2p/a++Rn7N/qk+eP6Uf3J/zQBKgA8/Nr3lPa9+K/6pfmc9234DvxD/ir8zfcm9TD1oPWh9ATzk/LR89v1qPeX+G74i/fN9p/2VPYm9Y3zx/LF8q3xLu7G6Zvn9+i/69nseuum6cnpiOy18J30D/e09wf37PX79Dn0m/Oa88D0vvZz+ET5C/of/E//cQGAAAv9Evob+rD8Ff9U/+39i/zJ+/b6yPlt+Y/7mwAOByIMew3xChsHPwUFBqUGNwR7/y/8ufyO/30BPAGo/4T9zvph+I/49PxUBGkLlQ9QEJ0O/AvZCbwIpwfmBB8AU/sW+df5Xfsc+934yvb89hb5ivpf+Zn2aPWe94f77P3k/ZD9nf5h/+H8RPeT8kzyffVF+H34bPdO97348fog/ZT+g/4O/cb70vvv+875jfX68dXwcvCB7sTr9eqd7E/uU+7R7XTupe/e72jvve+u8FbwC+6Q66TqEesv7L/uevOf+P36hflQ9tbzlvIB8hjy6/KJ8wnzO/LZ8vD0hPYZ9lD0P/J/71vrW+e85rbqZ/Bk8wXyge4L7MHrh+wm7cvtiO/S8r32nvl5+tr5Tfm3+Un6bPnj9n70EvQR9SP1c/M38gP0Rvjb++P8ePwr/Hr7J/nz9TD02PSn9iP43vhg+M315/G672Lx+vTR9m728vYh+m/9gv36+o75Dft0/Qf+hPx++vv4yveP9oH1JfXa9XD3BfmS+Qj5fvgV+RL7Mf4VAuIFTQj3CAwJRgkUCHoDzvxm+KT4DfvP+9H6MPtG/qgBmAJmAVQARQAKAGb+tfu6+UP6mf2cAQkDoQDE/M36QPvj+3P7U/vS/Hv+x/2H+uv2cPST8rTwfe+P7wrwqO+x7pTu9+8w8qj0evdx+m/8pfy5+/76zPpe+lH5dvjB+Nj5EfoW+Gj0MfF28ETyz/SJ9rf3kPnu+9r86/p093L1UfZz+CP5TfcH9BXxm+/l74nxe/Oi9Lj0TPTC8+3y/vFI8vf0Bvl7+3r6mPd59vT4Q/0RAPj/af6n/UX+Bf/V/l7+Lf9tAR8DHQLP/hH8/vtW/QD9Afr79iv3h/rS/V/+uvwx+636Ifq4+E33I/f690r4OPeX9dH0efUT99T4OPoq+/T74/zJ/Qf+Tv0S/OX6rvkM+En2NvUE9er0LPT18t/xSvGP8SXzyPXr9yb4Ofd+9wz6Yv1x/ycA8QBNAgQD5gFm/x/9Q/yh/Nb8Y/sI+ED03/Ew8QbxsvDu8DnycfNe8w/z9fQ8+av8P/wE+QP3j/je+5r9vfxA+3L7gv26/3gAp/9l/sX9/P15/lL+tvyP+SD2c/Rw9Zb3ZPgq97z1+PVT97T3XPbm9Er1mfcb+jb7yfr6+fP5uPoT++r51vfX9hb4N/qx+pj4ivW8897zFPVP9gj3Jvfa9pz2uvbh9pD2DfZb9vb39fnk+kb65Pi59+r26PVg9M3yE/Kj8vzzJvWk9cH16PUD9tv11/W39nj48vkG+vH4G/iW+Bn6Z/t0+0L67fi4+MH5hvpP+TH2PfM/8s3yJ/Og8jLym/IM81zy+PC08KvyAvbF+Jv5qfhn95T3mPm6+577H/n89tv3/Pr3/KX7RfiL9cL0gvUc9/74L/rj+br4PPjF+Bj5hvgs+Bz5VfpF+of5Fvql+yj7Nvfq8ibyJfSH9LvxaO8Z8dX0nfU28svujO/i89T3ivhc9qXz5vIi9bj4fPou+Vj3JPjp+vz78PmG9173Nfhq9131fPTt9ID0+PIc8yr2Jvnj+JX2rfWJ9pb2KfWh9Pr1nvZw9HvxAfGh8l7zrPIn8/v1fvjX9/P0J/ML9Fr2OPgS+XT5GfoN+y/7Jfmn9ePzC/YM+pD7OPn59dL0VvWE9TL1wfVx9/n4WPmW+BH3gPVA9eT2wfjd+EH4z/k7/Tj+bPq19YD1Uvl5+/P4JvXG9O73C/uK+5r5v/am9J/0Yvbb97X3S/dP+I35k/go9t31k/i++uL5vPj7+gn/3P9J/Kr4pfjh+kf8e/yz/IH8s/pW+LP3xvhW+cr4D/n8+nr8yvtS+h/6d/qM+WH4svn9/Bb++/op99n2B/lE+Zf2/fSC99j7pP0V/OL5A/n8+CT53/nU+kj60PcD9mv3n/q7+4X52/Z/9rb3e/gW+TP7T/6q//X9APv6+Az4t/eh+Bj7DP30+3b4AfZ/9jz4xvju9wf32fai9375Hvu2+bL0cfAH8iz46PtX+Yr0avO19aD2s/SB84L1cfhM+Yv4HPjr9zL3NfdQ+YD7lvqU9xL3T/qu/Bn6/fTv8jf1BPg8+M32BfZ99pL3pPjC+O32//Ok8h/0dfZQ9zf3+fcJ+TL4gfXW8830hvaa9mb15PTI9WP3ZPmz+z/92/w4+yX64vkJ+Yv3dPeV+Wb7VfrS9433BPqV+7f5rfZB9nr43vl6+C32o/X59of4T/kw+b736/R+8sXyefWV9xn3T/VV9BL0bPMR80z0t/WB9IjxpfGx9lP7kfm98yPya/dO/Hf51vGr7gnzXPgl+KH0rvSx+db9TPyu90L2uPlc/W38Bfhk9Wr3ffvv/Bz6l/VS8z/15vlJ/Q/8Jfee81D1APoL/Nz50veG+Wb85vvc+Gv4DPw9/1f+0fv6+3P+Vv9s/XP7i/u7/GX9Yv37/Ej8dvzx/i4CPgKW/j38//7rAloBM/uD+N383AGGAIj7xfpN/wcCdP7C+Pz22PgC+j/5sfip+Cv3uvT49Mr41PuT+gH4Z/kx/mMARP03+Sv5zftw/I76Ofpc/Y4AJwCC/ab8O/7k/mH8u/g69yv4Nvn5+Iv4bPlL+1n8RPub+JX2afcY+7v+7/6f+6T4f/nx/Gv+Evxy+a/6gP6A/5/7a/cx+MD87v71+zH4HfkM/koBlv+b+8L51PpA/Dv8lfvJ+9r8pv16/aL84fu7+zr8J/1N/m3/8P83/6n9BP3S/nACbQUFBsAEUQOpAqIC1gLiAjYCgwBG/j38fPrQ+Nj3nvjE+lb8J/yB+2P8l/7F/5T+lPx5/Oz+rAH6Aa3/w/1b/9MDtAaBBFb//vwAACsEqQNw/nn6XfzMAcAE1wKh/5v/wQIyBWQENwJNAkgF6AcrBx8EeAKvAycFwgMfAKr9+v36/ir+Ofzr+xz+cgBXAAT+6fu4+9L8kP1G/db8iP2a//ABPAN3A+8DiQUxB8sG4AOjAKP/8ABbAj4CEAENAHD/xv45/mH+JP/V/08A2ADeAFb/0Py5+0r9dv+O/yf+Nf5HAEUB6/5Y+zb6uvv1/HD85/v6/Kn+P//t/gP/tf9MALgAKwHMAKD+qftR+kT7sPwN/eH8yvzF+y/5BPe09zz6+vq9+I/2Z/cc+mP7kfpH+rX8/AB0BEcFpwNzAewAngJaBG8DNwDl/RL+R/6b+4j3cvaA+av8Cfzq+HD3ivgX+UH31/WW+JH+rALKAXj+lf2GABYEtgQ6Ahb/OP3W/Gb9NP4F/q/72/cj9Vr1Vfd6+Bn4z/fG+Db6Nvtu/JT+ewB1AF7/FgBpAzwGSQWKARP/vv/0AG7/vvuV+eL6Rf0Z/f75KPcl96b4dPjl9ezzSvXv+E/7z/ph+ZT5Wfuj/Hf8GPwR/fH+lP+K/ff52/cm+XL8Ov7p/Pj67vt2/zQBOf4m+Uz3MPr8/Yv+QPyn+nP7q/yd+zn45fTf83P1KvgT+hX6vvjl9/D4Rvve/JX8n/si/Gv+TACn/x79g/tr/Cn+7v1R+8b4aPhy+Zr5KviV9g323fXj9Knz7vNA9iz5H/s5/Jz9df+4AMEAVwCZAIMBFQLDARMBxgDqAPUAdgBu/2D+Ev7S/sH/eP/a/Zr8D/32/eD83fkO+J75mPxn/a37hfrr+x3+j/6i/bP9cP8aAWcBLwHXAWQD6wTuBVUG1AVgBLACbgE+AIX+2/yC/Hf9SP5C/nf+3v9cARkBPP/1/ZT+w/96/+f9a/2k/0oDbAWXBFoCdAG3Ah8ENQPv/6v8Z/u1+7v7rvqj+e75QPvH+yj6Uffz9c33cvuQ/bz8M/sC/Ar/VAFbASMBHwNKBicHXQSVAGb/bgE5BAYFHAP4/+v9Nf7K/0sAnv4w/CX70Pvn/Kb9fv6l/3IAxAC3AQAEYQbqBmIFbwOZAh4DaQSGBUcFWwN7AQoC0gSgBmMFRQPkAxQH0AiyBiMD3gHrAisDDgGP/h7+X/8PAB7/m/3+/Kb9EP+rABACAgPHAyAFXwexCdcKswpzCg4LDwx2DEEMIgzVCwMKZQbkAmMBEQGh//z8uPsW/Zj+dP0u+/L7eABrBC4E+AG0AkgHwwsuDQ8NFA6bD+sOmAtMCDEHqAcECLkHCgfVBQIEXwLNAfAByQFNAUkB1QEgAvcBSgKmAzgF/QUvBqsGowfNCEEKFQx0DWgNaQzTC6sLegrmB/8FsAYDCW8KRAoWCuEKfQuPCowI6gYaBk8F5wM5AkYB6gEDBPoF/wVYBJoDhAVpCEEJ2gf9BjoIvAl7CbcILwrSDXcQ8Q+tDXkMDA15DYsLFwdpAmgAoQE7AwcCvP5h/b7/cQKEAUX+nP0VAfkENgbGBucJhw75EOYQsRGMFAYWPROFDhUM+gu3CkkH3gTTBRIIUAirBpwFqwULBTcDEAK/AtYD6AMHBNAFQQj1CAwIYAhRC5MONg9aDUQLDwogCT8IQwhSCTkKOgpCCn4Ljw0hD4APww4BDY0KfAi9B6EHmQaWBH8DsQQdB64I4AjiCJIJYQpcCooJ4AgzCWIKgQv0C2EM/w2bEAwSlBBFDcQKyAlrCH0F2wITA8oFHQgtCNQG0QW4BQ4GNga2BY0ErwNMBBsGWwczB+QG0QdZCQwK9QkECsEJxQeCBE4CGgIlAhYBVACPAY4D1ANwArYBfgI4A+4CggJCAuMAiP4z/uIB7gY4Cf0IIQrZDZ8Qig93DN0K0grjCV4HxwTcAhcBGgCcASAFcwfoBrIFIQaoBnkEpAAh/7kAqgGS/4f9pP+QBCsH/gVABT8ILAweDGUIZgYWCfEM9AxSCbwG3QdSCoYKRwgPBiYFdQTUArsAPf+n/rP+Jf+W/2b/nP4o/oj+2/5V/vP9Tv/6Ab0DuwOeA70EzAUFBVMDHQNaBEwEnwGH/oH93v1i/Rr8Ovxf/l0AZAB0/3z/cQCpAGv/rv2Q/FP82PwB/j//zf+8/+z/rQAkAZ0Asv9o/7f/v/8Q/+v9hPzs+pr5E/kL+cn4pfjm+aX85f7p/q/9xP3Q/7EBVgE6/2799PwL/a/8+/va+8j8Hf6L/qT9yPzj/dMA/wJkAnoAjABJA6IF2QQnAt0A2QHbAjoCPAHFAVADvwNtArQAff/k/f/6tfe79UX13vSG8w3yCfIh9Kb3Zftt/mgAtgECA2oEOAXcBPMDsgNEBGQEAgOsAL3+gP0X/CP6o/ia+Hv5yvkI+UX4lvi6+bL6UPtu/J3+EgE4AjMB3P4z/c/9UgB5AhMCV//f/N/8e/6r/tT7r/cT9ZP0efTL8+jzW/Y5+gz9Cv75/mcBUwSDBaYEqgMNBAAF6gTDA/wCXwMvBJEE0ASRBXEGaAZUBRgE/QIeATP+8vtF/D3+q/5K/Nv5mvqg/fH+Ff1Y+zL9NAHEAjsA9fym/L7+zv9f/m/8WvwW/gAASQFsAs8D6gTfBIgD0AETAfMBngNxBLIDWgLeAWkC6AKHAnQBEwB3/gT9xPw3/jwAOAEXAU4BvAKHBHEFVQW0BJoD+AGVAF0A2gCZAFb/kv5q/98AYAEbAXgBkQLFAh4Bsf4K/WL8UPwo/Vv/+wGQAz0EqgVdCJ0KtwovCZ4HZAbRBBcDVAKuAgsDHQMzBOsGSwnHCKwF/gLFAtUDzwMtAn4APABdAegCLQQ5BWkGtQdaCH0HSAUXAw8C7AHCAZMBMAKpA+AEFQXiBPQEogQUAzoBNQGFAyQGIQcMB9EH0glwC1AL5AllCFIHegazBcMECANUANb9Mv12/s//3P95/3UA8gInBdAF0AXGBsEIPwpSCtMJNQq1Cz0NwQ01DU4MvQuyC9YLmQvFCsMJAgkmCFMGsAMCAgoDUQZTCT4K5glrCngMtg76D9wQehJAFEoUBhKCDzIP1BCkEccPmAzHCukKAwuHCYUHAQf7B3UIXQcnBssGEwnoCgILPgocCuUKzAtIDJAM/AxsDWcNcwx0CvcHBwZABQoFQQSxAl8BIwGHAYMB8QCoAEUBcAJsA9wDxQNRA78CMAJJAXz/9vze+v75j/ko+Mf1E/Q/9G711/Uk9dn0XfZI+ef7If14/VD+TwCRAooDwQJtASoBOwJwA8IDVAPXAnkC8gE3AYkAAQCS/4D/SQDyAdADQwVnBgwIIwvzD14VIxnXGdEYMBkqHFQfpR+BHUIcwB0fIJsgAR82HW4cWhyTHEUdZR6RH9ggkSJnJLwlCSf3KLMpjyVJHNQTqxK9FyAbcherD/AJkQcVBYkA3fvQ+E72W/PU8aLzzvZW95v0VvLJ80H4If0+AaMEpAaUBsYFfQaCCLQIGwUKAKH95P7RAFkA3/0l/Mb8xf5rAGkBmwI0BDYF4wQeBJIEowb5CF8KQQu4DK4O6g/TDwwPFA5tDMIJBgdnBZ0EYwN1AeL/Wf9l/7b/+ABjA4AF1QUoBZUFTQcOCFEGrgPAAroDawRSAxkB7/7u/M36A/kl+L33xPYr9ffz1fM99FH07POg8xP0tfV8+IP7Yf1q/Xf89fth/Cf9vP0Q/uL9sPzd+v/5IPsq/ST+4P1l/k4BzgXlCdkMgw+0EmMWXBqKHkwihyQZJUolBiZsJjslMiNeIv0i0CJxIK4dnhxUGz4Vwwk+/wb9AQNnCWEJBwSC/+X+kv9//vv8Jv5kAbcCpwDP/psA2ANuA9T+VvsV/bkBMwRwA2ECewL8ARwAUP9GAVoD9AE5/uv8qf+NAq8BTP59/JH9Uf/y/w0AaAAtAKT+Ev1o/Z7/uQEuAlcBsABKAQ8D3gRxBZsEhwNVA68DcQNtApwBcAH7AF//M/27+yr7lfpS+aH3/PWZ9KXzbvP68+702fVq9nL2UvY299P55vwF/qD87vr6+sD73Ppv+CP3/vdt+Lf13/BJ7W7syuzM7JLsVOwU60/osuV95ZXnwemb6unqs+uK7IDs/etd7Azu/u8y8e3xHvP99Nn2Kfhu+cn7kv+KA90FEAbBBfwGHQqzDXIQgxK/FEkXfxntGqAb5xtdHPodFSE1JPgk5yKJIKog/CKzJD0kqSLWICMdBxYWDqsKeA14ET0QaQmaAiUAYABN/3z8qfqV+pX5HvbT8tPywfRw9B3x0O6N8O7zpPSf8sPxGPRg9yr5bfoL/dr/FAAZ/rH93wDaBNYFCQTOAq4DtgQBBIkCQAIDAysDewJ8AtQD6gQQBPABqQA0AakC6QPABD4FKAW2BAYFuwarCAAJpAd3Br8Gfwf2BhUFbwMMA2QDgAMlA5QC+wGgAfABzwJwA3UDiwMuBGME8QKNAEf/n/+v/wH+y/vv+uz6nfm99oX0cvRO9W71MvW09Qv2HvQb8BjtkO2Z8HLzu/T79Oj0mvRb9N70Qval9zr4Lvgl+EX4N/jc9433yffK+D/6X/ui+4j7Jfye/dD+If/7/zoDVQhpDJ0NNw2TDScPwhD6EZ0TwxUrF0gXfhdUGVcc/B7XIIUi3yMsJCQkriXIKJIq+Si+JYgjNSFrGxcTcw5AEZcWNRbGDu4GzAPpAtT/3Puz+/H+av8v+pX0IfV5+o/9ifvw+Dv6jP1//jH9gf10AHcCKAFR/8MAZARqBQQCy/32/Gn/5wGPAhMCagGDAJT/vP9WAdsCrgJjAc4ATgGIAeQAqADKAfICEgJN/8X8zfu4+7H7HfxB/eL9rPxx+lr5/vm2+iT6Gfkt+Y/6PPyQ/Wv+Q/6h/Kf6nvpD/YkA8AFRAV0A4v/4/hL9WPs9+238IP1e/Bb72/oB/Dz97Py3+hH4H/fA+IT7z/wr+4X3GfRv8n7yU/Ma9Hv0gPR29MT0p/UB95f4SPr8+3r9i/5O/xEA1wBHAUQBOgF3AXUBcwC6/pr9z/1r/gz+x/wW/MT87/2I/vT+XwDdAjUFyQaXCOELZBCTFF4XHxnYGgYdeB/FIaAjxCT3JEIkVCNPI7YkXyYSJuMiYh6rGooXGBNkDZQJ9wkiDFYLXAbHAMf9VfwR+pn3OfdB+Bv3nfI+7lTthe5i7sPseOwd7tnuJO2v623t4vA98g3xxfBn86f2n/f99o/3APpT/DD9av0O/rr+1f7v/tr/MwEJAloC3wKaA9UDjwPIAwEFXwbbBqIGpAY3B+oHUAg4CFcHmAWyA6ACRQJXARf/W/xm+jf54Pct9uv0g/RQ9MPza/MZ9Hz1dfaS9of2A/fg96D4Lvmi+bz5LflF+L331fcP+OH3SfeN9rb1qPR483zy8fGr8TDxCPA+7qLsV+zM7Sbw8fFv8gTyf/FN8WfxqvH98VDypvIR82/zbPMM8+zyovPc9Jz1dvUX9XD1ovYO+Cr56/mI+kP7ZfwY/hEAywELAxUENgV3BtgHgQlaC80MXQ1iDc8NPA9iEZQTWRWaFowXjxjCGaIajBq7GVgZ/RnKGoYaWRlpGNIXMRasEn0OmQtjCrEJmQgVB/QEogGC/V/6c/mb+an4GvZd843xSfAO73Du5+5p73LuPeyW6n7qA+vr6oLq8epw7BTuM+8M8PjwtPH08SXyLfOE9cv4HvyR/q//zv/Z/3sAdgH4AZQBqQDh/4X/b/9M/+r+aP4w/pz+ff8qAEEAGQBbACkB5gHiAQ4BAgBp/2L/eP8o/4/+W/7Z/lr/2f4z/Uv74fnc+N73HfcW96f3JvhU+LT4t/kU+yr8uPzW/JL83vvW+rP5ovjW94T3ZveZ9ov09fE78KDv8u5H7UvrHOp56Tjoa+a55TTnwOmB6yzs/+yh7j3w5fAC8avxH/OR9G31GvZN9+v47vls+Zv30fVO9Rv2IPeK98b36/g/+879g/9FAMwAowHGAvsDNQWSBjgIOgpVDNMNEw5hDfcM2A3YDwMSxhNdFTkXYRmOG2Uddx5gHkgd/BsSGx0aQBh+FfgSjRG4ECwPOwxDCPMDw/8l/If5uvfd9WrzC/Hk7wzwPfBP74LtGOz46wbtp+5o8A3ySfO18y7zL/Kx8V/y2fPz9A714fR59bL2UPfI9hv2ffa498n4n/km+4P9aP/A/zj/Ov/2/3YAewD/AIUC3gNyAzgBoP67/Fz74Pko+H32FPUR9KDzm/Nc807yqvBW7yLvK/Dn8Wzz6fNN82Xy+vHD8cTwz+4f7Qvtje578Pbx6PJR8/Ly9/E98Vrxw/F78V/wSe/d7ubu8+4D7yDv0O5t7RHrtehV5yHnmuc66NjooOnC6ijsh+3W7pzwZfPo9h76gPzN/g0C+AXoCKAJkAgOB88FnQRaA3gCNgL0AdAAuv6F/Pf6F/qX+ZD5kvr//IMARQR8B+sJ7AsBDmgQ+xJ6FdEXBxryGyUdSx2EHFcbNBoTGZsXsRWsE/URgBDhDgQNdAuiCg4KsQhvBrMEEgVKBzMJ5QijBlMESwMkA6YCOwEu/+f8kPps+Oz2IPZW9bfzK/F57n/siOtE6yLroOqo6cLotui/6TzrhuzN7bzvXPLk9Nn21/is+wv/twEMA68DjQSjBUsGZwa4BuAHeQlcCrMJxQe3BY0ESQQDBPsCewF4AGgAwwC9AAsAr/6D/JP5vPZE9ZD1ovYm9732Avac9cT1f/bM91P5XPpr+uD5pvk++h77KPuz+SP3Y/T08a7vg+0L7M/rPOwG7NXq6OmE6k7s5e3d7hLw5fFk8+HzYvRM9vH46fk0+MD1H/Vx9qn3Y/dR9sb17vUY9gn2Jfan9mj3afj6+R38Qv7m/zkB0QLyBGQHzgnuC5ANmA5CD/oP5BCfEawRDhFOEOYPzg+iD0EPKw8KENcRlRMgFFwTXhJNEj4TbRRcFVUWwhdcGYYaSBt3HJYe2SDDIdEgLB9nHrke2h6bHTcb1xgCFxEVJhIpDqcJGQWoAH38vfg29X7xtO3O6sLpderb6yDtXu4R8CnyDPRM9Qv2iPbB9sT2Evcr+Lb5lfox+mv53vkf/DD/qgEaA+8DqwSUBfIGywhHCgoKsweaBJYCKwJtAoEChQLmApoDcwSlBWAHKQlcClkLTw2YEOoTtBXnFbAVsBVEFbgTfhGMDwUOLwzECZAHZQbVBZ4EOAJ5/3v9X/yL++z6Svs1/QsAkQIvBEIFQAYdB5kHpQcxB+UFlAOuANv9KvtG+Ev15/Jo8VDwNe+M7v7uQvBl8S3yc/Pg9fr47Pur/qcBogSgBjEHJgepB+QI8Qn+CS8JZAhNCNsIhAkOCssK+QsMDSsNSwxeCxIL7wonCuYIKQh/CKIJQgtaDX0PyRA8EVkSbBWJGXEcdR04HhIg8CHYIdcfDB7SHS0eix0AHOAaoBo/GtMYxRYWFewThRJ5EJQOGg5UDxwR8xFvEXAQ7Q/QDywPZg3YCkYIBAbSA10BpP7x+4/5ivep9cPzHfJB8TrxSfGn8HvvsO7b7r7v8fCF8p/03/bX+Mr6Yf2NAEgDrQTsBMwEuwS7BOEEZAUqBsoGFAc/B38HyQf1B9MH+gYhBcUCDQGNAJkARAC+/+z/8wD9AYwCMANxBOEF8QYICNIJ2AvmDOEMAw3bDSAOVgzsCJ4FIwOiAJz9E/s2+qP65fpW+rv59/nh+pz7tvuf+w/8Jf0r/lf+yP1+/Qz+vf6C/nL9jPwR/AH7xfhk9jP19vRl9GfzYPMN9TH3L/j595v3d/ck98D2FfdG+HX5KPoQ+7v8Zf4N/yX/BwDmAXMD6gNGBMkFFQizCRQKDwp2ChcLZAtPCwwLcAolCT0HKwVKA9YBKAGJAa4C9AM1BfoGmAl3DMAOeBCGEn4V1BhiG5gc+hyMHc4eMiCAIOQerRvVF9gTcQ+PCiEGVAMfAk8BEADX/lf+Lf5C/WX7t/lY+U369/sd/twA2QMSBskGGAafBOsCVQEIAOz+rf1R/G/7kvtd/MX8Ovw8+536dfo3+of5ovjv95730ffT+ND6Yv22/zcBAQKAAt4C4QJdApcBJgF0AXQCyQMYBSEGqAZzBnYF5wMcAl4A4P65/d/8MPy++9r7t/z//SL//f/hAMYB7AHAAM/+Tv21/HL8FfwW/OX8zv2Y/Q38E/o3+P/1HfN+8F3vp+9L8O3wS/Kp9NL2afez9kD2+/ZN+FX5HPpG+xX9Uf/GATsE/gUfBmoEsAH2/oX8RPqS+Ff48fl//KD+6P8nAR4DGQVsBVYDKwAs/lX+t//wAOIBcQPqBUEIJgmWCOEHOgiNCdYKbwu+C5cMIw6rD3AQcRAjEK4Puw4jDVoL7QnBCDIH/QS7AlgBPAEHAg4D4wOaBKQFXgehCdMLjw0VD+oQBhOsFEkVLRUgFU8V+hRaE6gQ+A0KDIsKmAjjBRYDAgGp/2H+5vzY+877OvzJ+xn6iPjV+B/73/3m/7kBewT/B8IKpQvgChYJVAbIAr//xv7N/wcBJgGyAKYAdQC7/pn7+vgL+KD3GfYf9Df0jfdU/N7/hQHUAhwFvQcGCTMIPgbGBHsEuASDBKkDmQJkAWf/P/yl+NH1JPT78sLxt/Bj8NHwkPFD8sPyC/NX8yb0vfW495T5cvvT/XAAFAL8AfwAjgD7ABYB4P/q/bX86/y//RP+4v0Z/in/NwA1AHb/cv+2ANgBRwGv/1v/GQH5AvQC5QF7AokF4AhUCpMK3AudDsAQgxDLDu4N0Q4iEDgQ3A78DF0LLwp6CSgJiQieBlUDFgBn/jL+Lf7m/Zv+ggHrBfMJ0AxmD2ASuRTqFBATFxGlEIQRORK3ERkQBg7bC4YJ9gZbBP4B/P9g/nT9pP34/s4AaQKVA3YE6ASNBI0DpwIzAqMBggCK/9f/LwHUAXoAzP19+2T6AvrN+Qv6Ifue/Ij9e/0L/d78tPyy+6r5t/c792z4M/qA+zb8ivwb/Gj6EvjF9pD3zvkL/Kn9F/+1ACMCsAIhAtIATv/d/Wj8z/p1+ST5Cfrr+gH6zPav8n3v2+1D7RPtBe0E7ULtUe568ALz6PRh9p34s/va/af9Yvy5/CT/AAG+//77p/hs91L3e/Z49HLysvFz8vTzRPUV9uz2b/h7+jP8G/3I/Qv/lgAlASEAgv6u/bH9Q/2A+yH5m/ds98j30ve39074BPpo/ND+9gDqAowEcAVEBTsE8gLqASoBfADr/93/hQB/ATYCpwJSA0wE1gRQBEoDLAOxBCYHTAmVCksL1Qs1DC8MigtICs4IzAegB90HuwcVB5QGpgadBlwFzgJaAKv/EgFMA7cE6gQABU0GtgitCvMKJAr/CUoL7QxhDX0MXgvTCmcKIAnFBkAE1ALqAoQDAQPKACb+5/xX/fD9dP2U/Oz8wP6xAKgBBAKFAtsCKQKOADD/v/7I/rP+uP5T/0YA1QC7AFkA9/9x/8n+XP5X/ln+A/5r/aL8O/v7+Lb2rfUK9sj2Pffq91r5D/tU/HT9EP+ZAL8Ae/9q/pj+AP80/pH8ivtU+836mPm7+LX4bvgZ9/v13PZu+a77sPxp/Xf+yf5o/Wz73Poe/Mr9vv4h/0z/A/8+/sj9N/7y/gb/mP6w/rT/7QCdAdIB6AHTAVkBoQAMAKb/If9M/jj9APzG+u/5/vn9+jL8uPxw/FH8i/1CACgDmgROBKMDCgRZBRAGNgVQA2QBrv/V/fv70vqg+s36s/p8+uH6M/zv/S7/af/r/pj+Iv9YAHYBJQLCAocD9QOoAzwDjgMuBJQDPgGt/qf9J/7Y/gL/4f5U/p387fn69y745Ple+w/84vx4/joAewFUAuMCbwJIACz94fpx+mL7nvxo/Uv99fvF+Qb44vcb+Vf6tvq7+nb7N/0//4cAiQBh/6D9AfwW+/L6Kvsl+5H6jvmN+Ar4T/hB+XL6Zvv1+3r8f/02/ycBhQLNAiQCBwHJ/2P+xPwE+1D5xfeD9sr1wvUw9o/2lPZ/9rj2Y/dd+IX5qvpI+9P6d/kq+L/3C/hF+BX44Pcv+DD5yPqP/Kj9R/3D+6v6JfuZ/I79mf2I/bj9a/1I/I77m/zH/un/DP+Y/WX9ff6A/4D/mv4M/cn6OfiB9nD2gfdV+BP4+vbi9aX1zfY2+dn7ev3l/ST+A/+//9v+Qfy1+dv4Vvmh+Vz5sflC+8b8a/w3+gr4W/fQ90X4e/gX+Vz6t/uD/Lr8v/zN/Ob8/fwT/TT9g/0N/of+Wv5K/er7Jfs/+537lPtK+377ivzT/W7+LP7E/d39Nf4R/lz99vyc/dv+cP/C/o79A/1q/fT9w/3y/Gr8w/yQ/f398/0g/sD+4f6N/WX7OvrP+sv7a/u7+WT4lvgD+rz7Jf3Q/VH9w/v9+cH4CfiP93D3qvdz9wL28fPO8iHzwvOP89zyvfJ786f0C/ac98T42PhX+JD40vnh+sP6KvpI+u/6B/t5+nL6ifvL/BH9g/wS/Ab84/ty+x77LftU+z/7DPsY+4j7OPzG/Lf85vsG+zX7rfxV/hX/Qf8PALgBBwP5AgoCTgHcAOv/bP6H/Sr+tP+oAFcAWf+C/gj+s/2D/cD9nP4IANQBtQNQBW4GIQeIB4IH4gbxBVYFTQVFBZoEmAM1A80DlASUBN4DRAMoAxkDtAJFAj0CcQJyAnMCKgO2BDgG5wYFB04HxQfMB2IHYQckCK0I2AcTBvoEPwXBBRIFMQMrAZv/Uv5T/Sn9Bv5D/ywA4gDeAQMDrwOhA0QDEgM0A9ADKwUuBzIJpgqICwwMDwxvC68KlAooC6YLnwueC1wMvg0GD68Psg8bDwUO3wwvDOELOAu2Ca0HyQVcBGMD4gLMAtQCxwL1AuIDigVfBwAJawqQC0AMwAzKDXQPpBA2EG0OkwxpC7IKPApHCp4KMQpfCAcGgATPA+YCdAFVABEACgC8/9f/HwHWAmsDpwLrASkCtAKnAmoC7QLwAy0ELgP0AZEB1wHcATIBMwBp/yn/l/9/AE4BlgGOAbIBAQIOAsABhgGWAYIB5QAUALL/0f/q/43/u/6r/bD8U/z2/C7++/7y/sT+S/9vAHoBNQIHA/UDUgS9A9wCqwJHA+oD5AMnAwkC/QCDAOEApwEAArABcQHyAecCjgPaA1wEEwUlBScE+AKoAvQCsAKZAdUATQFWAqwCLAKyAXcBpgDo/mX9ff3j/v7/AADG/18AfwECAoMBqwAJAFz/Lf6f/DX7JPpB+Wn4sfc29xj3g/do+Cv5GflM+LX3Cfjp+H/5nfnH+TT6dPpB+iv67fpc/ID9zf2y/eb9ef7r/uv+mv4q/of9dvzu+jP5sfe29kz2SPaU9lH3kPjy+eT6S/u5+6/82v1e/uz9LP3v/Dr9Y/0D/Wn8IfxL/Kv8Fv2N/fD9Bf7S/ab9lP0g/ev7ZPpj+fL4Hvhp9tz05fRf9pH3dPcO9+z37vmJ+yP86vwE/80BvQOABCoFfAbeB2oIJwisBxUH/wVaBIMCiwAb/jf7sPhF9732P/Zg9Wb0qPMj89ryC/PO88n0qPWt9lf4jPqA/KH9Mf7J/of/DAApACYAWgDDACMBQwH+AC4Az/4g/YL7FPqm+BL3h/V59EP0yPRw9aH1WPU89e31V/fb+Bz6UvvA/D3+hf+zABYCnQPxBBYGaAfpCP8JSAo4CmMKawpECZYGSwN6AFD+VPxn+tz40Pf09hn2jvWu9Wf2Yfda+C/5wPkl+r76yvvl/G79af2w/QD/GQENAzwEyAQUBTUF9wRNBHsD5AKtAqUCdgL4AUUBdwBa/539TvsI+YT3D/dk9/L3NPj092D30/Zo9uP1NfX+9Bb2hPhA+0L9iP67/xsBPAK6AqoCJgL2AAv/Af2c+9z6F/oB+QP4ePcm99n2Avcg+Mn59/pW+5b7UPwu/ab96f1y/gf/+/5r/k3+FP8CAFEAWgDqAOIBaQJZAn0CHwNSAzECLwB1/lf9Tvwv+4r6pfry+u363Poq+5H7ivtD+3b7W/x9/aX+KwAdArUDMQTbA44DfAMBA7kBKgAa/5r+G/4o/dj7hvpn+Wz4efef9in2Tvbn9pn3VPhw+Sr7KP3Q/vD/yACAAfUBGgIkAigC4wEvAXAAIAAVAJ//bv7q/H77APoq+FX2O/UG9Rj17fS39OX0YPXL9Tr2JfeA+Hv5ivlE+cP5OfvC/Jz9Av6P/ln/CwCkAHYBgQJLA4UDUwPqAj0CSAE6APr+Bf1Z+gz4R/e69wL4rvfu97P58fvS/ET8Lvz0/bwAxgKYAy4ERwWPBmoH4gdmCAoJdQlrCRAJqAg5CHYH8QWLA74AZ/4e/dX8FP12/c39+P3i/aT9df1r/WD9Lv36/Cv9I/7T/5kBtQL+AhADhwM5BIcEXgReBNYEMgXUBB4E/gOYBCMFJAUTBV0FeQWjBCYDEgKrAfIAEf+d/PP6n/r/+lr7pPsJ/E78Efx/+0L7wfu1/Jj9Qv7t/tP/7QAGAtECAQN5AnoBdgCh/9H++v1w/YT9+f09/jv+f/5O/xIADABm/wn/af/1/wAAtP+n/9v/uv8X/47+vP5z/w0AOQARAKL/x/6v/QT9T/1W/mn/HQCaAA4BRwH5AD4AiP8Q/7X+Zf5p/vf+pP+3//L+vP1l/K/6ePh69sL1WvYK97f2rPUW9YP1ZPby9hz3TffC92j4Qvl0+uX7IP24/bv9kf2J/aT9w/3y/VL+1P4z/1T/hP8iAP0ATwGUADf/Iv6+/af9b/02/TX9FP0n/GL6lfhz96r2UPU984TxZ/Hk8rb0xPU89gP3R/hB+Xr5vPkV+0L9yP7i/or+H/+DAGMBGAF4AH8A6gC+AK//Vf4w/Rb8zvqc+fb47Pgz+ZD5+Plw+gT7vPt1/On8G/2C/Yb+6v8jARsCLwNoBE0FnQXBBQUG9gUZBesDZgOQA2IDSgL2ACUAcf8W/nT8rfvU+5D7+fnw9/T2J/da9+b2ePbs9iD4YvmE+u77v/2B/70AgQElAtUCgwM3BBcFIgYMB4AHgQdqB3YHZQeyBi8FPwNvAQIA9v5E/t39a/2D/Cb72vkn+R35fPkQ+sn6nvuP/Kz91v6c/7P/ef+m/3MAbwFKAmAD/ARzBo4GCAURAxYCTgLOAtgCpwLpAtQDAwUCBrUGIQceB2kGDgWTA5oCVQJhAjgCrwH2ADcAXP85/uj8wPv++pv6jPry+vT7Wv2X/l//DAA4AeQCbQRWBfEF3wYQCLsIewgMCIII6AkqC2UL2gpkClMKMgqECTsIfQZsBGMC/wCPAKsAtACbALgABgEKAagAggAhAS0C7QJcAxkEWwWSBksH0werCLYJfQoEC7oLpAwlDccMzAu7CrQJgwgfB8UFpgS1A8QCmQEIACn+W/zz+u35Ivm2+P/4Evq1+8P9PADfAg8FawY9BwgI9gjrCfAKIgxNDRAOXA5hDgMO0wy8CkAI5QW3A7wBTQCf/yb/Gf5g/In67/iM95/2wfYC+JH5uvq/+x/9gv4h/xj/a/+WAOoBrAI9A2wEDwYAB30G9ARXAzACfAEbAQsBQwGlAf0BGQLzAcABrgGgAVABygBzAHEAYwDi/wb/Mf50/a78Cfzo+0L8hPxO/OP7tfvV+x/8kfwp/aT91/0f/vD+EADgAE0B3gGbArcC2gEVAbkBjwMQBXIFjQVsBtEHvwjuCOQI2ghdCCIHlgVOBFgDawJkATkAyf4K/VX7H/pw+fb4jPhZ+HL4t/g0+TT6vvtB/SX+g/7q/pf/OQCjACoBGQIEAxED/AF6AGz/1/7v/Rr8w/no9//2hfbA9a/06vO5877zovO887j0uPY1+aP72P2+/w0BpAHbAT4C7AKQA+sDIARcBHkEJwRZAz4C/wCX//39VPzP+on5Z/gr96P17fOC8tPxyvHD8TPxTvDc71rwbPFL8rzyR/N69Cv2xfcq+cr6yPxw/gb/7/5g/9sAdwL/AnwC/AESAiMCXAHe/4L+2f2p/XD9/vyF/GH8z/yw/Xz+rf5K/t/9yf3J/W/9tPz/+5n7Zfsg+6j6A/pi+SL5hflM+s36pvov+gP6QvqR+rb63foo+2j7Yvsy+yP7V/vJ+3j8W/0t/pH+bv72/Vb9sPxX/LX8s/2c/tH+Yv65/fL8+vss+x77yfti/HH8dPwX/Sn+6P4j/1f/vv/y/8z/6v/VAAUCWwKHAU4Ae//4/kf+Vf2N/EH8Sfw1/Lb75vo2+vr5Bfrb+Vz5+PgG+TX5BPmY+Jz4U/lD+hL7I/wG/noApgIhBFsFygYmCMUIkAgfCN8HVAecBaMCf/9j/Wr8nvtM+tL45fd49+v2Hvav9QX2r/Yb93X3RPh8+Yn6QPsM/Cn9TP48/0QAjgF7AkkCGQHD/7j+uv26/E/83fzJ/fn9Bv1W+0755PYv9MnxUfDH78bvL/A68djycPRs9eX1cfZx97f43fm8+m77Efyw/F39Gv6k/ob+if0L/Ln6Bfra+cH5Pvku+Pr2RvZX9s/2GvcI97L2+/Wz9EXzt/KR8x/1UvYV9y747vm4+wT9BP7z/mz/Kf/s/rX/LwHkASsBGQDn/zsA5f/G/iL+1P4pANsAgACV/5L+pf0N/SP90f1x/mz+x/3//H78UPwr/K37qvpl+V34ufcd9y/2GfVK9OPzvPPg85z06vUo98P39veG+Mf5Rvti/PX8Mf0c/Zb8yPtM+6X7uvzu/bj+Ff9T/5r/wf+R/wr/P/4V/WX7avnN9xH3G/dz9+L3gPhS+SX66PrS+/T8AP66/mb/bACgAWICgAJ/AuMChQPsA/gDygM7AwYCYgD9/iL+aP1w/J/7ovtg/Ov8kPyh+w37bvuh/CX+j/+vAHsB6QH3Ac0BwQEgAvYCFwRbBaAGmQfZB0oHWAZ4BbQE5gMrA68CGgLOAN/+OP2E/Ev8tfvb+pz6OPvn+/r7xPvr+2T8rvzP/FD9SP4j/2z/Tf/4/jr+A/3l+3b7e/tQ+/76H/uw+9H7A/sF+t/5hfoe+2X79Psx/aH+rP9tAFsBaAImA34D0QNGBF8EhgOqAVb/Mv2e+4/6tPnI+M333Pba9ZH0H/P58WXxSvGq8fzyh/Wo+C/7j/w//ej9sv6R/7MAPgK9A3IENASOAw4DxAJ+AjEC4wF7AdgA///x/qP9NvwZ+6v6xvro+tD6rfq7+vf6Qvue+w38ePzb/FP93P0t/h3+Fv7A/i8AnwEwAsABzwDU/+n+Jv7O/fT9Kf7H/az8VPsy+h/5ovfJ9Vf0BPSx9K31jPZ39534uPlh+rH6Sfuv/N3+UQFvA6UElARNA2cBov9r/rv9Wf0d/eD8WPwv+2j5mfeo9hL3efjr+cL6C/sb+/L6UPpI+XX4ZPgX+Tb6g/vT/Mj9AP6Z/R390PxV/Fb7RfoH+ub6Ovwz/bX9K/67/g7/2f5H/qX99/wX/ET7I/sN/H79hf7W/hL/8v9MAU4CjAJjAi8CmgElADP+2/y1/C/9c/1z/ar9JP5I/qv9m/y4+1z7kvtX/Jr9Kf/RAHoC7QPMBAUFHAWfBXkGHgdoB64HDggZCIMHqgboBcsEmAJ2/4L8pPrV+aP53/ls+uT67/rM+gD7r/ud/ML9Xv9oAWcD7QTxBZAGxwbABgEH6gcpCQQKBgouCZkHcAUjAzsBw/9A/mf8lvph+e74/fhI+Yn5Uvlq+FP3B/cB+Nn53/vU/cP/kQEKAzMELgXQBb0F/QQ/BDwEDwUxBv0GCwdHBvcEkANPAu0A9/6F/Hf6zfnE+qn8e/61/4AAWQGFAuwDVgW9BkQI9AmdC/oM3Q0ZDnIN4AvJCcwHLwa8BDkD0wHgAGEADQDd/xEAtAAsAdQAxv/F/mP+h/7l/oz/qAABAiMD+wPkBO8FlwZ4BvQFyQUjBn0GdQY2BgQGwQUvBWIEiAOAAhIBh/+O/nT+0P4c/0b/hv/t/3YAOgE1AgkDXwN5A+cDugRiBXYFLAW+BO4DjAIiAYYAzAA/AWABWwFXAd4Ad/97/cv71fpP+uv5zPk0+iD7ZPzm/Yr/IAGTAgsEsQVxBx8JtAolDCUNVg22DJ8LTAqoCK4GqwT+ArkBvQAWAO//OACjAPsAYwEWAhAD+wNnBBgEQwN/AlMCwgJlA/gDpQSOBVUGYgajBbMEGQSdA6cCGgGR/6f+QP6y/ZH8Lfs3+gj6ZPrq+p370fyg/qUAbAL0A4YFFAcKCPUHNwe1BvAGlgcgCHYI0wgpCQcJLwjwBsUF0QTeA9MC1wETAYQAHADc/7X/hP9P/2n/HAAuAQoCfQL9AhYEtAUxBw4IWghlCFEIDQiGB7kGnwU2BJsCBQGs/7z+Zv7E/rT/5wAwApoDJgWPBnoH2gcRCJMIignOChUMHQ2wDagN/AzIC1oKEgkbCC0HywXlAwcCuwDZ/7L+Af1G+xP6Svlo+F73qvan9if38vc8+Uf7wf31/5kBEgO3BD8GGwc9Bz0HrQd+CCMJJwmiCBYI7QcFCM8H0wYkBTcDaAHR/4H+pP08/fv8iPz2+7j7IfwM/Rf+Ev8iAIYBSwM1BdoG3AcQCHcHJgY9BPwByP/5/a/81/tY+yH7Dvvg+nX67vmH+Wf5kfkK+tv66fvs/Lj9ef6G/+8AYgKUA64EAQZ6B4oIzwiJCD0I/gdSB+oFHwSjAscBPwF+ADr/kf3v+776Hvro+fr5Z/pJ+3r8qv21/qb/XwCbAEsA1P+c/6T/xP8hAOwAyQH0ASsBBwAo/3b+of38/DP9P/49/4H/Tf8Y/7v+z/2p/Dj82vz8/RP/bgChAmAFlQeNCI4IKgh4B0YGtgQ1A9sBVwB5/ov84/p1+R34K/ct9yr4gPmp+tf7cf04/3YA+gBsAXoCBQRjBSwGeQaNBpcGwQYiB3wHawffBioGhgXZBBAETgOTAoYBCQCn/uj9gP24/K77V/sK/OP8F/0s/Rj+kf9kAFgAkAC8AfwCWANqA3QEKQayBh4FqgIUAYoABQAP/yf+nv0M/SX8SPvY+pP6H/rI+SD6D/vj+0r8rPxz/Yr+vP8MAWwCXgOCAzYDJAM+A8kCfAEIADn/Av/V/oz+cf6R/p7+iP6Z/tz+7P6+/gf/VQAZAkUDygOlBGEGLQjnCIkI6Qd5B+MG7QX6BHUELwS0A9cCqAEUABr+F/yG+mr5dvi396P3Tvgk+bT5YPq3+3L9vv6F/7sACQOeBQEHyAb/BdYFWwawBikG2gRKA/QBDwF+AOj/Af/T/aP8i/ts+kH5Ufjp9xD4nPhz+X36c/sM/Hf8Pv2a/goA6QAwAWEBqAGNAbgAmP/l/p7+8/1p/JT6ZfkI+en4x/gg+T/6Y/uB+636JvrA+uH7f/yp/GT9HP/4AAMCTgKHAsUCdwJ+AZkAewDgAAMBnwAFAF//U/6g/Jn6x/gx93n1lvM08g3yCvNJ9P70L/V19Sn2Ifcm+GD5+PqM/HH9if19/ev9nf7p/pf+Ev6z/U/9jfxq+yT66/jf9zT3D/dK95/3DfjJ+NX58Pry++f8wP09/mb+zP7c/x8BpwErAVIAov+9/hH94/oP+dT3h/a19PDyEvIG8uTxM/GB8InwRfE/8m3zNPWc9wb67/t//RL/bQAJAe4A6QCRAaQCfwPrAwMEkQMxAhUAGP60/Gv7nPmU9zn2yvWf9SP1evTc8wXzvPGd8Jvw3/Gz85n1zfeL+mL9r/9oAd4CDgSvBMgEsgRzBLUDegJfAc4AaQCP/zH+o/zl+q74PPZq9MXz//N+9CT1HPZF92P4t/nX+7/+igFdAzAEdQRCBFcD4AGYAPP/lP/y/iX+sP2M/fj8cvt9+Rf4o/fB9xf4ufi0+a/6WPvk+6f8bf3K/f795/7RAOkCQwQCBdkFuAbGBsAFkgQZBNsDqQI6AHv9XPvz+ej4F/h197X2tvX/9Fr10PZt+Dr5OPk/+Rj64/sl/kcABQJ6A+IETwamB9kI9gneCjULuwqqCYEIeAdSBskE8QIQAU//p/0a/L36sfkd+SD5wPnW+i38n/0B/x8A6gCrAc4CbwRFBgMIjwnVCpkLtgtQC4gKIQncBiAE3AF7AGP/wf2s+wz6ePmT+az5lfmu+Tz6K/tE/G79nf6z/5YARgHhAakC5wObBTAHyQcVB6sFagSRA8YC5AFeAaMBeAIyA34DeQMlAygCYABm/h/95PxA/Zz90f38/RP+5f2C/Ub9d/0G/rn+gP9uAIEBgwJCA7ID4QPSA4UDCQN8AuMBLQFfALb/ef+y/x4AgADiAHEBLgLoApADYASNBfcGSghRCQAKSgoRCmEJaQhHBwcG+ASgBBYFmgU/BeMDOALSAJv/W/5Z/RD9kP2G/sf/agFrA4kFlAdyCdcKeguwC0IMVw3/DVsN3guvCgYKBwlWB9AFKQWdBO8CTAA2/nb9Nf1b/BP7WPqF+iX77vse/cL+YQCiAcYCKwSlBcMGjQd+CMwJJgs6DCANFg4AD3APFA8LDsAMmguuCsUJpwh/B70GiAZYBnAFsAPIAXUAtv/o/pb9/vvW+qT6UPtT/D39H/5d/xABwwLlA3kE/wSVBZQFbQSqAqEBEAJvA9UEEwZyB7oIHglKCPQG+QVSBXMEYwPzAqwDGAVfBjkH7AeSCN4ImAgECJsHlAfLBwgILAg3CDUIJQjeBykHCAbNBM8DKwPNApkCZALwATcBmAB4AK0ApAA2APz/eQBWAbcBWwHdAM0A+QDfAHYAJQAlAEcAYgCNAOIARgGcAesBOAJiAm0CvQKwAwYFDgaRBjAHhwg2ChcLjQoqCfAHMQeMBr0F+QRpBMIDvAKkASIBXgHTAQAC+wEVAjUC8gErAUUAsv+C/4j/q//2/1oAnAB9APX/PP+Y/gL+Cf1U+1D5I/id+Fz6PPyK/YX+sf8TAU8CIAOOA7gDxgPkAx0ETARkBKUENAWvBXsFngTBA1QDHAPbAucCjQMyBNMDawIyASkB5AEzApwBswAOAIP/oP55/Zv8VfxV/Az8Wfu5+sH6aPv5+9n7SPsb+6v7Wvxt/Cr8qvyA/tcASQJdAu0BAwKgAuECLQLpAOX/bf87/xX/Lf+y/28ADQF9AeoBUgKJApQCqQK3AmQCnwHuAMgA6gC7ADAA2f/b/33/Av6c+zX5aPcj9kb1D/W79QX3Wvhw+Xr6uvsa/Sr+h/5A/un9Gv68/gr/cf5k/fD8gf1g/rD+iv6v/lL/w/9l/5P+I/5U/pn+av7Z/UH9zfyW/N780P0M/+T/DgDs/+7/EgAPAOD/zv8JAIUAQwF1AikE3gXLBp0GyAUJBaIEQASYA90CZQIIAiwBpP8Y/kP9/fx3/H372fpN+5D81/30/lwAGQJ6AyEEsgT9BcwHHgmACX8JwQkrCjgKsAnFCKMHXAYRBekD5gLvAf0A9f+Q/tX8hvuj+zb9Iv9tAGgB+wIcBakG4QZlBlgG6gZPB/IGMAasBWkF2gSyA0cCKQGSAGEAZwCaAOsAJwEaAc4AiwCKALQAzgDWABQBrAFKAlYCnAGcAC0AuwDyARMDoAOwA7MD+QNtBNMEJwWoBYMGegcGCNgHKAdxBvIFkAU3BR0FdAX/BSYGoQXGBBwEswMyA4ICHAKUAuMDXgVcBrgGqgZFBloF3QM8AjQBOwEcAi8D1AO+A+wCqQF9ANz/u/+g/0j/EP9y/zcAqgCKAJAAjAFkA1MFBQfiCB8LCQ21DSMNOgymCyULJAq1CIkHDQfzBrMGQgYPBlMGuwbOBn8GJQb9BekFvwWVBY0FgwUxBZsEDgSmAxwDRQJ2ASsBXQGRAYsBjgHdAVMCsQIDA28D0APgA8ED4ANOBKcEsAS2BBIFlAXZBfAFNwalBr4GWAbhBb0FugWIBVsFoAU2BoYGYQZEBogGxAZdBm0FogRbBEwEHQT6A1MEPQVABsAGegagBZoEqQPCAtIBDAHPAC0BygFUAvAC8AM2BSoGdQZwBrMGVQfTB7oHIgdqBroF8QQSBHwDeQPBA7MDHwOXAsYCnwOGBBkFgAXgBQoG9QUkBg4HRwjfCJUILQhZCNQI9AijCFcINgjvB3EHKQdsB/IHQQhACBgI1weBB1IHfge6B4YH6AaGBs8GZgebBzsHpgY7Bv4FvAVDBXQEWQM1AmYBIQFNAZkBpgE+AaAAcAAaAUUCJANzA7UDZAQtBW0FGwXMBNIEywRJBG8DtwJXAi0CFAIOAhUCJwJyAkoD5gQmB6IJvgvgDOMMZQw/DKMM3wxNDCkLLwqrCTsJkAjXB0oHuwbfBd4EMQQCBO4DhgPBAvMBbwFQAXwBtAGpASoBPAAe/zL+2v06/gv/1P9fANEAMgE1AbIAMgB/AKIBvAInA00D7gPbBBwFSwQzA8QC7gL6ArcCpgIFA00D5gLqAegAJAB5/+P+rP4C/6z/QQCPAKAAlgCYAMcAJAGOAecBKAItAp8BOgA+/l38K/u5+qT6ffr++Sf5Qfi398v3bfhs+a76IfyX/dv+5//TAIkBvwFVAZAA3f9m/xL/wf5p/hL+3f0V/uz+IgApAbsBLgIRA4cEIwZWB9cHywekB9gHcwj4CNUICwgdB2EGpQWkBJYD4gJ+Av0BQQG2AK8A2gCmAP3/Sf/v/vr+U//d/0sANgCN/7n+If61/TP9u/yl/Of8+/ye/D78Wvy6/J78wPvK+pn6UPtU/B39wP2Z/q3/jwD2ACQBqAGxAsoDZwSABHsEgQQxBBgDSwFg/+b9Gv3o/An9Hv30/ML87Pxw/dP9xP2e/er9kP7U/jj+B/3Z++L66/ng+AT4n/e59y741Ph++QH6U/qb+gP7kvs2/Nj8Wf2X/Z39rf3x/SP+0P3y/Cj8JPz4/BH+yv7y/sX+mP6w/jP/EgADAZ8BygHVATAC5gKIA7wDpwOwA9gDrwMBAzYCyQGSAfEAu/+E/uz94v3k/bT9b/0Y/YL8tfsX+/H6EPsh+zf7q/uJ/Hj9M/7Y/oD/3P+A/47+xf2x/fX9nf0w/E/6D/nN+PD41Piz+Fb5//oH/af+vf+dAF0BuAGZAUkB7QBBABT/x/0C/eT84fyC/O/7mfuH+1T70vpq+rH6svvT/HT9lf24/Sz+t/4F/0j//v8QAYwBjABo/nn8u/vP+5P7f/oT+Rb4vffA9+f3SvgC+ev5yPp3+/L7Pvx6/O/8xP3B/nD/pf+t/87/0/9L/0X+bf0//Wn9Nf1y/Jz7I/vp+qL6bfqu+mT7Bvww/Cj8oPzp/Zb/3wBnAXgBpAEFAhQCOQF//4H9xPtk+nH5I/l2+cv5g/nQ+Hn4vPgB+d/40/hx+Vn6rvpo+lT6rfqp+s/5B/ly+bn6cPsV+6D61vof+576tfl7+f75NPqz+XP5ZvoO/B39B/1B/Db78vnH+Gr49Ph3+R35bvi5+E/6Bvyo/Fv8PPzb/Kf9x/0Q/QT8LvvG+t/6jfu4/Or9gf4p/ib9Dvw8+5f65/k9+ez4DflG+SL5jfjm96j3DvgB+SL68voZ+7v6YPps+sP6Gft0+yf8Tv2Y/pr/LQBUAP3/NP9s/jX+o/48/4X/Zf8A/3r+Hv5Y/jX/CgAZAHD/y/6J/jf+bf2b/Hb84/wU/bv8gPz5/Ln92/0z/XD8Jvw3/FP8fPzB/Nf8bfzG+4X7zfsS/PL71vtY/Ej9z/19/cj8T/wb/Or72vtQ/Db97P0V/gf+Kv5S/iv+Bf6V/v3/iQGSAh0DegOnA38DPAMwAyADcwIfAfP/ov8=\" type=\"audio/wav\" />\n",
       "                    Your browser does not support the audio element.\n",
       "                </audio>\n",
       "              "
      ],
      "text/plain": [
       "<IPython.lib.display.Audio object>"
      ]
     },
     "metadata": {},
     "output_type": "display_data"
    },
    {
     "data": {
      "text/html": [
       "\n",
       "                <audio  controls=\"controls\" >\n",
       "                    <source src=\"data:audio/wav;base64,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\" type=\"audio/wav\" />\n",
       "                    Your browser does not support the audio element.\n",
       "                </audio>\n",
       "              "
      ],
      "text/plain": [
       "<IPython.lib.display.Audio object>"
      ]
     },
     "metadata": {},
     "output_type": "display_data"
    }
   ],
   "source": [
    "ipd.display(ipd.Audio(data=inp, rate=16000))\n",
    "ipd.display(ipd.Audio(data=output.detach().numpy(), rate=16000))"
   ]
  },
  {
   "cell_type": "code",
   "execution_count": 246,
   "id": "a5caad69",
   "metadata": {},
   "outputs": [
    {
     "name": "stdout",
     "output_type": "stream",
     "text": [
      "3.135559558868408\n",
      "3.6690473556518555\n"
     ]
    }
   ],
   "source": [
    "print(pesq(16000, cleanaudio,output.detach().numpy(), 'wb')) #wide band for sample rate =16000\n",
    "print(pesq(fs,cleanaudio,output.detach().numpy(), 'nb')) # narrow band for sample rate =8000"
   ]
  },
  {
   "cell_type": "code",
   "execution_count": 348,
   "id": "6a25c012",
   "metadata": {},
   "outputs": [],
   "source": [
    "scipy.io.wavfile.write(\"F:\\\\ahmed\\\\Desktop\\\\noise reduction\\\\facebookresearch\\\\noisy_test\\\\seventh enhanced.wav\", 16000, output.detach().numpy())"
   ]
  },
  {
   "cell_type": "code",
   "execution_count": null,
   "id": "36eedfc0",
   "metadata": {},
   "outputs": [],
   "source": []
  }
 ],
 "metadata": {
  "kernelspec": {
   "display_name": "Python 3",
   "language": "python",
   "name": "python3"
  },
  "language_info": {
   "codemirror_mode": {
    "name": "ipython",
    "version": 3
   },
   "file_extension": ".py",
   "mimetype": "text/x-python",
   "name": "python",
   "nbconvert_exporter": "python",
   "pygments_lexer": "ipython3",
   "version": "3.7.9"
  }
 },
 "nbformat": 4,
 "nbformat_minor": 5
}
